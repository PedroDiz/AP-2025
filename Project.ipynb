{
  "cells": [
    {
      "cell_type": "markdown",
      "metadata": {
        "id": "25WcywhEl74u"
      },
      "source": [
        "#Imports"
      ]
    },
    {
      "cell_type": "code",
      "execution_count": null,
      "metadata": {
        "colab": {
          "base_uri": "https://localhost:8080/"
        },
        "id": "TVB2infcQJZc",
        "outputId": "93f87021-c756-4fc7-8e67-6b610bafee40"
      },
      "outputs": [
        {
          "output_type": "stream",
          "name": "stdout",
          "text": [
            "Collecting grad-cam\n",
            "  Downloading grad-cam-1.5.5.tar.gz (7.8 MB)\n",
            "\u001b[2K     \u001b[90m━━━━━━━━━━━━━━━━━━━━━━━━━━━━━━━━━━━━━━━━\u001b[0m \u001b[32m7.8/7.8 MB\u001b[0m \u001b[31m74.8 MB/s\u001b[0m eta \u001b[36m0:00:00\u001b[0m\n",
            "\u001b[?25h  Installing build dependencies ... \u001b[?25l\u001b[?25hdone\n",
            "  Getting requirements to build wheel ... \u001b[?25l\u001b[?25hdone\n",
            "  Preparing metadata (pyproject.toml) ... \u001b[?25l\u001b[?25hdone\n",
            "Requirement already satisfied: numpy in /usr/local/lib/python3.11/dist-packages (from grad-cam) (2.0.2)\n",
            "Requirement already satisfied: Pillow in /usr/local/lib/python3.11/dist-packages (from grad-cam) (11.2.1)\n",
            "Requirement already satisfied: torch>=1.7.1 in /usr/local/lib/python3.11/dist-packages (from grad-cam) (2.6.0+cu124)\n",
            "Requirement already satisfied: torchvision>=0.8.2 in /usr/local/lib/python3.11/dist-packages (from grad-cam) (0.21.0+cu124)\n",
            "Collecting ttach (from grad-cam)\n",
            "  Downloading ttach-0.0.3-py3-none-any.whl.metadata (5.2 kB)\n",
            "Requirement already satisfied: tqdm in /usr/local/lib/python3.11/dist-packages (from grad-cam) (4.67.1)\n",
            "Requirement already satisfied: opencv-python in /usr/local/lib/python3.11/dist-packages (from grad-cam) (4.11.0.86)\n",
            "Requirement already satisfied: matplotlib in /usr/local/lib/python3.11/dist-packages (from grad-cam) (3.10.0)\n",
            "Requirement already satisfied: scikit-learn in /usr/local/lib/python3.11/dist-packages (from grad-cam) (1.6.1)\n",
            "Requirement already satisfied: filelock in /usr/local/lib/python3.11/dist-packages (from torch>=1.7.1->grad-cam) (3.18.0)\n",
            "Requirement already satisfied: typing-extensions>=4.10.0 in /usr/local/lib/python3.11/dist-packages (from torch>=1.7.1->grad-cam) (4.13.2)\n",
            "Requirement already satisfied: networkx in /usr/local/lib/python3.11/dist-packages (from torch>=1.7.1->grad-cam) (3.5)\n",
            "Requirement already satisfied: jinja2 in /usr/local/lib/python3.11/dist-packages (from torch>=1.7.1->grad-cam) (3.1.6)\n",
            "Requirement already satisfied: fsspec in /usr/local/lib/python3.11/dist-packages (from torch>=1.7.1->grad-cam) (2025.3.2)\n",
            "Collecting nvidia-cuda-nvrtc-cu12==12.4.127 (from torch>=1.7.1->grad-cam)\n",
            "  Downloading nvidia_cuda_nvrtc_cu12-12.4.127-py3-none-manylinux2014_x86_64.whl.metadata (1.5 kB)\n",
            "Collecting nvidia-cuda-runtime-cu12==12.4.127 (from torch>=1.7.1->grad-cam)\n",
            "  Downloading nvidia_cuda_runtime_cu12-12.4.127-py3-none-manylinux2014_x86_64.whl.metadata (1.5 kB)\n",
            "Collecting nvidia-cuda-cupti-cu12==12.4.127 (from torch>=1.7.1->grad-cam)\n",
            "  Downloading nvidia_cuda_cupti_cu12-12.4.127-py3-none-manylinux2014_x86_64.whl.metadata (1.6 kB)\n",
            "Collecting nvidia-cudnn-cu12==9.1.0.70 (from torch>=1.7.1->grad-cam)\n",
            "  Downloading nvidia_cudnn_cu12-9.1.0.70-py3-none-manylinux2014_x86_64.whl.metadata (1.6 kB)\n",
            "Collecting nvidia-cublas-cu12==12.4.5.8 (from torch>=1.7.1->grad-cam)\n",
            "  Downloading nvidia_cublas_cu12-12.4.5.8-py3-none-manylinux2014_x86_64.whl.metadata (1.5 kB)\n",
            "Collecting nvidia-cufft-cu12==11.2.1.3 (from torch>=1.7.1->grad-cam)\n",
            "  Downloading nvidia_cufft_cu12-11.2.1.3-py3-none-manylinux2014_x86_64.whl.metadata (1.5 kB)\n",
            "Collecting nvidia-curand-cu12==10.3.5.147 (from torch>=1.7.1->grad-cam)\n",
            "  Downloading nvidia_curand_cu12-10.3.5.147-py3-none-manylinux2014_x86_64.whl.metadata (1.5 kB)\n",
            "Collecting nvidia-cusolver-cu12==11.6.1.9 (from torch>=1.7.1->grad-cam)\n",
            "  Downloading nvidia_cusolver_cu12-11.6.1.9-py3-none-manylinux2014_x86_64.whl.metadata (1.6 kB)\n",
            "Collecting nvidia-cusparse-cu12==12.3.1.170 (from torch>=1.7.1->grad-cam)\n",
            "  Downloading nvidia_cusparse_cu12-12.3.1.170-py3-none-manylinux2014_x86_64.whl.metadata (1.6 kB)\n",
            "Requirement already satisfied: nvidia-cusparselt-cu12==0.6.2 in /usr/local/lib/python3.11/dist-packages (from torch>=1.7.1->grad-cam) (0.6.2)\n",
            "Requirement already satisfied: nvidia-nccl-cu12==2.21.5 in /usr/local/lib/python3.11/dist-packages (from torch>=1.7.1->grad-cam) (2.21.5)\n",
            "Requirement already satisfied: nvidia-nvtx-cu12==12.4.127 in /usr/local/lib/python3.11/dist-packages (from torch>=1.7.1->grad-cam) (12.4.127)\n",
            "Collecting nvidia-nvjitlink-cu12==12.4.127 (from torch>=1.7.1->grad-cam)\n",
            "  Downloading nvidia_nvjitlink_cu12-12.4.127-py3-none-manylinux2014_x86_64.whl.metadata (1.5 kB)\n",
            "Requirement already satisfied: triton==3.2.0 in /usr/local/lib/python3.11/dist-packages (from torch>=1.7.1->grad-cam) (3.2.0)\n",
            "Requirement already satisfied: sympy==1.13.1 in /usr/local/lib/python3.11/dist-packages (from torch>=1.7.1->grad-cam) (1.13.1)\n",
            "Requirement already satisfied: mpmath<1.4,>=1.1.0 in /usr/local/lib/python3.11/dist-packages (from sympy==1.13.1->torch>=1.7.1->grad-cam) (1.3.0)\n",
            "Requirement already satisfied: contourpy>=1.0.1 in /usr/local/lib/python3.11/dist-packages (from matplotlib->grad-cam) (1.3.2)\n",
            "Requirement already satisfied: cycler>=0.10 in /usr/local/lib/python3.11/dist-packages (from matplotlib->grad-cam) (0.12.1)\n",
            "Requirement already satisfied: fonttools>=4.22.0 in /usr/local/lib/python3.11/dist-packages (from matplotlib->grad-cam) (4.58.1)\n",
            "Requirement already satisfied: kiwisolver>=1.3.1 in /usr/local/lib/python3.11/dist-packages (from matplotlib->grad-cam) (1.4.8)\n",
            "Requirement already satisfied: packaging>=20.0 in /usr/local/lib/python3.11/dist-packages (from matplotlib->grad-cam) (24.2)\n",
            "Requirement already satisfied: pyparsing>=2.3.1 in /usr/local/lib/python3.11/dist-packages (from matplotlib->grad-cam) (3.2.3)\n",
            "Requirement already satisfied: python-dateutil>=2.7 in /usr/local/lib/python3.11/dist-packages (from matplotlib->grad-cam) (2.9.0.post0)\n",
            "Requirement already satisfied: scipy>=1.6.0 in /usr/local/lib/python3.11/dist-packages (from scikit-learn->grad-cam) (1.15.3)\n",
            "Requirement already satisfied: joblib>=1.2.0 in /usr/local/lib/python3.11/dist-packages (from scikit-learn->grad-cam) (1.5.1)\n",
            "Requirement already satisfied: threadpoolctl>=3.1.0 in /usr/local/lib/python3.11/dist-packages (from scikit-learn->grad-cam) (3.6.0)\n",
            "Requirement already satisfied: six>=1.5 in /usr/local/lib/python3.11/dist-packages (from python-dateutil>=2.7->matplotlib->grad-cam) (1.17.0)\n",
            "Requirement already satisfied: MarkupSafe>=2.0 in /usr/local/lib/python3.11/dist-packages (from jinja2->torch>=1.7.1->grad-cam) (3.0.2)\n",
            "Downloading nvidia_cublas_cu12-12.4.5.8-py3-none-manylinux2014_x86_64.whl (363.4 MB)\n",
            "\u001b[2K   \u001b[90m━━━━━━━━━━━━━━━━━━━━━━━━━━━━━━━━━━━━━━━━\u001b[0m \u001b[32m363.4/363.4 MB\u001b[0m \u001b[31m4.4 MB/s\u001b[0m eta \u001b[36m0:00:00\u001b[0m\n",
            "\u001b[?25hDownloading nvidia_cuda_cupti_cu12-12.4.127-py3-none-manylinux2014_x86_64.whl (13.8 MB)\n",
            "\u001b[2K   \u001b[90m━━━━━━━━━━━━━━━━━━━━━━━━━━━━━━━━━━━━━━━━\u001b[0m \u001b[32m13.8/13.8 MB\u001b[0m \u001b[31m71.0 MB/s\u001b[0m eta \u001b[36m0:00:00\u001b[0m\n",
            "\u001b[?25hDownloading nvidia_cuda_nvrtc_cu12-12.4.127-py3-none-manylinux2014_x86_64.whl (24.6 MB)\n",
            "\u001b[2K   \u001b[90m━━━━━━━━━━━━━━━━━━━━━━━━━━━━━━━━━━━━━━━━\u001b[0m \u001b[32m24.6/24.6 MB\u001b[0m \u001b[31m60.0 MB/s\u001b[0m eta \u001b[36m0:00:00\u001b[0m\n",
            "\u001b[?25hDownloading nvidia_cuda_runtime_cu12-12.4.127-py3-none-manylinux2014_x86_64.whl (883 kB)\n",
            "\u001b[2K   \u001b[90m━━━━━━━━━━━━━━━━━━━━━━━━━━━━━━━━━━━━━━━━\u001b[0m \u001b[32m883.7/883.7 kB\u001b[0m \u001b[31m51.3 MB/s\u001b[0m eta \u001b[36m0:00:00\u001b[0m\n",
            "\u001b[?25hDownloading nvidia_cudnn_cu12-9.1.0.70-py3-none-manylinux2014_x86_64.whl (664.8 MB)\n",
            "\u001b[2K   \u001b[90m━━━━━━━━━━━━━━━━━━━━━━━━━━━━━━━━━━━━━━━━\u001b[0m \u001b[32m664.8/664.8 MB\u001b[0m \u001b[31m2.6 MB/s\u001b[0m eta \u001b[36m0:00:00\u001b[0m\n",
            "\u001b[?25hDownloading nvidia_cufft_cu12-11.2.1.3-py3-none-manylinux2014_x86_64.whl (211.5 MB)\n",
            "\u001b[2K   \u001b[90m━━━━━━━━━━━━━━━━━━━━━━━━━━━━━━━━━━━━━━━━\u001b[0m \u001b[32m211.5/211.5 MB\u001b[0m \u001b[31m5.4 MB/s\u001b[0m eta \u001b[36m0:00:00\u001b[0m\n",
            "\u001b[?25hDownloading nvidia_curand_cu12-10.3.5.147-py3-none-manylinux2014_x86_64.whl (56.3 MB)\n",
            "\u001b[2K   \u001b[90m━━━━━━━━━━━━━━━━━━━━━━━━━━━━━━━━━━━━━━━━\u001b[0m \u001b[32m56.3/56.3 MB\u001b[0m \u001b[31m15.8 MB/s\u001b[0m eta \u001b[36m0:00:00\u001b[0m\n",
            "\u001b[?25hDownloading nvidia_cusolver_cu12-11.6.1.9-py3-none-manylinux2014_x86_64.whl (127.9 MB)\n",
            "\u001b[2K   \u001b[90m━━━━━━━━━━━━━━━━━━━━━━━━━━━━━━━━━━━━━━━━\u001b[0m \u001b[32m127.9/127.9 MB\u001b[0m \u001b[31m7.5 MB/s\u001b[0m eta \u001b[36m0:00:00\u001b[0m\n",
            "\u001b[?25hDownloading nvidia_cusparse_cu12-12.3.1.170-py3-none-manylinux2014_x86_64.whl (207.5 MB)\n",
            "\u001b[2K   \u001b[90m━━━━━━━━━━━━━━━━━━━━━━━━━━━━━━━━━━━━━━━━\u001b[0m \u001b[32m207.5/207.5 MB\u001b[0m \u001b[31m5.6 MB/s\u001b[0m eta \u001b[36m0:00:00\u001b[0m\n",
            "\u001b[?25hDownloading nvidia_nvjitlink_cu12-12.4.127-py3-none-manylinux2014_x86_64.whl (21.1 MB)\n",
            "\u001b[2K   \u001b[90m━━━━━━━━━━━━━━━━━━━━━━━━━━━━━━━━━━━━━━━━\u001b[0m \u001b[32m21.1/21.1 MB\u001b[0m \u001b[31m75.9 MB/s\u001b[0m eta \u001b[36m0:00:00\u001b[0m\n",
            "\u001b[?25hDownloading ttach-0.0.3-py3-none-any.whl (9.8 kB)\n",
            "Building wheels for collected packages: grad-cam\n",
            "  Building wheel for grad-cam (pyproject.toml) ... \u001b[?25l\u001b[?25hdone\n",
            "  Created wheel for grad-cam: filename=grad_cam-1.5.5-py3-none-any.whl size=44284 sha256=e43fa46e9e0213cf0008dd500c17c565cd8339acca179fae3ef2bf27a36d8cd5\n",
            "  Stored in directory: /root/.cache/pip/wheels/bc/52/78/893c3b94279ef238f43a9e89608af648de401b96415bebbd1f\n",
            "Successfully built grad-cam\n",
            "Installing collected packages: ttach, nvidia-nvjitlink-cu12, nvidia-curand-cu12, nvidia-cufft-cu12, nvidia-cuda-runtime-cu12, nvidia-cuda-nvrtc-cu12, nvidia-cuda-cupti-cu12, nvidia-cublas-cu12, nvidia-cusparse-cu12, nvidia-cudnn-cu12, nvidia-cusolver-cu12, grad-cam\n",
            "  Attempting uninstall: nvidia-nvjitlink-cu12\n",
            "    Found existing installation: nvidia-nvjitlink-cu12 12.5.82\n",
            "    Uninstalling nvidia-nvjitlink-cu12-12.5.82:\n",
            "      Successfully uninstalled nvidia-nvjitlink-cu12-12.5.82\n",
            "  Attempting uninstall: nvidia-curand-cu12\n",
            "    Found existing installation: nvidia-curand-cu12 10.3.6.82\n",
            "    Uninstalling nvidia-curand-cu12-10.3.6.82:\n",
            "      Successfully uninstalled nvidia-curand-cu12-10.3.6.82\n",
            "  Attempting uninstall: nvidia-cufft-cu12\n",
            "    Found existing installation: nvidia-cufft-cu12 11.2.3.61\n",
            "    Uninstalling nvidia-cufft-cu12-11.2.3.61:\n",
            "      Successfully uninstalled nvidia-cufft-cu12-11.2.3.61\n",
            "  Attempting uninstall: nvidia-cuda-runtime-cu12\n",
            "    Found existing installation: nvidia-cuda-runtime-cu12 12.5.82\n",
            "    Uninstalling nvidia-cuda-runtime-cu12-12.5.82:\n",
            "      Successfully uninstalled nvidia-cuda-runtime-cu12-12.5.82\n",
            "  Attempting uninstall: nvidia-cuda-nvrtc-cu12\n",
            "    Found existing installation: nvidia-cuda-nvrtc-cu12 12.5.82\n",
            "    Uninstalling nvidia-cuda-nvrtc-cu12-12.5.82:\n",
            "      Successfully uninstalled nvidia-cuda-nvrtc-cu12-12.5.82\n",
            "  Attempting uninstall: nvidia-cuda-cupti-cu12\n",
            "    Found existing installation: nvidia-cuda-cupti-cu12 12.5.82\n",
            "    Uninstalling nvidia-cuda-cupti-cu12-12.5.82:\n",
            "      Successfully uninstalled nvidia-cuda-cupti-cu12-12.5.82\n",
            "  Attempting uninstall: nvidia-cublas-cu12\n",
            "    Found existing installation: nvidia-cublas-cu12 12.5.3.2\n",
            "    Uninstalling nvidia-cublas-cu12-12.5.3.2:\n",
            "      Successfully uninstalled nvidia-cublas-cu12-12.5.3.2\n",
            "  Attempting uninstall: nvidia-cusparse-cu12\n",
            "    Found existing installation: nvidia-cusparse-cu12 12.5.1.3\n",
            "    Uninstalling nvidia-cusparse-cu12-12.5.1.3:\n",
            "      Successfully uninstalled nvidia-cusparse-cu12-12.5.1.3\n",
            "  Attempting uninstall: nvidia-cudnn-cu12\n",
            "    Found existing installation: nvidia-cudnn-cu12 9.3.0.75\n",
            "    Uninstalling nvidia-cudnn-cu12-9.3.0.75:\n",
            "      Successfully uninstalled nvidia-cudnn-cu12-9.3.0.75\n",
            "  Attempting uninstall: nvidia-cusolver-cu12\n",
            "    Found existing installation: nvidia-cusolver-cu12 11.6.3.83\n",
            "    Uninstalling nvidia-cusolver-cu12-11.6.3.83:\n",
            "      Successfully uninstalled nvidia-cusolver-cu12-11.6.3.83\n",
            "Successfully installed grad-cam-1.5.5 nvidia-cublas-cu12-12.4.5.8 nvidia-cuda-cupti-cu12-12.4.127 nvidia-cuda-nvrtc-cu12-12.4.127 nvidia-cuda-runtime-cu12-12.4.127 nvidia-cudnn-cu12-9.1.0.70 nvidia-cufft-cu12-11.2.1.3 nvidia-curand-cu12-10.3.5.147 nvidia-cusolver-cu12-11.6.1.9 nvidia-cusparse-cu12-12.3.1.170 nvidia-nvjitlink-cu12-12.4.127 ttach-0.0.3\n"
          ]
        }
      ],
      "source": [
        "!pip install grad-cam"
      ]
    },
    {
      "cell_type": "code",
      "execution_count": null,
      "metadata": {
        "id": "vS8sDjV6Xcuv"
      },
      "outputs": [],
      "source": [
        "# Standard library\n",
        "import os\n",
        "import time\n",
        "import random\n",
        "from datetime import datetime\n",
        "\n",
        "# Data handling\n",
        "import requests\n",
        "import pandas as pd\n",
        "import numpy as np\n",
        "from PIL import Image\n",
        "from tqdm import tqdm\n",
        "\n",
        "# PyTorch & vision\n",
        "import torch\n",
        "import torch.nn as nn\n",
        "import torch.nn.functional as F\n",
        "from torch.utils.data import Dataset, DataLoader, WeightedRandomSampler\n",
        "import timm\n",
        "import torchvision.transforms as transforms\n",
        "from torch.optim import AdamW\n",
        "from torch.optim.lr_scheduler import CosineAnnealingLR\n",
        "import torch.nn as nn\n",
        "from torch.amp import autocast, GradScaler\n",
        "# Grad-CAM\n",
        "from pytorch_grad_cam import GradCAM\n",
        "from pytorch_grad_cam.utils.image import show_cam_on_image\n",
        "from pytorch_grad_cam.utils.model_targets import ClassifierOutputTarget\n",
        "\n",
        "\n",
        "# Scikit-learn metrics & utilities\n",
        "from sklearn.model_selection import train_test_split\n",
        "from sklearn.metrics import (\n",
        "    roc_auc_score, roc_curve,recall_score,\n",
        "    f1_score,\n",
        "    balanced_accuracy_score,\n",
        "    precision_recall_fscore_support,\n",
        "    classification_report,\n",
        "    precision_recall_curve,\n",
        "    confusion_matrix\n",
        ")\n",
        "\n",
        "# Plotting\n",
        "import matplotlib.pyplot as plt\n",
        "import seaborn as sns\n"
      ]
    },
    {
      "cell_type": "code",
      "execution_count": null,
      "metadata": {
        "id": "XyluRC2YKkBP"
      },
      "outputs": [],
      "source": [
        "import numpy as np\n",
        "from PIL import Image\n",
        "\n",
        "def shades_of_gray(img: Image.Image, illuminant: str = \"gray_world\", p: float = 6.0) -> Image.Image:\n",
        "    \"\"\"\n",
        "    Applies Shades-of-Gray color constancy to a PIL image.\n",
        "\n",
        "    Args:\n",
        "        img:      PIL.Image in RGB mode.\n",
        "        illuminant: Only \"gray_world\" is supported here.\n",
        "        p:        Minkowski norm power (commonly between 4 and 8).\n",
        "\n",
        "    Returns:\n",
        "        A new PIL.Image with color-corrected pixels.\n",
        "    \"\"\"\n",
        "    assert img.mode == \"RGB\", \"Image must be in RGB mode\"\n",
        "    # 1) Convert to float32 array, scale [0,1]\n",
        "    arr = np.asarray(img).astype(np.float32) / 255.0\n",
        "\n",
        "    # 2) Compute the Minkowski p‐norm per channel\n",
        "    #    m_c = ( mean( channel^p ) )^(1/p)\n",
        "    m = np.mean(arr**p, axis=(0,1))**(1.0/p)  # shape (3,)\n",
        "\n",
        "    # 3) Compute scaling factors so that after correction the illuminant is gray\n",
        "    #    scale = mean(m) / m_c\n",
        "    mean_m = np.mean(m)\n",
        "    scale = mean_m / m\n",
        "\n",
        "    # 4) Apply scales\n",
        "    arr_corrected = arr * scale[None,None,:]\n",
        "\n",
        "    # 5) Clip back to [0,1], convert to uint8\n",
        "    arr_corrected = np.clip(arr_corrected, 0.0, 1.0)\n",
        "    img_out = Image.fromarray((arr_corrected * 255).astype(np.uint8), mode=\"RGB\")\n",
        "    return img_out\n"
      ]
    },
    {
      "cell_type": "code",
      "execution_count": null,
      "metadata": {
        "colab": {
          "base_uri": "https://localhost:8080/"
        },
        "id": "B0GuramtlF8E",
        "outputId": "5e0c4871-f490-4c47-a56e-c305bdda5d63"
      },
      "outputs": [
        {
          "output_type": "stream",
          "name": "stdout",
          "text": [
            "python3: can't open file '/content/./prepare_data.py': [Errno 2] No such file or directory\n"
          ]
        }
      ],
      "source": [
        "PATH_SCRIPT = \"/prepare_data.py\"\n",
        "PATH_ZIP = \"./\"\n",
        "!python \"{PATH_SCRIPT}\" --zip_dir \"{PATH_ZIP}\" --output_dir data_v1"
      ]
    },
    {
      "cell_type": "markdown",
      "metadata": {
        "id": "p3pAAg87FQDg"
      },
      "source": [
        "# Dataset & Dataloaders"
      ]
    },
    {
      "cell_type": "markdown",
      "metadata": {
        "id": "1OeEz_3eYye7"
      },
      "source": [
        "The dataset is imbalanced, with the majority of images representing benign (non-cancerous) skin lesions."
      ]
    },
    {
      "cell_type": "code",
      "execution_count": null,
      "metadata": {
        "colab": {
          "base_uri": "https://localhost:8080/",
          "height": 407
        },
        "id": "CSNGhvtNYY_Z",
        "outputId": "7953742f-5409-476c-f850-84b222a3f397"
      },
      "outputs": [
        {
          "output_type": "display_data",
          "data": {
            "text/plain": [
              "<Figure size 600x400 with 1 Axes>"
            ],
            "image/png": "[encoded data removed]"
          },
          "metadata": {}
        }
      ],
      "source": [
        "df = pd.read_csv(\"data_v1/lesions_train.csv\")  # or lesions_val.csv, lesions.csv, etc.\n",
        "\n",
        "plt.figure(figsize=(6, 4))\n",
        "df['label'].value_counts().sort_index().plot(kind='bar', color=[\"skyblue\", \"salmon\"])\n",
        "\n",
        "plt.title(\"Class Distribution (Train Set)\")\n",
        "plt.xlabel(\"Class Label (0 = Benign, 1 = Malignant)\")\n",
        "plt.ylabel(\"Count\")\n",
        "plt.xticks(rotation=0)\n",
        "plt.grid(axis='y', linestyle='--', alpha=0.6)\n",
        "\n",
        "plt.tight_layout()\n",
        "plt.show()\n"
      ]
    },
    {
      "cell_type": "markdown",
      "metadata": {
        "id": "AhsbkyiC-JAY"
      },
      "source": [
        "This custom `SkinCancerDataset` class wraps our image DataFrame for PyTorch:\n",
        "\n",
        "- **`dataframe`**: Pandas DataFrame containing `file`, `patient`, and `label` columns.  \n",
        "- **`image_dir`**: Directory where the images (`<isic_id>.jpg`) are stored.  \n",
        "- **`transform`**: A `torchvision.transforms.Compose` object for preprocessing and (optionally) augmentations.  \n",
        "- **`return_filename`**: If `True`, `__getitem__` returns `(image, label, filename)`, useful for logging ."
      ]
    },
    {
      "cell_type": "code",
      "execution_count": null,
      "metadata": {
        "id": "LvPWGcm_jIaH"
      },
      "outputs": [],
      "source": [
        "class SkinCancerDataset(Dataset):\n",
        "    def __init__(self, dataframe, image_dir, transform=None, return_filename=False):\n",
        "        self.df = dataframe\n",
        "        self.image_dir = image_dir\n",
        "        self.transform = transform\n",
        "        self.return_filename = return_filename\n",
        "\n",
        "    def __len__(self):\n",
        "        return len(self.df)\n",
        "\n",
        "    def __getitem__(self, idx):\n",
        "        row = self.df.iloc[idx]\n",
        "        img_path = os.path.join(self.image_dir, row[\"file\"])\n",
        "        label = torch.tensor(row[\"label\"], dtype=torch.float32)\n",
        "        image = Image.open(img_path).convert(\"RGB\")\n",
        "        if self.transform:\n",
        "            image = self.transform(image)\n",
        "\n",
        "        if self.return_filename:\n",
        "            return image, label, row[\"file\"]\n",
        "        else:\n",
        "            return image, label"
      ]
    },
    {
      "cell_type": "markdown",
      "metadata": {
        "id": "L9FobtGl9C46"
      },
      "source": [
        "Augmentation and pre-processing"
      ]
    },
    {
      "cell_type": "code",
      "execution_count": null,
      "metadata": {
        "id": "QM0H8fNa7smy"
      },
      "outputs": [],
      "source": [
        "train_transform = transforms.Compose([\n",
        "   # transforms.Lambda(lambda img: shades_of_gray(img, illuminant=\"gray_world\", p=6.0)),\n",
        "    transforms.RandomResizedCrop(224),   # or 300 for B3\n",
        "    transforms.RandomHorizontalFlip(),\n",
        "    transforms.RandomVerticalFlip(),\n",
        "    transforms.RandomRotation(15),\n",
        "    transforms.ColorJitter(0.1, 0.1, 0.1),\n",
        "    transforms.ToTensor(),\n",
        "    transforms.Normalize([0.5]*3, [0.5]*3),\n",
        "])\n",
        "\n",
        "val_transform = transforms.Compose([\n",
        "   # transforms.Lambda(lambda img: shades_of_gray(img, illuminant=\"gray_world\", p=6.0)),\n",
        "    transforms.Resize(224),\n",
        "    transforms.CenterCrop(224),\n",
        "    transforms.ToTensor(),\n",
        "    transforms.Normalize([0.5]*3, [0.5]*3),\n",
        "])"
      ]
    },
    {
      "cell_type": "markdown",
      "metadata": {
        "id": "IF273kgGqWii"
      },
      "source": [
        "Wrap `SkinCancerDataset` in a PyTorch `DataLoader`"
      ]
    },
    {
      "cell_type": "code",
      "execution_count": null,
      "metadata": {
        "id": "hCM35q_KjQnn"
      },
      "outputs": [],
      "source": [
        "PATH = \"/content/ISIC_IMAGES\"\n",
        "\n",
        "# Load CSVs generated by prepare_data.py\n",
        "train_df = pd.read_csv(\"data_v1/lesions_train.csv\")\n",
        "val_df   = pd.read_csv(\"data_v1/lesions_val.csv\")\n",
        "test_df = pd.read_csv(\"data_v1/lesions_test.csv\")\n",
        "\n",
        "train_dataset = SkinCancerDataset(\n",
        "    train_df,\n",
        "    PATH,\n",
        "    transform=train_transform,\n",
        "    return_filename=False\n",
        ")\n",
        "\n",
        "# Compute weights for class-balanced sampling (60/40 ratio)\n",
        "p_m = train_df[\"label\"].mean()\n",
        "w_benign    = 0.6 / (1.0 - p_m)\n",
        "w_malignant = 0.4 / p_m\n",
        "\n",
        "sample_weights = train_df[\"label\"].map({\n",
        "    0: w_benign,\n",
        "    1: w_malignant\n",
        "}).values\n",
        "\n",
        "sampler = WeightedRandomSampler(\n",
        "    weights=sample_weights,\n",
        "    num_samples=len(sample_weights),\n",
        "    replacement=True\n",
        ")\n",
        "\n",
        "train_loader = DataLoader(\n",
        "    train_dataset,\n",
        "    batch_size=32,\n",
        "    sampler=sampler,\n",
        "    num_workers=2,\n",
        "    pin_memory=True\n",
        ")\n",
        "\n",
        "val_dataset = SkinCancerDataset(\n",
        "    val_df,\n",
        "    PATH,\n",
        "    transform=val_transform,\n",
        "    return_filename=True\n",
        ")\n",
        "\n",
        "val_loader = DataLoader(\n",
        "    val_dataset,\n",
        "    batch_size=32,\n",
        "    shuffle=False,\n",
        "    num_workers=2\n",
        ")\n",
        "\n",
        "\n",
        "test_dataset = SkinCancerDataset(\n",
        "    test_df,\n",
        "    PATH,\n",
        "    transform=val_transform,\n",
        "    return_filename=True\n",
        ")\n",
        "\n",
        "test_loader = DataLoader(\n",
        "    test_dataset,\n",
        "    batch_size=32,\n",
        "    shuffle=False,\n",
        "    num_workers=2\n",
        ")"
      ]
    },
    {
      "cell_type": "markdown",
      "metadata": {
        "id": "mVfnTjfJ7u-E"
      },
      "source": [
        "# Model, Loss, Optimizer & Scheduler"
      ]
    },
    {
      "cell_type": "markdown",
      "metadata": {
        "id": "r9G7fDq9_OIv"
      },
      "source": [
        "Focal Binary Cross‐Entropy (Focal BCE) loss down‐weights easy examples and focuses training on hard, misclassified samples.\n",
        "\n",
        "\n",
        "\n",
        "\n",
        "\n"
      ]
    },
    {
      "cell_type": "code",
      "execution_count": null,
      "metadata": {
        "id": "IW5o73pveE3S"
      },
      "outputs": [],
      "source": [
        "class FocalBCELoss(nn.Module):\n",
        "    def __init__(self, alpha=0.75, gamma=0.5, reduction=\"mean\", use_focal=True):\n",
        "        \"\"\"\n",
        "        alpha: weight for the positive (malignant) class (0 < alpha < 1)\n",
        "               smaller alpha → less emphasis on positives\n",
        "        gamma: focusing parameter (≥0), smaller → less focus on hard examples\n",
        "        reduction: 'mean' or 'sum'\n",
        "        use_focal: if False, falls back to plain BCEWithLogitsLoss\n",
        "        \"\"\"\n",
        "        super().__init__()\n",
        "        self.alpha = alpha\n",
        "        self.gamma = gamma\n",
        "        self.reduction = reduction\n",
        "        self.use_focal = use_focal\n",
        "\n",
        "        if self.use_focal:\n",
        "            # keep one BCE-with-logits loss per example for focal computation\n",
        "            self.bce = nn.BCEWithLogitsLoss(reduction='none')\n",
        "        else:\n",
        "            # if not using focal, just use standard BCEWithLogitsLoss with reduction\n",
        "            self.bce = nn.BCEWithLogitsLoss(reduction=self.reduction)\n",
        "\n",
        "    def forward(self, logits, targets):\n",
        "        # logits: raw model outputs (no sigmoid), shape [batch_size]\n",
        "        # targets: ground-truth labels (0.0 or 1.0), shape [batch_size]\n",
        "\n",
        "        if not self.use_focal:\n",
        "            # simple binary cross-entropy on logits\n",
        "            return self.bce(logits, targets)\n",
        "\n",
        "        # 1. Compute per-example BCE loss (no reduction)\n",
        "        bce_loss = self.bce(logits, targets)  # shape [batch_size]\n",
        "\n",
        "        # 2. Convert logits to probabilities in [0,1]\n",
        "        prob = torch.sigmoid(logits)          # shape [batch_size]\n",
        "\n",
        "        # 3. p_t: model's probability of the true class\n",
        "        #    for positive: prob; for negative: 1 - prob\n",
        "        p_t = prob * targets + (1 - prob) * (1 - targets)\n",
        "\n",
        "        # 4. alpha factor: alpha for positives, (1 - alpha) for negatives\n",
        "        alpha_factor = self.alpha * targets + (1 - self.alpha) * (1 - targets)\n",
        "\n",
        "        # 5. focal factor: (1 - p_t)^gamma — focuses on hard (uncertain) examples\n",
        "        focal_factor = (1 - p_t) ** self.gamma\n",
        "\n",
        "        # 6. Combine: alpha * focal * bce\n",
        "        loss = alpha_factor * focal_factor * bce_loss  # shape [batch_size]\n",
        "\n",
        "        # 7. Reduce to scalar\n",
        "        if self.reduction == \"mean\":\n",
        "            return loss.mean()\n",
        "        elif self.reduction == \"sum\":\n",
        "            return loss.sum()\n",
        "        else:\n",
        "            return loss  # return per-example losses if reduction is None\n"
      ]
    },
    {
      "cell_type": "markdown",
      "metadata": {
        "id": "y_qN0uzl_lXQ"
      },
      "source": [
        "**Training configuration:**  \n",
        "- **Loss:** Focal Binary Cross‐Entropy.  \n",
        "- **Optimizer:** AdamW (learning rate = 3e-4, weight decay = 1e-4).  \n",
        "- **LR Scheduler:** Cosine annealing over 30 epochs (`T_max=30`).  \n"
      ]
    },
    {
      "cell_type": "code",
      "execution_count": null,
      "metadata": {
        "id": "g8kyLdPs-RSX",
        "colab": {
          "base_uri": "https://localhost:8080/",
          "height": 156,
          "referenced_widgets": [
            "44aef92d50654c11ac0e2b1381356f72",
            "3d1d8de42f0849bf9788e289478e8bfa",
            "f638ba6378504fd9a9e6a2cb79086e23",
            "38d1f87310274329a63985e9ff882c4d",
            "576848c740094aac9b310c497da9bb03",
            "89830d71704449439a71a2e309dbca09",
            "e3f5c3ab67b94e409c72f51d704c8869",
            "6c7fad346ca740bfa807fc5be8399ce2",
            "e8cfee561f1d4ea9b3207603b7443535",
            "2003a0be287c4d16adb940d3b7a0ae3c",
            "8fd9c0423e814e6192edc836606a0746"
          ]
        },
        "outputId": "50638ad7-4875-4597-c8e3-bfede2f0826c"
      },
      "outputs": [
        {
          "output_type": "stream",
          "name": "stderr",
          "text": [
            "/usr/local/lib/python3.11/dist-packages/huggingface_hub/utils/_auth.py:94: UserWarning: \n",
            "The secret `HF_TOKEN` does not exist in your Colab secrets.\n",
            "To authenticate with the Hugging Face Hub, create a token in your settings tab (https://huggingface.co/settings/tokens), set it as secret in your Google Colab and restart your session.\n",
            "You will be able to reuse this secret in all of your notebooks.\n",
            "Please note that authentication is recommended but still optional to access public models or datasets.\n",
            "  warnings.warn(\n"
          ]
        },
        {
          "output_type": "display_data",
          "data": {
            "text/plain": [
              "model.safetensors:   0%|          | 0.00/21.4M [00:00<?, ?B/s]"
            ],
            "application/vnd.jupyter.widget-view+json": {
              "version_major": 2,
              "version_minor": 0,
              "model_id": "44aef92d50654c11ac0e2b1381356f72"
            }
          },
          "metadata": {}
        }
      ],
      "source": [
        "# — Hyper-parameters —\n",
        "n_epochs      = 20\n",
        "freeze_epochs = 3\n",
        "lr_head       = 3e-4\n",
        "lr_backbone   = 1e-4\n",
        "weight_decay  = 1e-4\n",
        "accum_steps   = 2  # 32 × 2 = effective batch 64\n",
        "\n",
        "# — Model, loss, device —\n",
        "model = timm.create_model(\n",
        "    \"efficientnet_b0\",# For b3 - efficientnet_b3\n",
        "    pretrained=True,\n",
        "    num_classes=1\n",
        ")\n",
        "criterion = FocalBCELoss(gamma=2, alpha=0.6)\n",
        "device    = torch.device(\"cuda\" if torch.cuda.is_available() else \"cpu\")\n",
        "model.to(device)\n",
        "\n",
        "# — 1) Freeze stem + block0 for warm-up —\n",
        "for p in model.conv_stem.parameters():\n",
        "    p.requires_grad = False\n",
        "for p in model.blocks[0].parameters():\n",
        "    p.requires_grad = False\n",
        "\n",
        "# — 2) Build optimizer with two LR groups —\n",
        "head_params     = list(model.classifier.parameters())\n",
        "backbone_params = [p for n, p in model.named_parameters() if \"classifier\" not in n]\n",
        "\n",
        "optimizer = AdamW(\n",
        "    [\n",
        "        {\"params\": head_params,     \"lr\": lr_head},\n",
        "        {\"params\": backbone_params, \"lr\": lr_backbone}\n",
        "    ],\n",
        "    weight_decay=weight_decay\n",
        ")\n",
        "\n",
        "# — 3) AMP scaler & scheduler —\n",
        "scaler    = GradScaler()\n",
        "scheduler = CosineAnnealingLR(optimizer, T_max=n_epochs)\n",
        "\n",
        "# — Reset GPU stats if on CUDA —\n",
        "if device.type == \"cuda\":\n",
        "    torch.cuda.reset_peak_memory_stats(device)\n"
      ]
    },
    {
      "cell_type": "markdown",
      "metadata": {
        "id": "_CPAWITFSNx3"
      },
      "source": [
        "# Training & Validation Helper Functions"
      ]
    },
    {
      "cell_type": "code",
      "execution_count": null,
      "metadata": {
        "id": "N4aLrmlUvyxz"
      },
      "outputs": [],
      "source": [
        "def rand_bbox(size, lam):\n",
        "    W = size[2]\n",
        "    H = size[3]\n",
        "    cut_rat = np.sqrt(1. - lam)\n",
        "    cut_w = int(W * cut_rat)\n",
        "    cut_h = int(H * cut_rat)\n",
        "\n",
        "    cx = np.random.randint(W)\n",
        "    cy = np.random.randint(H)\n",
        "\n",
        "    bbx1 = np.clip(cx - cut_w // 2, 0, W)\n",
        "    bby1 = np.clip(cy - cut_h // 2, 0, H)\n",
        "    bbx2 = np.clip(cx + cut_w // 2, 0, W)\n",
        "    bby2 = np.clip(cy + cut_h // 2, 0, H)\n",
        "\n",
        "    return bbx1, bby1, bbx2, bby2\n",
        "\n",
        "\n",
        "\n",
        "def apply_mixup_or_cutmix(x, y, alpha=0.2, mode=None):\n",
        "    \"\"\"\n",
        "    Applies MixUp or CutMix to a batch of images and labels.\n",
        "\n",
        "    Args:\n",
        "        x (Tensor): batch of images (B, C, H, W)\n",
        "        y (Tensor): batch of labels (B,)\n",
        "        alpha (float): beta distribution parameter\n",
        "        mode (str or None): 'mixup', 'cutmix', or None\n",
        "\n",
        "    Returns:\n",
        "        x_aug (Tensor): augmented images\n",
        "        y_a (Tensor): original labels\n",
        "        y_b (Tensor): shuffled labels\n",
        "        lam (float): mix ratio\n",
        "    \"\"\"\n",
        "    if mode is None:\n",
        "        return x, y, y, 1.0  # no mixup/cutmix\n",
        "\n",
        "    lam = np.random.beta(alpha, alpha)\n",
        "    rand_index = torch.randperm(x.size(0)).to(x.device)\n",
        "    y_a = y\n",
        "    y_b = y[rand_index]\n",
        "    x2 = x[rand_index]\n",
        "\n",
        "    if mode == 'mixup':\n",
        "        x = lam * x + (1 - lam) * x2\n",
        "    elif mode == 'cutmix':\n",
        "        bbx1, bby1, bbx2, bby2 = rand_bbox(x.size(), lam)\n",
        "        x[:, :, bbx1:bbx2, bby1:bby2] = x2[:, :, bbx1:bbx2, bby1:bby2]\n",
        "        lam = 1 - ((bbx2 - bbx1) * (bby1 - bby2) / (x.size(-1) * x.size(-2)))\n",
        "    else:\n",
        "        raise ValueError(f\"Invalid mode: {mode}\")\n",
        "\n",
        "    return x, y_a, y_b, lam\n",
        "\n",
        "def apply_random_mix(x, y, alpha=0.4, prob_mixup=0.5, prob_cutmix=0.3):\n",
        "    \"\"\"\n",
        "    Randomly applies MixUp, CutMix, or nothing to the batch.\n",
        "    \"\"\"\n",
        "    p = np.random.rand()\n",
        "    if p < prob_mixup:\n",
        "        return apply_mixup_or_cutmix(x, y, alpha, mode=\"mixup\")\n",
        "    elif p < prob_mixup + prob_cutmix:\n",
        "        return apply_mixup_or_cutmix(x, y, alpha, mode=\"cutmix\")\n",
        "    else:\n",
        "        return x, y, y, 1.0  # no mixing\n"
      ]
    },
    {
      "cell_type": "code",
      "execution_count": null,
      "metadata": {
        "id": "DPyf0Em5jKrg"
      },
      "outputs": [],
      "source": [
        "def train_one_epoch(loader, model, criterion, optimizer, scaler, device, accum_steps, use_mixup=False):\n",
        "    model.train()\n",
        "    running_loss = 0.0\n",
        "    logits_all, probs_all, labels_all = [], [], []\n",
        "\n",
        "    optimizer.zero_grad()\n",
        "    pbar = tqdm(loader, desc=\"  [Train]   \", leave=False)\n",
        "    for i, (X, y) in enumerate(pbar):\n",
        "        X, y = X.to(device), y.to(device)\n",
        "\n",
        "        with autocast(device_type=\"cuda\"):\n",
        "            if use_mixup:\n",
        "                X_m, y_a, y_b, lam = apply_mixup_or_cutmix(X, y, mode=\"mixup\")\n",
        "                logits = model(X_m).squeeze()\n",
        "                raw_loss = lam * criterion(logits, y_a.float()) + (1 - lam) * criterion(logits, y_b.float())\n",
        "            else:\n",
        "                logits = model(X).squeeze()\n",
        "                raw_loss = criterion(logits, y.float())\n",
        "\n",
        "            loss = raw_loss / accum_steps\n",
        "\n",
        "        scaler.scale(loss).backward()\n",
        "\n",
        "        if (i + 1) % accum_steps == 0:\n",
        "            scaler.step(optimizer)\n",
        "            scaler.update()\n",
        "            optimizer.zero_grad()\n",
        "\n",
        "        batch_size = X.size(0)\n",
        "        running_loss += raw_loss.item() * batch_size\n",
        "        logits_all.extend(logits.detach().cpu().numpy())\n",
        "        probs_all.extend(torch.sigmoid(logits).detach().cpu().numpy())\n",
        "        labels_all.extend(y.cpu().numpy())\n",
        "\n",
        "        pbar.set_postfix({\n",
        "            \"loss\": f\"{raw_loss.item():.3f}\",\n",
        "            \"lr\": optimizer.param_groups[0]['lr']\n",
        "        })\n",
        "\n",
        "    if len(loader) % accum_steps != 0:\n",
        "        scaler.step(optimizer)\n",
        "        scaler.update()\n",
        "        optimizer.zero_grad()\n",
        "\n",
        "    avg_loss = running_loss / len(loader.dataset)\n",
        "    train_auroc = roc_auc_score(labels_all, probs_all)\n",
        "    return avg_loss, logits_all, probs_all, labels_all, train_auroc\n",
        "\n",
        "def validate_one_epoch(loader):\n",
        "    model.eval()\n",
        "    logits_all, labels_all, files_all = [], [], []\n",
        "\n",
        "    with torch.no_grad():\n",
        "        for X, y, fn in tqdm(loader, desc=\"  [Validate]\", leave=False):\n",
        "            X = X.to(device)\n",
        "            logits = model(X).squeeze()\n",
        "            logits_all.extend(logits.cpu().numpy())\n",
        "            labels_all.extend(y.numpy())\n",
        "            files_all.extend(fn)\n",
        "\n",
        "    y_true = np.array(labels_all)\n",
        "    y_prob = torch.sigmoid(torch.tensor(logits_all)).cpu().numpy()\n",
        "    val_loss = criterion(\n",
        "        torch.tensor(logits_all),\n",
        "        torch.tensor(labels_all)\n",
        "    ).item()\n",
        "    auroc    = roc_auc_score(y_true, y_prob)\n",
        "\n",
        "    return val_loss, auroc, y_true, y_prob, files_all\n"
      ]
    },
    {
      "cell_type": "markdown",
      "metadata": {
        "id": "sME-HYM5GGyC"
      },
      "source": [
        "#Main Training Loop"
      ]
    },
    {
      "cell_type": "markdown",
      "metadata": {
        "id": "D4skBpJI3dLo"
      },
      "source": [
        "**Note about early stop**: In imbalanced medical datasets, loss can decrease even when model performance on the minority class (malignant) degrades. This leads to misleadingly optimistic results. AUROC, on the other hand, evaluates the model's ability to separate the two classes regardless of class imbalance or threshold, making it a more reliable early stopping criterion in this context."
      ]
    },
    {
      "cell_type": "code",
      "execution_count": null,
      "metadata": {
        "colab": {
          "base_uri": "https://localhost:8080/"
        },
        "id": "8HIWeErPm2SX",
        "outputId": "665b640a-d772-48a0-ab1f-963ab12d0dc5"
      },
      "outputs": [
        {
          "metadata": {
            "tags": null
          },
          "name": "stdout",
          "output_type": "stream",
          "text": [
            "Starting training...\n",
            "\n",
            "--- Epoch 1/20 ---\n"
          ]
        },
        {
          "metadata": {
            "tags": null
          },
          "name": "stderr",
          "output_type": "stream",
          "text": [
            ""
          ]
        },
        {
          "metadata": {
            "tags": null
          },
          "name": "stdout",
          "output_type": "stream",
          "text": [
            "Train Loss: 0.2923 | Train AUROC: 0.8099\n",
            "Val   Loss: 0.2447 | Val   AUROC: 0.8247\n",
            "\n",
            "Epoch Time: 70.6 sec\n",
            "\n",
            "--- Epoch 2/20 ---\n"
          ]
        },
        {
          "metadata": {
            "tags": null
          },
          "name": "stderr",
          "output_type": "stream",
          "text": [
            ""
          ]
        },
        {
          "metadata": {
            "tags": null
          },
          "name": "stdout",
          "output_type": "stream",
          "text": [
            "Train Loss: 0.1635 | Train AUROC: 0.8251\n",
            "Val   Loss: 0.1195 | Val   AUROC: 0.8422\n",
            "\n",
            "Epoch Time: 70.2 sec\n",
            "\n",
            "--- Epoch 3/20 ---\n"
          ]
        },
        {
          "metadata": {
            "tags": null
          },
          "name": "stderr",
          "output_type": "stream",
          "text": [
            ""
          ]
        },
        {
          "metadata": {
            "tags": null
          },
          "name": "stdout",
          "output_type": "stream",
          "text": [
            "Train Loss: 0.0923 | Train AUROC: 0.8436\n",
            "Val   Loss: 0.0681 | Val   AUROC: 0.8534\n",
            "\n",
            "Epoch Time: 68.9 sec\n",
            "\n",
            ">>> Unfreezing stem + block0 now\n",
            "--- Epoch 4/20 ---\n"
          ]
        },
        {
          "metadata": {
            "tags": null
          },
          "name": "stderr",
          "output_type": "stream",
          "text": [
            ""
          ]
        },
        {
          "metadata": {
            "tags": null
          },
          "name": "stdout",
          "output_type": "stream",
          "text": [
            "Train Loss: 0.0685 | Train AUROC: 0.8599\n",
            "Val   Loss: 0.0743 | Val   AUROC: 0.8594\n",
            "\n",
            "Epoch Time: 69.8 sec\n",
            "\n",
            "--- Epoch 5/20 ---\n"
          ]
        },
        {
          "metadata": {
            "tags": null
          },
          "name": "stderr",
          "output_type": "stream",
          "text": [
            ""
          ]
        },
        {
          "metadata": {
            "tags": null
          },
          "name": "stdout",
          "output_type": "stream",
          "text": [
            "Train Loss: 0.0634 | Train AUROC: 0.8625\n",
            "Val   Loss: 0.0546 | Val   AUROC: 0.8705\n",
            "\n",
            "Epoch Time: 70.4 sec\n",
            "\n",
            "--- Epoch 6/20 ---\n"
          ]
        },
        {
          "metadata": {
            "tags": null
          },
          "name": "stderr",
          "output_type": "stream",
          "text": [
            ""
          ]
        },
        {
          "metadata": {
            "tags": null
          },
          "name": "stdout",
          "output_type": "stream",
          "text": [
            "Train Loss: 0.0571 | Train AUROC: 0.8747\n",
            "Val   Loss: 0.0553 | Val   AUROC: 0.8901\n",
            "\n",
            "Epoch Time: 67.6 sec\n",
            "\n",
            "--- Epoch 7/20 ---\n"
          ]
        },
        {
          "output_type": "stream",
          "name": "stderr",
          "text": []
        },
        {
          "output_type": "stream",
          "name": "stdout",
          "text": [
            "Train Loss: 0.0553 | Train AUROC: 0.8845\n",
            "Val   Loss: 0.0489 | Val   AUROC: 0.8929\n",
            "\n",
            "Epoch Time: 69.7 sec\n",
            "\n",
            "--- Epoch 8/20 ---\n"
          ]
        },
        {
          "output_type": "stream",
          "name": "stderr",
          "text": []
        },
        {
          "output_type": "stream",
          "name": "stdout",
          "text": [
            "Train Loss: 0.0529 | Train AUROC: 0.8957\n",
            "Val   Loss: 0.0477 | Val   AUROC: 0.8949\n",
            "\n",
            "Epoch Time: 69.2 sec\n",
            "\n",
            "--- Epoch 9/20 ---\n"
          ]
        },
        {
          "output_type": "stream",
          "name": "stderr",
          "text": []
        },
        {
          "output_type": "stream",
          "name": "stdout",
          "text": [
            "Train Loss: 0.0513 | Train AUROC: 0.8892\n",
            "Val   Loss: 0.0506 | Val   AUROC: 0.9031\n",
            "\n",
            "Epoch Time: 70.0 sec\n",
            "\n",
            "--- Epoch 10/20 ---\n"
          ]
        },
        {
          "output_type": "stream",
          "name": "stderr",
          "text": []
        },
        {
          "output_type": "stream",
          "name": "stdout",
          "text": [
            "Train Loss: 0.0510 | Train AUROC: 0.8970\n",
            "Val   Loss: 0.0453 | Val   AUROC: 0.9033\n",
            "\n",
            "Epoch Time: 70.4 sec\n",
            "\n",
            "--- Epoch 11/20 ---\n"
          ]
        },
        {
          "output_type": "stream",
          "name": "stderr",
          "text": []
        },
        {
          "output_type": "stream",
          "name": "stdout",
          "text": [
            "Train Loss: 0.0477 | Train AUROC: 0.9025\n",
            "Val   Loss: 0.0439 | Val   AUROC: 0.9035\n",
            "\n",
            "Epoch Time: 71.4 sec\n",
            "\n",
            "--- Epoch 12/20 ---\n"
          ]
        },
        {
          "output_type": "stream",
          "name": "stderr",
          "text": []
        },
        {
          "output_type": "stream",
          "name": "stdout",
          "text": [
            "Train Loss: 0.0473 | Train AUROC: 0.9095\n",
            "Val   Loss: 0.0446 | Val   AUROC: 0.9091\n",
            "\n",
            "Epoch Time: 70.5 sec\n",
            "\n",
            "--- Epoch 13/20 ---\n"
          ]
        },
        {
          "output_type": "stream",
          "name": "stderr",
          "text": []
        },
        {
          "output_type": "stream",
          "name": "stdout",
          "text": [
            "Train Loss: 0.0472 | Train AUROC: 0.9073\n",
            "Val   Loss: 0.0477 | Val   AUROC: 0.9060\n",
            "\n",
            "Epoch Time: 69.8 sec\n",
            "\n",
            "--- Epoch 14/20 ---\n"
          ]
        },
        {
          "output_type": "stream",
          "name": "stderr",
          "text": []
        },
        {
          "output_type": "stream",
          "name": "stdout",
          "text": [
            "Train Loss: 0.0475 | Train AUROC: 0.9112\n",
            "Val   Loss: 0.0491 | Val   AUROC: 0.9065\n",
            "\n",
            "Epoch Time: 70.7 sec\n",
            "\n",
            "--- Epoch 15/20 ---\n"
          ]
        },
        {
          "output_type": "stream",
          "name": "stderr",
          "text": []
        },
        {
          "output_type": "stream",
          "name": "stdout",
          "text": [
            "Train Loss: 0.0449 | Train AUROC: 0.9129\n",
            "Val   Loss: 0.0478 | Val   AUROC: 0.9061\n",
            "\n",
            "Epoch Time: 68.5 sec\n",
            "\n",
            "--- Epoch 16/20 ---\n"
          ]
        },
        {
          "output_type": "stream",
          "name": "stderr",
          "text": []
        },
        {
          "output_type": "stream",
          "name": "stdout",
          "text": [
            "Train Loss: 0.0461 | Train AUROC: 0.9115\n",
            "Val   Loss: 0.0460 | Val   AUROC: 0.9048\n",
            "\n",
            "Epoch Time: 69.0 sec\n",
            "\n",
            "--- Epoch 17/20 ---\n"
          ]
        },
        {
          "output_type": "stream",
          "name": "stderr",
          "text": []
        },
        {
          "output_type": "stream",
          "name": "stdout",
          "text": [
            "Train Loss: 0.0485 | Train AUROC: 0.9080\n",
            "Val   Loss: 0.0476 | Val   AUROC: 0.9062\n",
            "\n",
            "Epoch Time: 69.4 sec\n",
            "\n",
            "--- Epoch 18/20 ---\n"
          ]
        },
        {
          "output_type": "stream",
          "name": "stderr",
          "text": []
        },
        {
          "output_type": "stream",
          "name": "stdout",
          "text": [
            "Train Loss: 0.0485 | Train AUROC: 0.9014\n",
            "Val   Loss: 0.0435 | Val   AUROC: 0.9052\n",
            "\n",
            "Epoch Time: 68.7 sec\n",
            "\n",
            "--- Epoch 19/20 ---\n"
          ]
        },
        {
          "output_type": "stream",
          "name": "stderr",
          "text": []
        },
        {
          "output_type": "stream",
          "name": "stdout",
          "text": [
            "Train Loss: 0.0457 | Train AUROC: 0.9114\n",
            "Val   Loss: 0.0436 | Val   AUROC: 0.9089\n",
            "\n",
            "Epoch Time: 69.1 sec\n",
            "\n",
            "--- Epoch 20/20 ---\n"
          ]
        },
        {
          "output_type": "stream",
          "name": "stderr",
          "text": [
            "                                                             "
          ]
        },
        {
          "output_type": "stream",
          "name": "stdout",
          "text": [
            "Train Loss: 0.0456 | Train AUROC: 0.9141\n",
            "Val   Loss: 0.0429 | Val   AUROC: 0.9065\n",
            "\n",
            "Epoch Time: 68.9 sec\n",
            "\n",
            "Best AUROC 0.9091 at epoch 12\n"
          ]
        },
        {
          "output_type": "stream",
          "name": "stderr",
          "text": [
            "\r"
          ]
        }
      ],
      "source": [
        "\n",
        "# — Metric & timing trackers —\n",
        "epoch_times       = []\n",
        "train_losses      = []\n",
        "train_aurocs      = []\n",
        "val_losses        = []\n",
        "val_aurocs        = []\n",
        "all_epoch_true    = []\n",
        "all_epoch_prob    = []\n",
        "all_epoch_files   = []\n",
        "best_val_auroc    = 0.0\n",
        "best_epoch        = 1\n",
        "\n",
        "print(\"Starting training...\\n\")\n",
        "\n",
        "for epoch in range(1, n_epochs + 1):\n",
        "    # — Unfreeze at start of epoch 4 —\n",
        "    if epoch == freeze_epochs + 1:\n",
        "        print(\">>> Unfreezing stem + block0 now\")\n",
        "        for p in model.conv_stem.parameters():\n",
        "            p.requires_grad = True\n",
        "        for p in model.blocks[0].parameters():\n",
        "            p.requires_grad = True\n",
        "        # no need to rebuild optimizer; param-groups are already set\n",
        "\n",
        "    start = time.time()\n",
        "    print(f\"--- Epoch {epoch}/{n_epochs} ---\")\n",
        "\n",
        "    # === Train (with AMP & grad-acc inside train_one_epoch) ===\n",
        "    train_loss, logits, probs, labels, train_auroc = train_one_epoch(\n",
        "        train_loader,\n",
        "        model,\n",
        "        criterion,\n",
        "        optimizer,\n",
        "        scaler,\n",
        "        device,\n",
        "        accum_steps,\n",
        "    )\n",
        "    train_losses.append(train_loss)\n",
        "    train_aurocs.append(train_auroc)\n",
        "\n",
        "    # === Validate ===\n",
        "    val_loss, val_auroc, y_true, y_prob, val_files = validate_one_epoch(val_loader)\n",
        "    val_losses.append(val_loss)\n",
        "    val_aurocs.append(val_auroc)\n",
        "\n",
        "    # === Store raw predictions for thresholding later ===\n",
        "    all_epoch_true.append(y_true)\n",
        "    all_epoch_prob.append(y_prob)\n",
        "    all_epoch_files.append(val_files)\n",
        "\n",
        "    # === Print summary ===\n",
        "    print(f\"Train Loss: {train_loss:.4f} | Train AUROC: {train_auroc:.4f}\")\n",
        "    print(f\"Val   Loss: {val_loss:.4f} | Val   AUROC: {val_auroc:.4f}\\n\")\n",
        "\n",
        "    # === Scheduler step ===\n",
        "    scheduler.step()\n",
        "\n",
        "    # === Timing ===\n",
        "    elapsed = time.time() - start\n",
        "    epoch_times.append(elapsed)\n",
        "    print(f\"Epoch Time: {elapsed:.1f} sec\\n\")\n",
        "\n",
        "    # === Save best model ===\n",
        "    if val_auroc > best_val_auroc:\n",
        "        best_val_auroc = val_auroc\n",
        "        best_epoch     = epoch\n",
        "        torch.save(model.state_dict(), \"checkpoints/best_model.pt\")\n",
        "\n",
        "print(f\"Best AUROC {best_val_auroc:.4f} at epoch {best_epoch}\")\n"
      ]
    },
    {
      "cell_type": "markdown",
      "metadata": {
        "id": "-a0GHblqGSJo"
      },
      "source": [
        "#Learning Curves & Helper functions and Metric analysis"
      ]
    },
    {
      "cell_type": "code",
      "execution_count": null,
      "metadata": {
        "id": "l6pBx2CDn3sA"
      },
      "outputs": [],
      "source": [
        "history = pd.DataFrame({\n",
        "    \"epoch\":       list(range(1, n_epochs+1)),\n",
        "    \"train_loss\":  train_losses,\n",
        "    \"train_auroc\": train_aurocs,\n",
        "    \"val_loss\":    val_losses,\n",
        "    \"val_auroc\":   val_aurocs,\n",
        "})\n",
        "\n"
      ]
    },
    {
      "cell_type": "code",
      "execution_count": null,
      "metadata": {
        "colab": {
          "base_uri": "https://localhost:8080/"
        },
        "id": "RbHUTaiC1kWb",
        "outputId": "a4c0a4c1-e926-43fe-f5ac-a2f87215cd33"
      },
      "outputs": [
        {
          "output_type": "stream",
          "name": "stdout",
          "text": [
            "Best AUROC:   0.9091 at epoch 12\n"
          ]
        }
      ],
      "source": [
        "best_auroc_epoch   = history[\"val_auroc\"].idxmax() + 1\n",
        "print(f\"Best AUROC:   {history.val_auroc.max():.4f} at epoch {best_auroc_epoch}\")\n",
        "best_epoch = best_auroc_epoch\n"
      ]
    },
    {
      "cell_type": "markdown",
      "metadata": {
        "id": "6PA9zoj1oSGt"
      },
      "source": [
        "**Loss vs. Epoch**"
      ]
    },
    {
      "cell_type": "code",
      "execution_count": null,
      "metadata": {
        "colab": {
          "base_uri": "https://localhost:8080/",
          "height": 490
        },
        "id": "0P7XIx3O_g9m",
        "outputId": "ca4b9831-f351-432b-e441-0afec9960743"
      },
      "outputs": [
        {
          "output_type": "display_data",
          "data": {
            "text/plain": [
              "<Figure size 640x480 with 0 Axes>"
            ]
          },
          "metadata": {}
        },
        {
          "output_type": "display_data",
          "data": {
            "text/plain": [
              "<Figure size 640x480 with 1 Axes>"
            ],
            "image/png": "[encoded data removed]"
          },
          "metadata": {}
        }
      ],
      "source": [
        "plt.figure()\n",
        "plt.figure()\n",
        "plt.plot(history.epoch, history.train_loss, label=\"Train Loss\")\n",
        "plt.plot(history.epoch, history.val_loss,   label=\"Val   Loss\")\n",
        "plt.xlabel(\"Epoch\"); plt.ylabel(\"Loss\")\n",
        "plt.legend(); plt.title(\"Loss Curves\")\n",
        "plt.show()\n"
      ]
    },
    {
      "cell_type": "markdown",
      "metadata": {
        "id": "WrQJj-9hq59T"
      },
      "source": [
        "**AUROC vs. Epoch**"
      ]
    },
    {
      "cell_type": "code",
      "execution_count": null,
      "metadata": {
        "colab": {
          "base_uri": "https://localhost:8080/",
          "height": 472
        },
        "id": "JL5zx0IIq5F9",
        "outputId": "9357775c-300e-488c-a601-6616e76100ab"
      },
      "outputs": [
        {
          "output_type": "display_data",
          "data": {
            "text/plain": [
              "<Figure size 640x480 with 1 Axes>"
            ],
            "image/png": "[encoded data removed]"
          },
          "metadata": {}
        }
      ],
      "source": [
        "plt.figure()\n",
        "plt.plot(history.epoch, history.val_auroc,    label=\"Val   AUROC\")\n",
        "plt.plot(history.epoch, history.train_auroc,    label=\"Train   AUROC\")\n",
        "plt.xlabel(\"Epoch\"); plt.ylabel(\"Metric\")\n",
        "plt.legend(); plt.title(\"Val Metrics Over Epochs\")\n",
        "plt.show()\n"
      ]
    },
    {
      "cell_type": "markdown",
      "metadata": {
        "id": "YTePFEQcrSk-"
      },
      "source": [
        "##Threshold Analysis on Final Epoch"
      ]
    },
    {
      "cell_type": "code",
      "execution_count": null,
      "metadata": {
        "id": "BeMCCMo_JmYm"
      },
      "outputs": [],
      "source": [
        "def get_epoch_preds(epoch_idx, threshold=0.5):\n",
        "    \"\"\"\n",
        "    Returns (filenames, y_true, y_prob, y_pred) for epoch `epoch_idx` (0-based),\n",
        "    where y_pred is computed by thresholding y_prob.\n",
        "    \"\"\"\n",
        "    files  = all_epoch_files[epoch_idx]\n",
        "    y_true = np.array(all_epoch_true[epoch_idx])\n",
        "    y_prob = np.array(all_epoch_prob[epoch_idx])\n",
        "    y_pred = (y_prob >= threshold).astype(int)\n",
        "    return files, y_true, y_prob, y_pred"
      ]
    },
    {
      "cell_type": "markdown",
      "metadata": {
        "id": "gpHsPagYr7Xj"
      },
      "source": [
        "**ROC Curve with Youden Poin**"
      ]
    },
    {
      "cell_type": "code",
      "execution_count": null,
      "metadata": {
        "colab": {
          "base_uri": "https://localhost:8080/",
          "height": 472
        },
        "id": "hX73-1W6rxZR",
        "outputId": "f07f5bb9-40e6-43f2-fb29-3a918dd074ed"
      },
      "outputs": [
        {
          "output_type": "display_data",
          "data": {
            "text/plain": [
              "<Figure size 640x480 with 1 Axes>"
            ],
            "image/png": "[encoded data removed]"
          },
          "metadata": {}
        }
      ],
      "source": [
        "files, y_true, y_prob,_= get_epoch_preds(best_epoch - 1)\n",
        "\n",
        "fpr, tpr, thresholds = roc_curve(y_true, y_prob)\n",
        "J = tpr - fpr\n",
        "idx = J.argmax()\n",
        "youden_thresh = thresholds[idx]\n",
        "\n",
        "plt.figure()\n",
        "plt.plot(fpr, tpr, label=f\"ROC (AUROC={history.val_auroc.max():.3f})\")\n",
        "plt.scatter(fpr[idx], tpr[idx], color=\"red\", label=f\"Youden={youden_thresh:.2f}\")\n",
        "plt.xlabel(\"False Positive Rate\"); plt.ylabel(\"True Positive Rate\")\n",
        "plt.legend(); plt.title(\"ROC Curve with Youden Point\")\n",
        "plt.show()\n"
      ]
    },
    {
      "cell_type": "markdown",
      "metadata": {
        "id": "27ip4PgKsFz1"
      },
      "source": [
        "**Precision-Recall Curve**"
      ]
    },
    {
      "cell_type": "code",
      "execution_count": null,
      "metadata": {
        "colab": {
          "base_uri": "https://localhost:8080/",
          "height": 472
        },
        "id": "_xnwnQQdrxbt",
        "outputId": "4de5bd73-e833-408d-b328-827e1c03f5dc"
      },
      "outputs": [
        {
          "output_type": "display_data",
          "data": {
            "text/plain": [
              "<Figure size 640x480 with 1 Axes>"
            ],
            "image/png": "[encoded data removed]"
          },
          "metadata": {}
        }
      ],
      "source": [
        "precision, recall, _ = precision_recall_curve(y_true, y_prob)\n",
        "plt.figure()\n",
        "plt.plot(recall, precision)\n",
        "plt.xlabel(\"Recall\"); plt.ylabel(\"Precision\")\n",
        "plt.title(\"Precision-Recall Curve\")\n",
        "plt.show()"
      ]
    },
    {
      "cell_type": "markdown",
      "metadata": {
        "id": "O8oPU5dGsMti"
      },
      "source": [
        "**Confusion Matrices at Both Thresholds**"
      ]
    },
    {
      "cell_type": "code",
      "execution_count": null,
      "metadata": {
        "colab": {
          "base_uri": "https://localhost:8080/",
          "height": 428
        },
        "id": "VutXWLjnrxd_",
        "outputId": "174b6651-5176-4a94-bb41-ff5293ff8910"
      },
      "outputs": [
        {
          "output_type": "display_data",
          "data": {
            "text/plain": [
              "<Figure size 1000x400 with 4 Axes>"
            ],
            "image/png": "[encoded data removed]"
          },
          "metadata": {}
        }
      ],
      "source": [
        "fig, axes = plt.subplots(1, 2, figsize=(10,4))\n",
        "for ax, (thr, title) in zip(axes, [(0.5, \"Thresh=0.5\"), (youden_thresh, f\"Youden={youden_thresh:.2f}\")]):\n",
        "    cm = confusion_matrix(y_true, (y_prob >= thr).astype(\n",
        "      int))\n",
        "    sns.heatmap(cm, annot=True, fmt=\"d\", ax=ax,\n",
        "                xticklabels=[\"Benign\",\"Malignant\"], yticklabels=[\"Benign\",\"Malignant\"])\n",
        "    ax.set_title(title)\n",
        "    ax.set_xlabel(\"Predicted\"); ax.set_ylabel(\"True\")\n",
        "plt.suptitle(\"Confusion Matrices\")\n",
        "plt.show()\n"
      ]
    },
    {
      "cell_type": "markdown",
      "metadata": {
        "id": "qCJTBRaSsX77"
      },
      "source": [
        "##Validation Classification Reports"
      ]
    },
    {
      "cell_type": "code",
      "execution_count": null,
      "metadata": {
        "colab": {
          "base_uri": "https://localhost:8080/"
        },
        "id": "R1Jn1Bh6sZHn",
        "outputId": "9f5633ce-3fec-45ec-e21f-83e8bd99a59b"
      },
      "outputs": [
        {
          "output_type": "stream",
          "name": "stdout",
          "text": [
            "AUROC at epoch 12 = 0.9091\n",
            "--- Classification Report @ threshold = 0.50 ---\n",
            "              precision    recall  f1-score   support\n",
            "\n",
            "      Benign       0.96      0.79      0.87      1402\n",
            "   Malignant       0.45      0.86      0.59       292\n",
            "\n",
            "    accuracy                           0.80      1694\n",
            "   macro avg       0.71      0.82      0.73      1694\n",
            "weighted avg       0.88      0.80      0.82      1694\n",
            "\n",
            "Balanced Accuracy: 0.821\n",
            "Macro F1 Score:    0.729\n",
            "--- Classification Report @ threshold = 0.50 ---\n",
            "              precision    recall  f1-score   support\n",
            "\n",
            "      Benign       0.97      0.78      0.86      1402\n",
            "   Malignant       0.45      0.87      0.59       292\n",
            "\n",
            "    accuracy                           0.79      1694\n",
            "   macro avg       0.71      0.82      0.73      1694\n",
            "weighted avg       0.88      0.79      0.82      1694\n",
            "\n",
            "Balanced Accuracy: 0.823\n",
            "Macro F1 Score:    0.728\n"
          ]
        }
      ],
      "source": [
        "from sklearn.metrics import f1_score\n",
        "\n",
        "auroc_at_x = history.val_auroc.iloc[best_epoch - 1]\n",
        "print(f\"AUROC at epoch {best_epoch} = {auroc_at_x:.4f}\")\n",
        "\n",
        "for thr in [0.5, youden_thresh]:\n",
        "    print(f\"--- Classification Report @ threshold = {thr:.2f} ---\")\n",
        "    y_pred_thr = (y_prob >= thr).astype(int)\n",
        "    print(classification_report(y_true, y_pred_thr, target_names=[\"Benign\",\"Malignant\"]))\n",
        "\n",
        "    balacc = balanced_accuracy_score(y_true, y_pred_thr)\n",
        "    macro_f1 = f1_score(y_true, y_pred_thr, average=\"macro\")\n",
        "\n",
        "    print(f\"Balanced Accuracy: {balacc:.3f}\")\n",
        "    print(f\"Macro F1 Score:    {macro_f1:.3f}\")\n"
      ]
    },
    {
      "cell_type": "code",
      "execution_count": null,
      "metadata": {
        "colab": {
          "base_uri": "https://localhost:8080/",
          "height": 472
        },
        "id": "EVqyuFyc0RTf",
        "outputId": "d73d6922-bd72-4956-ff05-e892f58f7580"
      },
      "outputs": [
        {
          "output_type": "display_data",
          "data": {
            "text/plain": [
              "<Figure size 640x480 with 1 Axes>"
            ],
            "image/png": "[encoded data removed]"
          },
          "metadata": {}
        }
      ],
      "source": [
        "plt.plot(epoch_times, marker='o')\n",
        "plt.xlabel(\"Epoch\")\n",
        "plt.ylabel(\"Time (s)\")\n",
        "plt.title(\"Epoch Duration\")\n",
        "plt.grid(True)\n",
        "plt.show()"
      ]
    },
    {
      "cell_type": "code",
      "execution_count": null,
      "metadata": {
        "colab": {
          "base_uri": "https://localhost:8080/"
        },
        "id": "8u69UUmRVXdq",
        "outputId": "227e3a62-6919-46d0-aed7-4dd69619d7d0"
      },
      "outputs": [
        {
          "output_type": "stream",
          "name": "stdout",
          "text": [
            "\n",
            "--- Threshold = 0.50 ---\n",
            "Correct cancer diagnoses:     250/292 = 85.62%\n",
            "Correct non-cancer diagnoses: 1101/1402 = 78.53%\n",
            "\n",
            "--- Threshold = 0.50 ---\n",
            "Correct cancer diagnoses:     253/292 = 86.64%\n",
            "Correct non-cancer diagnoses: 1093/1402 = 77.96%\n"
          ]
        }
      ],
      "source": [
        "def print_correct_diagnoses(epoch_idx, thresholds=[0.50, 0.37]):\n",
        "    for thresh in thresholds:\n",
        "        print(f\"\\n--- Threshold = {thresh:.2f} ---\")\n",
        "        _, y_true, _, y_pred = get_epoch_preds(epoch_idx, threshold=thresh)\n",
        "\n",
        "        total_malignant = (y_true == 1).sum()\n",
        "        total_benign    = (y_true == 0).sum()\n",
        "\n",
        "        correct_malignant = ((y_true == 1) & (y_pred == 1)).sum()\n",
        "        correct_benign    = ((y_true == 0) & (y_pred == 0)).sum()\n",
        "\n",
        "        pct_malignant = 100 * correct_malignant / total_malignant\n",
        "        pct_benign    = 100 * correct_benign    / total_benign\n",
        "\n",
        "        print(f\"Correct cancer diagnoses:     {correct_malignant}/{total_malignant} = {pct_malignant:.2f}%\")\n",
        "        print(f\"Correct non-cancer diagnoses: {correct_benign}/{total_benign} = {pct_benign:.2f}%\")\n",
        "\n",
        "print_correct_diagnoses(epoch_idx=best_epoch-1, thresholds=[0.50, youden_thresh])\n"
      ]
    },
    {
      "cell_type": "markdown",
      "metadata": {
        "id": "muNjzs3_BWrT"
      },
      "source": [
        "#Test the model"
      ]
    },
    {
      "cell_type": "markdown",
      "metadata": {
        "id": "UO8YKxbDDf7i"
      },
      "source": [
        "## Helper Functions"
      ]
    },
    {
      "cell_type": "code",
      "execution_count": null,
      "metadata": {
        "id": "-UQ6bmF_f9hp"
      },
      "outputs": [],
      "source": [
        "def compute_auroc_ci(y_true, y_prob, n_bootstraps=1000, seed=42):\n",
        "    \"\"\"\n",
        "    Computes AUROC with a 95% confidence interval using bootstrapping.\n",
        "\n",
        "    Parameters:\n",
        "        y_true (array-like): Ground truth binary labels (0 or 1)\n",
        "        y_prob (array-like): Predicted probabilities\n",
        "        n_bootstraps (int): Number of bootstrap iterations\n",
        "        seed (int): Random seed for reproducibility\n",
        "\n",
        "    Returns:\n",
        "        auroc (float), ci_lower (float), ci_upper (float)\n",
        "    \"\"\"\n",
        "\n",
        "    y_true = np.array(y_true)\n",
        "    y_prob = np.array(y_prob)\n",
        "    auroc = roc_auc_score(y_true, y_prob)\n",
        "\n",
        "    rng = np.random.RandomState(seed)\n",
        "    bootstrapped_scores = []\n",
        "\n",
        "    for _ in range(n_bootstraps):\n",
        "        indices = rng.choice(len(y_true), size=len(y_true), replace=True)\n",
        "        if len(np.unique(y_true[indices])) < 2:\n",
        "            continue\n",
        "        score = roc_auc_score(y_true[indices], y_prob[indices])\n",
        "        bootstrapped_scores.append(score)\n",
        "\n",
        "    ci_lower = np.percentile(bootstrapped_scores, 2.5)\n",
        "    ci_upper = np.percentile(bootstrapped_scores, 97.5)\n",
        "\n",
        "    return auroc, ci_lower, ci_upper\n"
      ]
    },
    {
      "cell_type": "markdown",
      "metadata": {
        "id": "08pllGFdDkkw"
      },
      "source": [
        "##Test the model"
      ]
    },
    {
      "cell_type": "code",
      "execution_count": null,
      "metadata": {
        "id": "mr2_UE7TByC1"
      },
      "outputs": [],
      "source": [
        "THRESHOLD = youden_thresh"
      ]
    },
    {
      "cell_type": "code",
      "execution_count": null,
      "metadata": {
        "colab": {
          "base_uri": "https://localhost:8080/"
        },
        "collapsed": true,
        "id": "qY2L8qqJJver",
        "outputId": "a03e93f7-7cc4-48d4-d2b2-0a83e59f0f73"
      },
      "outputs": [
        {
          "output_type": "execute_result",
          "data": {
            "text/plain": [
              "EfficientNet(\n",
              "  (conv_stem): Conv2d(3, 32, kernel_size=(3, 3), stride=(2, 2), padding=(1, 1), bias=False)\n",
              "  (bn1): BatchNormAct2d(\n",
              "    32, eps=1e-05, momentum=0.1, affine=True, track_running_stats=True\n",
              "    (drop): Identity()\n",
              "    (act): SiLU(inplace=True)\n",
              "  )\n",
              "  (blocks): Sequential(\n",
              "    (0): Sequential(\n",
              "      (0): DepthwiseSeparableConv(\n",
              "        (conv_dw): Conv2d(32, 32, kernel_size=(3, 3), stride=(1, 1), padding=(1, 1), groups=32, bias=False)\n",
              "        (bn1): BatchNormAct2d(\n",
              "          32, eps=1e-05, momentum=0.1, affine=True, track_running_stats=True\n",
              "          (drop): Identity()\n",
              "          (act): SiLU(inplace=True)\n",
              "        )\n",
              "        (aa): Identity()\n",
              "        (se): SqueezeExcite(\n",
              "          (conv_reduce): Conv2d(32, 8, kernel_size=(1, 1), stride=(1, 1))\n",
              "          (act1): SiLU(inplace=True)\n",
              "          (conv_expand): Conv2d(8, 32, kernel_size=(1, 1), stride=(1, 1))\n",
              "          (gate): Sigmoid()\n",
              "        )\n",
              "        (conv_pw): Conv2d(32, 16, kernel_size=(1, 1), stride=(1, 1), bias=False)\n",
              "        (bn2): BatchNormAct2d(\n",
              "          16, eps=1e-05, momentum=0.1, affine=True, track_running_stats=True\n",
              "          (drop): Identity()\n",
              "          (act): Identity()\n",
              "        )\n",
              "        (drop_path): Identity()\n",
              "      )\n",
              "    )\n",
              "    (1): Sequential(\n",
              "      (0): InvertedResidual(\n",
              "        (conv_pw): Conv2d(16, 96, kernel_size=(1, 1), stride=(1, 1), bias=False)\n",
              "        (bn1): BatchNormAct2d(\n",
              "          96, eps=1e-05, momentum=0.1, affine=True, track_running_stats=True\n",
              "          (drop): Identity()\n",
              "          (act): SiLU(inplace=True)\n",
              "        )\n",
              "        (conv_dw): Conv2d(96, 96, kernel_size=(3, 3), stride=(2, 2), padding=(1, 1), groups=96, bias=False)\n",
              "        (bn2): BatchNormAct2d(\n",
              "          96, eps=1e-05, momentum=0.1, affine=True, track_running_stats=True\n",
              "          (drop): Identity()\n",
              "          (act): SiLU(inplace=True)\n",
              "        )\n",
              "        (aa): Identity()\n",
              "        (se): SqueezeExcite(\n",
              "          (conv_reduce): Conv2d(96, 4, kernel_size=(1, 1), stride=(1, 1))\n",
              "          (act1): SiLU(inplace=True)\n",
              "          (conv_expand): Conv2d(4, 96, kernel_size=(1, 1), stride=(1, 1))\n",
              "          (gate): Sigmoid()\n",
              "        )\n",
              "        (conv_pwl): Conv2d(96, 24, kernel_size=(1, 1), stride=(1, 1), bias=False)\n",
              "        (bn3): BatchNormAct2d(\n",
              "          24, eps=1e-05, momentum=0.1, affine=True, track_running_stats=True\n",
              "          (drop): Identity()\n",
              "          (act): Identity()\n",
              "        )\n",
              "        (drop_path): Identity()\n",
              "      )\n",
              "      (1): InvertedResidual(\n",
              "        (conv_pw): Conv2d(24, 144, kernel_size=(1, 1), stride=(1, 1), bias=False)\n",
              "        (bn1): BatchNormAct2d(\n",
              "          144, eps=1e-05, momentum=0.1, affine=True, track_running_stats=True\n",
              "          (drop): Identity()\n",
              "          (act): SiLU(inplace=True)\n",
              "        )\n",
              "        (conv_dw): Conv2d(144, 144, kernel_size=(3, 3), stride=(1, 1), padding=(1, 1), groups=144, bias=False)\n",
              "        (bn2): BatchNormAct2d(\n",
              "          144, eps=1e-05, momentum=0.1, affine=True, track_running_stats=True\n",
              "          (drop): Identity()\n",
              "          (act): SiLU(inplace=True)\n",
              "        )\n",
              "        (aa): Identity()\n",
              "        (se): SqueezeExcite(\n",
              "          (conv_reduce): Conv2d(144, 6, kernel_size=(1, 1), stride=(1, 1))\n",
              "          (act1): SiLU(inplace=True)\n",
              "          (conv_expand): Conv2d(6, 144, kernel_size=(1, 1), stride=(1, 1))\n",
              "          (gate): Sigmoid()\n",
              "        )\n",
              "        (conv_pwl): Conv2d(144, 24, kernel_size=(1, 1), stride=(1, 1), bias=False)\n",
              "        (bn3): BatchNormAct2d(\n",
              "          24, eps=1e-05, momentum=0.1, affine=True, track_running_stats=True\n",
              "          (drop): Identity()\n",
              "          (act): Identity()\n",
              "        )\n",
              "        (drop_path): Identity()\n",
              "      )\n",
              "    )\n",
              "    (2): Sequential(\n",
              "      (0): InvertedResidual(\n",
              "        (conv_pw): Conv2d(24, 144, kernel_size=(1, 1), stride=(1, 1), bias=False)\n",
              "        (bn1): BatchNormAct2d(\n",
              "          144, eps=1e-05, momentum=0.1, affine=True, track_running_stats=True\n",
              "          (drop): Identity()\n",
              "          (act): SiLU(inplace=True)\n",
              "        )\n",
              "        (conv_dw): Conv2d(144, 144, kernel_size=(5, 5), stride=(2, 2), padding=(2, 2), groups=144, bias=False)\n",
              "        (bn2): BatchNormAct2d(\n",
              "          144, eps=1e-05, momentum=0.1, affine=True, track_running_stats=True\n",
              "          (drop): Identity()\n",
              "          (act): SiLU(inplace=True)\n",
              "        )\n",
              "        (aa): Identity()\n",
              "        (se): SqueezeExcite(\n",
              "          (conv_reduce): Conv2d(144, 6, kernel_size=(1, 1), stride=(1, 1))\n",
              "          (act1): SiLU(inplace=True)\n",
              "          (conv_expand): Conv2d(6, 144, kernel_size=(1, 1), stride=(1, 1))\n",
              "          (gate): Sigmoid()\n",
              "        )\n",
              "        (conv_pwl): Conv2d(144, 40, kernel_size=(1, 1), stride=(1, 1), bias=False)\n",
              "        (bn3): BatchNormAct2d(\n",
              "          40, eps=1e-05, momentum=0.1, affine=True, track_running_stats=True\n",
              "          (drop): Identity()\n",
              "          (act): Identity()\n",
              "        )\n",
              "        (drop_path): Identity()\n",
              "      )\n",
              "      (1): InvertedResidual(\n",
              "        (conv_pw): Conv2d(40, 240, kernel_size=(1, 1), stride=(1, 1), bias=False)\n",
              "        (bn1): BatchNormAct2d(\n",
              "          240, eps=1e-05, momentum=0.1, affine=True, track_running_stats=True\n",
              "          (drop): Identity()\n",
              "          (act): SiLU(inplace=True)\n",
              "        )\n",
              "        (conv_dw): Conv2d(240, 240, kernel_size=(5, 5), stride=(1, 1), padding=(2, 2), groups=240, bias=False)\n",
              "        (bn2): BatchNormAct2d(\n",
              "          240, eps=1e-05, momentum=0.1, affine=True, track_running_stats=True\n",
              "          (drop): Identity()\n",
              "          (act): SiLU(inplace=True)\n",
              "        )\n",
              "        (aa): Identity()\n",
              "        (se): SqueezeExcite(\n",
              "          (conv_reduce): Conv2d(240, 10, kernel_size=(1, 1), stride=(1, 1))\n",
              "          (act1): SiLU(inplace=True)\n",
              "          (conv_expand): Conv2d(10, 240, kernel_size=(1, 1), stride=(1, 1))\n",
              "          (gate): Sigmoid()\n",
              "        )\n",
              "        (conv_pwl): Conv2d(240, 40, kernel_size=(1, 1), stride=(1, 1), bias=False)\n",
              "        (bn3): BatchNormAct2d(\n",
              "          40, eps=1e-05, momentum=0.1, affine=True, track_running_stats=True\n",
              "          (drop): Identity()\n",
              "          (act): Identity()\n",
              "        )\n",
              "        (drop_path): Identity()\n",
              "      )\n",
              "    )\n",
              "    (3): Sequential(\n",
              "      (0): InvertedResidual(\n",
              "        (conv_pw): Conv2d(40, 240, kernel_size=(1, 1), stride=(1, 1), bias=False)\n",
              "        (bn1): BatchNormAct2d(\n",
              "          240, eps=1e-05, momentum=0.1, affine=True, track_running_stats=True\n",
              "          (drop): Identity()\n",
              "          (act): SiLU(inplace=True)\n",
              "        )\n",
              "        (conv_dw): Conv2d(240, 240, kernel_size=(3, 3), stride=(2, 2), padding=(1, 1), groups=240, bias=False)\n",
              "        (bn2): BatchNormAct2d(\n",
              "          240, eps=1e-05, momentum=0.1, affine=True, track_running_stats=True\n",
              "          (drop): Identity()\n",
              "          (act): SiLU(inplace=True)\n",
              "        )\n",
              "        (aa): Identity()\n",
              "        (se): SqueezeExcite(\n",
              "          (conv_reduce): Conv2d(240, 10, kernel_size=(1, 1), stride=(1, 1))\n",
              "          (act1): SiLU(inplace=True)\n",
              "          (conv_expand): Conv2d(10, 240, kernel_size=(1, 1), stride=(1, 1))\n",
              "          (gate): Sigmoid()\n",
              "        )\n",
              "        (conv_pwl): Conv2d(240, 80, kernel_size=(1, 1), stride=(1, 1), bias=False)\n",
              "        (bn3): BatchNormAct2d(\n",
              "          80, eps=1e-05, momentum=0.1, affine=True, track_running_stats=True\n",
              "          (drop): Identity()\n",
              "          (act): Identity()\n",
              "        )\n",
              "        (drop_path): Identity()\n",
              "      )\n",
              "      (1): InvertedResidual(\n",
              "        (conv_pw): Conv2d(80, 480, kernel_size=(1, 1), stride=(1, 1), bias=False)\n",
              "        (bn1): BatchNormAct2d(\n",
              "          480, eps=1e-05, momentum=0.1, affine=True, track_running_stats=True\n",
              "          (drop): Identity()\n",
              "          (act): SiLU(inplace=True)\n",
              "        )\n",
              "        (conv_dw): Conv2d(480, 480, kernel_size=(3, 3), stride=(1, 1), padding=(1, 1), groups=480, bias=False)\n",
              "        (bn2): BatchNormAct2d(\n",
              "          480, eps=1e-05, momentum=0.1, affine=True, track_running_stats=True\n",
              "          (drop): Identity()\n",
              "          (act): SiLU(inplace=True)\n",
              "        )\n",
              "        (aa): Identity()\n",
              "        (se): SqueezeExcite(\n",
              "          (conv_reduce): Conv2d(480, 20, kernel_size=(1, 1), stride=(1, 1))\n",
              "          (act1): SiLU(inplace=True)\n",
              "          (conv_expand): Conv2d(20, 480, kernel_size=(1, 1), stride=(1, 1))\n",
              "          (gate): Sigmoid()\n",
              "        )\n",
              "        (conv_pwl): Conv2d(480, 80, kernel_size=(1, 1), stride=(1, 1), bias=False)\n",
              "        (bn3): BatchNormAct2d(\n",
              "          80, eps=1e-05, momentum=0.1, affine=True, track_running_stats=True\n",
              "          (drop): Identity()\n",
              "          (act): Identity()\n",
              "        )\n",
              "        (drop_path): Identity()\n",
              "      )\n",
              "      (2): InvertedResidual(\n",
              "        (conv_pw): Conv2d(80, 480, kernel_size=(1, 1), stride=(1, 1), bias=False)\n",
              "        (bn1): BatchNormAct2d(\n",
              "          480, eps=1e-05, momentum=0.1, affine=True, track_running_stats=True\n",
              "          (drop): Identity()\n",
              "          (act): SiLU(inplace=True)\n",
              "        )\n",
              "        (conv_dw): Conv2d(480, 480, kernel_size=(3, 3), stride=(1, 1), padding=(1, 1), groups=480, bias=False)\n",
              "        (bn2): BatchNormAct2d(\n",
              "          480, eps=1e-05, momentum=0.1, affine=True, track_running_stats=True\n",
              "          (drop): Identity()\n",
              "          (act): SiLU(inplace=True)\n",
              "        )\n",
              "        (aa): Identity()\n",
              "        (se): SqueezeExcite(\n",
              "          (conv_reduce): Conv2d(480, 20, kernel_size=(1, 1), stride=(1, 1))\n",
              "          (act1): SiLU(inplace=True)\n",
              "          (conv_expand): Conv2d(20, 480, kernel_size=(1, 1), stride=(1, 1))\n",
              "          (gate): Sigmoid()\n",
              "        )\n",
              "        (conv_pwl): Conv2d(480, 80, kernel_size=(1, 1), stride=(1, 1), bias=False)\n",
              "        (bn3): BatchNormAct2d(\n",
              "          80, eps=1e-05, momentum=0.1, affine=True, track_running_stats=True\n",
              "          (drop): Identity()\n",
              "          (act): Identity()\n",
              "        )\n",
              "        (drop_path): Identity()\n",
              "      )\n",
              "    )\n",
              "    (4): Sequential(\n",
              "      (0): InvertedResidual(\n",
              "        (conv_pw): Conv2d(80, 480, kernel_size=(1, 1), stride=(1, 1), bias=False)\n",
              "        (bn1): BatchNormAct2d(\n",
              "          480, eps=1e-05, momentum=0.1, affine=True, track_running_stats=True\n",
              "          (drop): Identity()\n",
              "          (act): SiLU(inplace=True)\n",
              "        )\n",
              "        (conv_dw): Conv2d(480, 480, kernel_size=(5, 5), stride=(1, 1), padding=(2, 2), groups=480, bias=False)\n",
              "        (bn2): BatchNormAct2d(\n",
              "          480, eps=1e-05, momentum=0.1, affine=True, track_running_stats=True\n",
              "          (drop): Identity()\n",
              "          (act): SiLU(inplace=True)\n",
              "        )\n",
              "        (aa): Identity()\n",
              "        (se): SqueezeExcite(\n",
              "          (conv_reduce): Conv2d(480, 20, kernel_size=(1, 1), stride=(1, 1))\n",
              "          (act1): SiLU(inplace=True)\n",
              "          (conv_expand): Conv2d(20, 480, kernel_size=(1, 1), stride=(1, 1))\n",
              "          (gate): Sigmoid()\n",
              "        )\n",
              "        (conv_pwl): Conv2d(480, 112, kernel_size=(1, 1), stride=(1, 1), bias=False)\n",
              "        (bn3): BatchNormAct2d(\n",
              "          112, eps=1e-05, momentum=0.1, affine=True, track_running_stats=True\n",
              "          (drop): Identity()\n",
              "          (act): Identity()\n",
              "        )\n",
              "        (drop_path): Identity()\n",
              "      )\n",
              "      (1): InvertedResidual(\n",
              "        (conv_pw): Conv2d(112, 672, kernel_size=(1, 1), stride=(1, 1), bias=False)\n",
              "        (bn1): BatchNormAct2d(\n",
              "          672, eps=1e-05, momentum=0.1, affine=True, track_running_stats=True\n",
              "          (drop): Identity()\n",
              "          (act): SiLU(inplace=True)\n",
              "        )\n",
              "        (conv_dw): Conv2d(672, 672, kernel_size=(5, 5), stride=(1, 1), padding=(2, 2), groups=672, bias=False)\n",
              "        (bn2): BatchNormAct2d(\n",
              "          672, eps=1e-05, momentum=0.1, affine=True, track_running_stats=True\n",
              "          (drop): Identity()\n",
              "          (act): SiLU(inplace=True)\n",
              "        )\n",
              "        (aa): Identity()\n",
              "        (se): SqueezeExcite(\n",
              "          (conv_reduce): Conv2d(672, 28, kernel_size=(1, 1), stride=(1, 1))\n",
              "          (act1): SiLU(inplace=True)\n",
              "          (conv_expand): Conv2d(28, 672, kernel_size=(1, 1), stride=(1, 1))\n",
              "          (gate): Sigmoid()\n",
              "        )\n",
              "        (conv_pwl): Conv2d(672, 112, kernel_size=(1, 1), stride=(1, 1), bias=False)\n",
              "        (bn3): BatchNormAct2d(\n",
              "          112, eps=1e-05, momentum=0.1, affine=True, track_running_stats=True\n",
              "          (drop): Identity()\n",
              "          (act): Identity()\n",
              "        )\n",
              "        (drop_path): Identity()\n",
              "      )\n",
              "      (2): InvertedResidual(\n",
              "        (conv_pw): Conv2d(112, 672, kernel_size=(1, 1), stride=(1, 1), bias=False)\n",
              "        (bn1): BatchNormAct2d(\n",
              "          672, eps=1e-05, momentum=0.1, affine=True, track_running_stats=True\n",
              "          (drop): Identity()\n",
              "          (act): SiLU(inplace=True)\n",
              "        )\n",
              "        (conv_dw): Conv2d(672, 672, kernel_size=(5, 5), stride=(1, 1), padding=(2, 2), groups=672, bias=False)\n",
              "        (bn2): BatchNormAct2d(\n",
              "          672, eps=1e-05, momentum=0.1, affine=True, track_running_stats=True\n",
              "          (drop): Identity()\n",
              "          (act): SiLU(inplace=True)\n",
              "        )\n",
              "        (aa): Identity()\n",
              "        (se): SqueezeExcite(\n",
              "          (conv_reduce): Conv2d(672, 28, kernel_size=(1, 1), stride=(1, 1))\n",
              "          (act1): SiLU(inplace=True)\n",
              "          (conv_expand): Conv2d(28, 672, kernel_size=(1, 1), stride=(1, 1))\n",
              "          (gate): Sigmoid()\n",
              "        )\n",
              "        (conv_pwl): Conv2d(672, 112, kernel_size=(1, 1), stride=(1, 1), bias=False)\n",
              "        (bn3): BatchNormAct2d(\n",
              "          112, eps=1e-05, momentum=0.1, affine=True, track_running_stats=True\n",
              "          (drop): Identity()\n",
              "          (act): Identity()\n",
              "        )\n",
              "        (drop_path): Identity()\n",
              "      )\n",
              "    )\n",
              "    (5): Sequential(\n",
              "      (0): InvertedResidual(\n",
              "        (conv_pw): Conv2d(112, 672, kernel_size=(1, 1), stride=(1, 1), bias=False)\n",
              "        (bn1): BatchNormAct2d(\n",
              "          672, eps=1e-05, momentum=0.1, affine=True, track_running_stats=True\n",
              "          (drop): Identity()\n",
              "          (act): SiLU(inplace=True)\n",
              "        )\n",
              "        (conv_dw): Conv2d(672, 672, kernel_size=(5, 5), stride=(2, 2), padding=(2, 2), groups=672, bias=False)\n",
              "        (bn2): BatchNormAct2d(\n",
              "          672, eps=1e-05, momentum=0.1, affine=True, track_running_stats=True\n",
              "          (drop): Identity()\n",
              "          (act): SiLU(inplace=True)\n",
              "        )\n",
              "        (aa): Identity()\n",
              "        (se): SqueezeExcite(\n",
              "          (conv_reduce): Conv2d(672, 28, kernel_size=(1, 1), stride=(1, 1))\n",
              "          (act1): SiLU(inplace=True)\n",
              "          (conv_expand): Conv2d(28, 672, kernel_size=(1, 1), stride=(1, 1))\n",
              "          (gate): Sigmoid()\n",
              "        )\n",
              "        (conv_pwl): Conv2d(672, 192, kernel_size=(1, 1), stride=(1, 1), bias=False)\n",
              "        (bn3): BatchNormAct2d(\n",
              "          192, eps=1e-05, momentum=0.1, affine=True, track_running_stats=True\n",
              "          (drop): Identity()\n",
              "          (act): Identity()\n",
              "        )\n",
              "        (drop_path): Identity()\n",
              "      )\n",
              "      (1): InvertedResidual(\n",
              "        (conv_pw): Conv2d(192, 1152, kernel_size=(1, 1), stride=(1, 1), bias=False)\n",
              "        (bn1): BatchNormAct2d(\n",
              "          1152, eps=1e-05, momentum=0.1, affine=True, track_running_stats=True\n",
              "          (drop): Identity()\n",
              "          (act): SiLU(inplace=True)\n",
              "        )\n",
              "        (conv_dw): Conv2d(1152, 1152, kernel_size=(5, 5), stride=(1, 1), padding=(2, 2), groups=1152, bias=False)\n",
              "        (bn2): BatchNormAct2d(\n",
              "          1152, eps=1e-05, momentum=0.1, affine=True, track_running_stats=True\n",
              "          (drop): Identity()\n",
              "          (act): SiLU(inplace=True)\n",
              "        )\n",
              "        (aa): Identity()\n",
              "        (se): SqueezeExcite(\n",
              "          (conv_reduce): Conv2d(1152, 48, kernel_size=(1, 1), stride=(1, 1))\n",
              "          (act1): SiLU(inplace=True)\n",
              "          (conv_expand): Conv2d(48, 1152, kernel_size=(1, 1), stride=(1, 1))\n",
              "          (gate): Sigmoid()\n",
              "        )\n",
              "        (conv_pwl): Conv2d(1152, 192, kernel_size=(1, 1), stride=(1, 1), bias=False)\n",
              "        (bn3): BatchNormAct2d(\n",
              "          192, eps=1e-05, momentum=0.1, affine=True, track_running_stats=True\n",
              "          (drop): Identity()\n",
              "          (act): Identity()\n",
              "        )\n",
              "        (drop_path): Identity()\n",
              "      )\n",
              "      (2): InvertedResidual(\n",
              "        (conv_pw): Conv2d(192, 1152, kernel_size=(1, 1), stride=(1, 1), bias=False)\n",
              "        (bn1): BatchNormAct2d(\n",
              "          1152, eps=1e-05, momentum=0.1, affine=True, track_running_stats=True\n",
              "          (drop): Identity()\n",
              "          (act): SiLU(inplace=True)\n",
              "        )\n",
              "        (conv_dw): Conv2d(1152, 1152, kernel_size=(5, 5), stride=(1, 1), padding=(2, 2), groups=1152, bias=False)\n",
              "        (bn2): BatchNormAct2d(\n",
              "          1152, eps=1e-05, momentum=0.1, affine=True, track_running_stats=True\n",
              "          (drop): Identity()\n",
              "          (act): SiLU(inplace=True)\n",
              "        )\n",
              "        (aa): Identity()\n",
              "        (se): SqueezeExcite(\n",
              "          (conv_reduce): Conv2d(1152, 48, kernel_size=(1, 1), stride=(1, 1))\n",
              "          (act1): SiLU(inplace=True)\n",
              "          (conv_expand): Conv2d(48, 1152, kernel_size=(1, 1), stride=(1, 1))\n",
              "          (gate): Sigmoid()\n",
              "        )\n",
              "        (conv_pwl): Conv2d(1152, 192, kernel_size=(1, 1), stride=(1, 1), bias=False)\n",
              "        (bn3): BatchNormAct2d(\n",
              "          192, eps=1e-05, momentum=0.1, affine=True, track_running_stats=True\n",
              "          (drop): Identity()\n",
              "          (act): Identity()\n",
              "        )\n",
              "        (drop_path): Identity()\n",
              "      )\n",
              "      (3): InvertedResidual(\n",
              "        (conv_pw): Conv2d(192, 1152, kernel_size=(1, 1), stride=(1, 1), bias=False)\n",
              "        (bn1): BatchNormAct2d(\n",
              "          1152, eps=1e-05, momentum=0.1, affine=True, track_running_stats=True\n",
              "          (drop): Identity()\n",
              "          (act): SiLU(inplace=True)\n",
              "        )\n",
              "        (conv_dw): Conv2d(1152, 1152, kernel_size=(5, 5), stride=(1, 1), padding=(2, 2), groups=1152, bias=False)\n",
              "        (bn2): BatchNormAct2d(\n",
              "          1152, eps=1e-05, momentum=0.1, affine=True, track_running_stats=True\n",
              "          (drop): Identity()\n",
              "          (act): SiLU(inplace=True)\n",
              "        )\n",
              "        (aa): Identity()\n",
              "        (se): SqueezeExcite(\n",
              "          (conv_reduce): Conv2d(1152, 48, kernel_size=(1, 1), stride=(1, 1))\n",
              "          (act1): SiLU(inplace=True)\n",
              "          (conv_expand): Conv2d(48, 1152, kernel_size=(1, 1), stride=(1, 1))\n",
              "          (gate): Sigmoid()\n",
              "        )\n",
              "        (conv_pwl): Conv2d(1152, 192, kernel_size=(1, 1), stride=(1, 1), bias=False)\n",
              "        (bn3): BatchNormAct2d(\n",
              "          192, eps=1e-05, momentum=0.1, affine=True, track_running_stats=True\n",
              "          (drop): Identity()\n",
              "          (act): Identity()\n",
              "        )\n",
              "        (drop_path): Identity()\n",
              "      )\n",
              "    )\n",
              "    (6): Sequential(\n",
              "      (0): InvertedResidual(\n",
              "        (conv_pw): Conv2d(192, 1152, kernel_size=(1, 1), stride=(1, 1), bias=False)\n",
              "        (bn1): BatchNormAct2d(\n",
              "          1152, eps=1e-05, momentum=0.1, affine=True, track_running_stats=True\n",
              "          (drop): Identity()\n",
              "          (act): SiLU(inplace=True)\n",
              "        )\n",
              "        (conv_dw): Conv2d(1152, 1152, kernel_size=(3, 3), stride=(1, 1), padding=(1, 1), groups=1152, bias=False)\n",
              "        (bn2): BatchNormAct2d(\n",
              "          1152, eps=1e-05, momentum=0.1, affine=True, track_running_stats=True\n",
              "          (drop): Identity()\n",
              "          (act): SiLU(inplace=True)\n",
              "        )\n",
              "        (aa): Identity()\n",
              "        (se): SqueezeExcite(\n",
              "          (conv_reduce): Conv2d(1152, 48, kernel_size=(1, 1), stride=(1, 1))\n",
              "          (act1): SiLU(inplace=True)\n",
              "          (conv_expand): Conv2d(48, 1152, kernel_size=(1, 1), stride=(1, 1))\n",
              "          (gate): Sigmoid()\n",
              "        )\n",
              "        (conv_pwl): Conv2d(1152, 320, kernel_size=(1, 1), stride=(1, 1), bias=False)\n",
              "        (bn3): BatchNormAct2d(\n",
              "          320, eps=1e-05, momentum=0.1, affine=True, track_running_stats=True\n",
              "          (drop): Identity()\n",
              "          (act): Identity()\n",
              "        )\n",
              "        (drop_path): Identity()\n",
              "      )\n",
              "    )\n",
              "  )\n",
              "  (conv_head): Conv2d(320, 1280, kernel_size=(1, 1), stride=(1, 1), bias=False)\n",
              "  (bn2): BatchNormAct2d(\n",
              "    1280, eps=1e-05, momentum=0.1, affine=True, track_running_stats=True\n",
              "    (drop): Identity()\n",
              "    (act): SiLU(inplace=True)\n",
              "  )\n",
              "  (global_pool): SelectAdaptivePool2d(pool_type=avg, flatten=Flatten(start_dim=1, end_dim=-1))\n",
              "  (classifier): Linear(in_features=1280, out_features=1, bias=True)\n",
              ")"
            ]
          },
          "metadata": {},
          "execution_count": 50
        }
      ],
      "source": [
        "model = timm.create_model(\n",
        "    \"efficientnet_b0\",\n",
        "    pretrained=True,\n",
        "    num_classes=1\n",
        ")\n",
        "\n",
        "model.load_state_dict(torch.load(\"checkpoints/best_model.pt\"))\n",
        "model.to(device)\n"
      ]
    },
    {
      "cell_type": "code",
      "execution_count": null,
      "metadata": {
        "id": "COc81yXVDMCX"
      },
      "outputs": [],
      "source": [
        "# 1) Initialize Python lists\n",
        "y_true = []\n",
        "y_prob = []\n",
        "\n",
        "model.eval()\n",
        "with torch.no_grad():\n",
        "    for inputs, labels, _ in test_loader:\n",
        "        inputs, labels = inputs.to(device), labels.to(device)\n",
        "\n",
        "        # 2) Forward + sigmoid in one shot, keep as CPU list\n",
        "        outputs = model(inputs).squeeze(-1)        # [B]\n",
        "        probs = torch.sigmoid(outputs).cpu().tolist()\n",
        "\n",
        "        # 3) Extend your lists directly\n",
        "        y_prob.extend(probs)\n",
        "        y_true.extend(labels.cpu().tolist())\n",
        "\n",
        "# 4) Now convert to NumPy (for metrics) if you need:\n",
        "import numpy as np\n",
        "y_true = np.array(y_true)\n",
        "y_prob = np.array(y_prob)"
      ]
    },
    {
      "cell_type": "code",
      "execution_count": null,
      "metadata": {
        "colab": {
          "base_uri": "https://localhost:8080/"
        },
        "id": "2EWsY47kDut_",
        "outputId": "62a3235d-8146-483c-d20b-a5e41210e6c1"
      },
      "outputs": [
        {
          "output_type": "stream",
          "name": "stdout",
          "text": [
            "AUROC = 0.893 (95% CI: 0.876 – 0.910)\n",
            "Threshold for 95% specificity: 0.678\n",
            "Recall @ 95% Spec:           0.498\n",
            "Balanced Accuracy @ τ95:    0.725\n",
            "Macro F1 Score @ τ95:       0.753\n"
          ]
        }
      ],
      "source": [
        "# 1) AUROC + CI\n",
        "test_auroc, ci_lower, ci_upper = compute_auroc_ci(y_true, y_prob)\n",
        "print(f\"AUROC = {test_auroc:.3f} (95% CI: {ci_lower:.3f} – {ci_upper:.3f})\")\n",
        "\n",
        "# 2) Find threshold for 95% specificity\n",
        "fpr, tpr, thresholds = roc_curve(y_true, y_prob)\n",
        "specificity = 1 - fpr\n",
        "# pick the highest threshold that still gives specificity >= 0.95\n",
        "idx = np.where(specificity >= 0.95)[0]\n",
        "if len(idx) == 0:\n",
        "    tau95 = 0.5  # fallback\n",
        "else:\n",
        "    tau95 = thresholds[idx[-1]]\n",
        "print(f\"Threshold for 95% specificity: {tau95:.3f}\")\n",
        "\n",
        "# 3) Binarize at that threshold\n",
        "test_y_pred95 = (y_prob >= tau95).astype(int)\n",
        "\n",
        "# 4) Other metrics at τ95\n",
        "test_recall95 = recall_score(y_true, test_y_pred95)\n",
        "test_bal_acc  = balanced_accuracy_score(y_true, test_y_pred95)\n",
        "test_macro_f1 = f1_score(y_true, test_y_pred95, average=\"macro\")\n",
        "\n",
        "print(f\"Recall @ 95% Spec:           {test_recall95:.3f}\")\n",
        "print(f\"Balanced Accuracy @ τ95:    {test_bal_acc:.3f}\")\n",
        "print(f\"Macro F1 Score @ τ95:       {test_macro_f1:.3f}\")"
      ]
    },
    {
      "cell_type": "code",
      "source": [],
      "metadata": {
        "id": "k0wPcw19vgeA"
      },
      "execution_count": null,
      "outputs": []
    }
  ],
  "metadata": {
    "accelerator": "GPU",
    "colab": {
      "collapsed_sections": [
        "VVFYbmS5PjXk",
        "shSr8dCOmPHz",
        "ORwNNfl86qiq",
        "p3pAAg87FQDg"
      ],
      "gpuType": "T4",
      "provenance": []
    },
    "kernelspec": {
      "display_name": "Python 3",
      "name": "python3"
    },
    "language_info": {
      "name": "python"
    },
    "widgets": {
      "application/vnd.jupyter.widget-state+json": {
        "44aef92d50654c11ac0e2b1381356f72": {
          "model_module": "@jupyter-widgets/controls",
          "model_name": "HBoxModel",
          "model_module_version": "1.5.0",
          "state": {
            "_dom_classes": [],
            "_model_module": "@jupyter-widgets/controls",
            "_model_module_version": "1.5.0",
            "_model_name": "HBoxModel",
            "_view_count": null,
            "_view_module": "@jupyter-widgets/controls",
            "_view_module_version": "1.5.0",
            "_view_name": "HBoxView",
            "box_style": "",
            "children": [
              "IPY_MODEL_3d1d8de42f0849bf9788e289478e8bfa",
              "IPY_MODEL_f638ba6378504fd9a9e6a2cb79086e23",
              "IPY_MODEL_38d1f87310274329a63985e9ff882c4d"
            ],
            "layout": "IPY_MODEL_576848c740094aac9b310c497da9bb03"
          }
        },
        "3d1d8de42f0849bf9788e289478e8bfa": {
          "model_module": "@jupyter-widgets/controls",
          "model_name": "HTMLModel",
          "model_module_version": "1.5.0",
          "state": {
            "_dom_classes": [],
            "_model_module": "@jupyter-widgets/controls",
            "_model_module_version": "1.5.0",
            "_model_name": "HTMLModel",
            "_view_count": null,
            "_view_module": "@jupyter-widgets/controls",
            "_view_module_version": "1.5.0",
            "_view_name": "HTMLView",
            "description": "",
            "description_tooltip": null,
            "layout": "IPY_MODEL_89830d71704449439a71a2e309dbca09",
            "placeholder": "​",
            "style": "IPY_MODEL_e3f5c3ab67b94e409c72f51d704c8869",
            "value": "model.safetensors: 100%"
          }
        },
        "f638ba6378504fd9a9e6a2cb79086e23": {
          "model_module": "@jupyter-widgets/controls",
          "model_name": "FloatProgressModel",
          "model_module_version": "1.5.0",
          "state": {
            "_dom_classes": [],
            "_model_module": "@jupyter-widgets/controls",
            "_model_module_version": "1.5.0",
            "_model_name": "FloatProgressModel",
            "_view_count": null,
            "_view_module": "@jupyter-widgets/controls",
            "_view_module_version": "1.5.0",
            "_view_name": "ProgressView",
            "bar_style": "success",
            "description": "",
            "description_tooltip": null,
            "layout": "IPY_MODEL_6c7fad346ca740bfa807fc5be8399ce2",
            "max": 21355344,
            "min": 0,
            "orientation": "horizontal",
            "style": "IPY_MODEL_e8cfee561f1d4ea9b3207603b7443535",
            "value": 21355344
          }
        },
        "38d1f87310274329a63985e9ff882c4d": {
          "model_module": "@jupyter-widgets/controls",
          "model_name": "HTMLModel",
          "model_module_version": "1.5.0",
          "state": {
            "_dom_classes": [],
            "_model_module": "@jupyter-widgets/controls",
            "_model_module_version": "1.5.0",
            "_model_name": "HTMLModel",
            "_view_count": null,
            "_view_module": "@jupyter-widgets/controls",
            "_view_module_version": "1.5.0",
            "_view_name": "HTMLView",
            "description": "",
            "description_tooltip": null,
            "layout": "IPY_MODEL_2003a0be287c4d16adb940d3b7a0ae3c",
            "placeholder": "​",
            "style": "IPY_MODEL_8fd9c0423e814e6192edc836606a0746",
            "value": " 21.4M/21.4M [00:00&lt;00:00, 94.9MB/s]"
          }
        },
        "576848c740094aac9b310c497da9bb03": {
          "model_module": "@jupyter-widgets/base",
          "model_name": "LayoutModel",
          "model_module_version": "1.2.0",
          "state": {
            "_model_module": "@jupyter-widgets/base",
            "_model_module_version": "1.2.0",
            "_model_name": "LayoutModel",
            "_view_count": null,
            "_view_module": "@jupyter-widgets/base",
            "_view_module_version": "1.2.0",
            "_view_name": "LayoutView",
            "align_content": null,
            "align_items": null,
            "align_self": null,
            "border": null,
            "bottom": null,
            "display": null,
            "flex": null,
            "flex_flow": null,
            "grid_area": null,
            "grid_auto_columns": null,
            "grid_auto_flow": null,
            "grid_auto_rows": null,
            "grid_column": null,
            "grid_gap": null,
            "grid_row": null,
            "grid_template_areas": null,
            "grid_template_columns": null,
            "grid_template_rows": null,
            "height": null,
            "justify_content": null,
            "justify_items": null,
            "left": null,
            "margin": null,
            "max_height": null,
            "max_width": null,
            "min_height": null,
            "min_width": null,
            "object_fit": null,
            "object_position": null,
            "order": null,
            "overflow": null,
            "overflow_x": null,
            "overflow_y": null,
            "padding": null,
            "right": null,
            "top": null,
            "visibility": null,
            "width": null
          }
        },
        "89830d71704449439a71a2e309dbca09": {
          "model_module": "@jupyter-widgets/base",
          "model_name": "LayoutModel",
          "model_module_version": "1.2.0",
          "state": {
            "_model_module": "@jupyter-widgets/base",
            "_model_module_version": "1.2.0",
            "_model_name": "LayoutModel",
            "_view_count": null,
            "_view_module": "@jupyter-widgets/base",
            "_view_module_version": "1.2.0",
            "_view_name": "LayoutView",
            "align_content": null,
            "align_items": null,
            "align_self": null,
            "border": null,
            "bottom": null,
            "display": null,
            "flex": null,
            "flex_flow": null,
            "grid_area": null,
            "grid_auto_columns": null,
            "grid_auto_flow": null,
            "grid_auto_rows": null,
            "grid_column": null,
            "grid_gap": null,
            "grid_row": null,
            "grid_template_areas": null,
            "grid_template_columns": null,
            "grid_template_rows": null,
            "height": null,
            "justify_content": null,
            "justify_items": null,
            "left": null,
            "margin": null,
            "max_height": null,
            "max_width": null,
            "min_height": null,
            "min_width": null,
            "object_fit": null,
            "object_position": null,
            "order": null,
            "overflow": null,
            "overflow_x": null,
            "overflow_y": null,
            "padding": null,
            "right": null,
            "top": null,
            "visibility": null,
            "width": null
          }
        },
        "e3f5c3ab67b94e409c72f51d704c8869": {
          "model_module": "@jupyter-widgets/controls",
          "model_name": "DescriptionStyleModel",
          "model_module_version": "1.5.0",
          "state": {
            "_model_module": "@jupyter-widgets/controls",
            "_model_module_version": "1.5.0",
            "_model_name": "DescriptionStyleModel",
            "_view_count": null,
            "_view_module": "@jupyter-widgets/base",
            "_view_module_version": "1.2.0",
            "_view_name": "StyleView",
            "description_width": ""
          }
        },
        "6c7fad346ca740bfa807fc5be8399ce2": {
          "model_module": "@jupyter-widgets/base",
          "model_name": "LayoutModel",
          "model_module_version": "1.2.0",
          "state": {
            "_model_module": "@jupyter-widgets/base",
            "_model_module_version": "1.2.0",
            "_model_name": "LayoutModel",
            "_view_count": null,
            "_view_module": "@jupyter-widgets/base",
            "_view_module_version": "1.2.0",
            "_view_name": "LayoutView",
            "align_content": null,
            "align_items": null,
            "align_self": null,
            "border": null,
            "bottom": null,
            "display": null,
            "flex": null,
            "flex_flow": null,
            "grid_area": null,
            "grid_auto_columns": null,
            "grid_auto_flow": null,
            "grid_auto_rows": null,
            "grid_column": null,
            "grid_gap": null,
            "grid_row": null,
            "grid_template_areas": null,
            "grid_template_columns": null,
            "grid_template_rows": null,
            "height": null,
            "justify_content": null,
            "justify_items": null,
            "left": null,
            "margin": null,
            "max_height": null,
            "max_width": null,
            "min_height": null,
            "min_width": null,
            "object_fit": null,
            "object_position": null,
            "order": null,
            "overflow": null,
            "overflow_x": null,
            "overflow_y": null,
            "padding": null,
            "right": null,
            "top": null,
            "visibility": null,
            "width": null
          }
        },
        "e8cfee561f1d4ea9b3207603b7443535": {
          "model_module": "@jupyter-widgets/controls",
          "model_name": "ProgressStyleModel",
          "model_module_version": "1.5.0",
          "state": {
            "_model_module": "@jupyter-widgets/controls",
            "_model_module_version": "1.5.0",
            "_model_name": "ProgressStyleModel",
            "_view_count": null,
            "_view_module": "@jupyter-widgets/base",
            "_view_module_version": "1.2.0",
            "_view_name": "StyleView",
            "bar_color": null,
            "description_width": ""
          }
        },
        "2003a0be287c4d16adb940d3b7a0ae3c": {
          "model_module": "@jupyter-widgets/base",
          "model_name": "LayoutModel",
          "model_module_version": "1.2.0",
          "state": {
            "_model_module": "@jupyter-widgets/base",
            "_model_module_version": "1.2.0",
            "_model_name": "LayoutModel",
            "_view_count": null,
            "_view_module": "@jupyter-widgets/base",
            "_view_module_version": "1.2.0",
            "_view_name": "LayoutView",
            "align_content": null,
            "align_items": null,
            "align_self": null,
            "border": null,
            "bottom": null,
            "display": null,
            "flex": null,
            "flex_flow": null,
            "grid_area": null,
            "grid_auto_columns": null,
            "grid_auto_flow": null,
            "grid_auto_rows": null,
            "grid_column": null,
            "grid_gap": null,
            "grid_row": null,
            "grid_template_areas": null,
            "grid_template_columns": null,
            "grid_template_rows": null,
            "height": null,
            "justify_content": null,
            "justify_items": null,
            "left": null,
            "margin": null,
            "max_height": null,
            "max_width": null,
            "min_height": null,
            "min_width": null,
            "object_fit": null,
            "object_position": null,
            "order": null,
            "overflow": null,
            "overflow_x": null,
            "overflow_y": null,
            "padding": null,
            "right": null,
            "top": null,
            "visibility": null,
            "width": null
          }
        },
        "8fd9c0423e814e6192edc836606a0746": {
          "model_module": "@jupyter-widgets/controls",
          "model_name": "DescriptionStyleModel",
          "model_module_version": "1.5.0",
          "state": {
            "_model_module": "@jupyter-widgets/controls",
            "_model_module_version": "1.5.0",
            "_model_name": "DescriptionStyleModel",
            "_view_count": null,
            "_view_module": "@jupyter-widgets/base",
            "_view_module_version": "1.2.0",
            "_view_name": "StyleView",
            "description_width": ""
          }
        }
      }
    }
  },
  "nbformat": 4,
  "nbformat_minor": 0
}