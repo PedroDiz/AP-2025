{
  "cells": [
    {
      "cell_type": "markdown",
      "metadata": {
        "id": "VVFYbmS5PjXk"
      },
      "source": [
        "## Setup: Imports and (Optional) Mount to google drive\n",
        "In a production setting, our pipeline downloads data programmatically\n",
        " from the ISIC API at runtime. However, to avoid re-downloading the entire\n",
        "       dataset every time a Colab session restarts, we instead mount Google Drive here and read the cached files directly.\n",
        "       "
      ]
    },
    {
      "cell_type": "code",
      "execution_count": 1,
      "metadata": {
        "colab": {
          "base_uri": "https://localhost:8080/"
        },
        "id": "JblR6mAprwXF",
        "outputId": "311606d3-afa9-4056-9413-59a34c010d9e"
      },
      "outputs": [
        {
          "output_type": "stream",
          "name": "stdout",
          "text": [
            "Mounted at /content/drive\n"
          ]
        }
      ],
      "source": [
        "# Import Drive\n",
        "from google.colab import output\n",
        "from google.colab import drive\n",
        "drive.mount('/content/drive')"
      ]
    },
    {
      "cell_type": "code",
      "execution_count": 2,
      "metadata": {
        "id": "BIcB98h-FE55"
      },
      "outputs": [],
      "source": [
        "# Standard library\n",
        "import os\n",
        "import time\n",
        "import random\n",
        "\n",
        "# Data handling\n",
        "import requests\n",
        "import pandas as pd\n",
        "import numpy as np\n",
        "from PIL import Image\n",
        "from tqdm import tqdm\n",
        "\n",
        "# PyTorch & vision\n",
        "import torch\n",
        "import torch.nn as nn\n",
        "import torch.nn.functional as F\n",
        "from torch.utils.data import Dataset, DataLoader, WeightedRandomSampler\n",
        "import timm\n",
        "import torchvision.transforms as transforms\n",
        "from torch.optim import AdamW\n",
        "from torch.optim.lr_scheduler import CosineAnnealingLR\n",
        "import torch.nn as nn\n",
        "\n",
        "\n",
        "# Scikit-learn metrics & utilities\n",
        "from sklearn.model_selection import train_test_split\n",
        "from sklearn.metrics import (\n",
        "    roc_auc_score, roc_curve, f1_score,\n",
        "    balanced_accuracy_score,\n",
        "    precision_recall_fscore_support,\n",
        "    classification_report,\n",
        "    precision_recall_curve,\n",
        "    confusion_matrix\n",
        ")\n",
        "\n",
        "# Plotting\n",
        "import matplotlib.pyplot as plt\n",
        "import seaborn as sns\n"
      ]
    },
    {
      "cell_type": "markdown",
      "metadata": {
        "id": "XWGG_Y0wCI5v"
      },
      "source": [
        "Set a fixed random seed to ensure reproducible training and evaluation results across runs.\n"
      ]
    },
    {
      "cell_type": "code",
      "execution_count": 3,
      "metadata": {
        "id": "x0Iq_jnWkEYu"
      },
      "outputs": [],
      "source": [
        "SEED = 42\n",
        "random.seed(SEED)\n",
        "np.random.seed(SEED)\n",
        "torch.manual_seed(SEED)\n",
        "torch.cuda.manual_seed_all(SEED)\n",
        "torch.backends.cudnn.deterministic = True\n",
        "torch.backends.cudnn.benchmark = False\n"
      ]
    },
    {
      "cell_type": "markdown",
      "metadata": {
        "id": "shSr8dCOmPHz"
      },
      "source": [
        "## Data Acquisition & Exploration\n",
        "- Download raw images and metadata from the ISIC API  \n",
        "- Inspect dataset structure and class distribution  \n"
      ]
    },
    {
      "cell_type": "markdown",
      "metadata": {
        "id": "D1SLstZImDtT"
      },
      "source": [
        "Load the dataset ISIC(collection 66, representative of the training set of task 3) into the *results* variable, ~11k entries"
      ]
    },
    {
      "cell_type": "code",
      "execution_count": 4,
      "metadata": {
        "colab": {
          "base_uri": "https://localhost:8080/"
        },
        "id": "gouEBL4NdVX7",
        "outputId": "6a7a4724-863c-4a78-9718-43d301271b16"
      },
      "outputs": [
        {
          "output_type": "stream",
          "name": "stdout",
          "text": [
            "Total images collected: 11720\n",
            "Took 70.4 seconds\n"
          ]
        }
      ],
      "source": [
        "base_url = \"https://api.isic-archive.com/api/v2/images/search/\"\n",
        "params = {\n",
        "    \"collections\": \"66,67,73\"\n",
        "}\n",
        "\n",
        "all_ids = []\n",
        "results = []\n",
        "\n",
        "page = 1\n",
        "start = time.time()\n",
        "\n",
        "while True:\n",
        "    response = requests.get(base_url, params=params)\n",
        "    data = response.json()\n",
        "\n",
        "    # Extract image IDs\n",
        "    for result in data.get(\"results\", []):\n",
        "        all_ids.append(result[\"isic_id\"])\n",
        "        results.append(result)\n",
        "\n",
        "    # Next page\n",
        "    next_cursor = data.get(\"next\")\n",
        "    if not next_cursor:\n",
        "        break\n",
        "\n",
        "    # Update URL for the next request\n",
        "    base_url = next_cursor\n",
        "    params = {}\n",
        "    page += 1\n",
        "\n",
        "elapsed = time.time() - start\n",
        "print(f\"Total images collected: {len(all_ids)}\")\n",
        "print(f\"Took {elapsed:.1f} seconds\")"
      ]
    },
    {
      "cell_type": "markdown",
      "metadata": {
        "id": "h3STk8pmmmhw"
      },
      "source": [
        "Inspecting a single record to understand its structure and contents"
      ]
    },
    {
      "cell_type": "code",
      "execution_count": 5,
      "metadata": {
        "colab": {
          "base_uri": "https://localhost:8080/"
        },
        "id": "O0zgQvGuhezt",
        "outputId": "181ac276-5040-45ce-ecbb-eda05aeca562"
      },
      "outputs": [
        {
          "output_type": "execute_result",
          "data": {
            "text/plain": [
              "{'isic_id': 'ISIC_0036059',\n",
              " 'copyright_license': 'CC-BY-NC',\n",
              " 'attribution': 'MILK study team',\n",
              " 'files': {'full': {'url': 'https://content.isic-archive.com/b1da82d9-f96a-4279-a22d-4df086f862e8/ab106229-0d37-440d-82e1-ea0f8b346576.jpg?Expires=1747699200&Signature=mzMbG9xwAx-zNndbjTADysTngWZ3zFNvm8URkiuB9ffk3UMPDBDZmS0c3T197t9i~SFTKMFhuiQBS2ldMI3dqvHxPhPt~K8eTZQ64XOu5niqS-XFH03IUFbf8LYjc6Fgs~One-I1LxNlR8Nu9U14CMlPSw4T~SsCEhfoAfyDIpU~newXnuk6Uxja5ZGYjN9SL4ELiNfVd6WBJOKtl-mqv~f47wq-Yql~0hynJef77s2dWJKzUJvuWOHEq1wxYoBfRCN4oGU4CblwoiB5NiAgp27TfTC5jxbdfxYQ--h97wHApI~V6Yfewlrs3xPNxj252JuVbFG6qwV6owGomSYlQw__&Key-Pair-Id=K3KFHCM130RXTL',\n",
              "   'size': 19565},\n",
              "  'thumbnail_256': {'url': 'https://content.isic-archive.com/8430b64f-83c0-4f66-98ab-260535ab538c/ISIC_0036059_thumbnail_256.jpg?Expires=1747699200&Signature=dEjiLGv7gTz~waFAE22xn3IZNZnXsZfeMqc9wDKXdtU7ztCPvLDFnrHgxeXohkzC-Mp8FW1-nFIOLcee8psBNCz7Kz1YZD1NejrsCB7o8oqnR~2lBYk91NlxhLjEpiNzYPcaNbCdT7tJ0MY5ohoLv65OSXFT6WDXtVp~rJPZgfsouan700Vjvv63WN0RuZFR6JifEiCRY5PZxXubFLQXB3Cr6S4mTXReDT8XP0U3Hr7WbckytrwtjNTdgbldS92I7O1aoIUQjIO5ciQT-pV65QJ2-FBiAu1a4TfPBjXFEWixm4gdr4dmUWwcehpANG-W9vYNKtDZGf1W7TsKX6vodA__&Key-Pair-Id=K3KFHCM130RXTL',\n",
              "   'size': 3992}},\n",
              " 'metadata': {'acquisition': {'pixels_x': 600,\n",
              "   'pixels_y': 450,\n",
              "   'image_type': 'dermoscopic'},\n",
              "  'clinical': {'concomitant_biopsy': False,\n",
              "   'sex': 'male',\n",
              "   'benign_malignant': 'benign',\n",
              "   'diagnosis_1': 'Benign',\n",
              "   'diagnosis_2': 'Benign melanocytic proliferations',\n",
              "   'diagnosis_3': 'Nevus',\n",
              "   'diagnosis_confirm_type': 'single image expert consensus',\n",
              "   'melanocytic': True,\n",
              "   'age_approx': 55,\n",
              "   'lesion_id': 'IL_8956744'}},\n",
              " 'public': True}"
            ]
          },
          "metadata": {},
          "execution_count": 5
        }
      ],
      "source": [
        "results[5]"
      ]
    },
    {
      "cell_type": "markdown",
      "metadata": {
        "id": "gd4C-fBxibiG"
      },
      "source": [
        "**We will confirm if every image is in the expected size (600x450)**"
      ]
    },
    {
      "cell_type": "code",
      "execution_count": 6,
      "metadata": {
        "colab": {
          "base_uri": "https://localhost:8080/"
        },
        "id": "oJ6lXfSTfIdg",
        "outputId": "cfce6a6d-1ae5-4bdf-ea1f-e540396c363b"
      },
      "outputs": [
        {
          "output_type": "stream",
          "name": "stdout",
          "text": [
            "All images are confirmed to be 600×450 pixels.\n"
          ]
        }
      ],
      "source": [
        "# Verify that all images are 600×450 pixels(Expected size)\n",
        "mismatch_count = 0\n",
        "\n",
        "for entry in results:\n",
        "    try:\n",
        "        x = entry[\"metadata\"][\"acquisition\"][\"pixels_x\"]\n",
        "        y = entry[\"metadata\"][\"acquisition\"][\"pixels_y\"]\n",
        "        if (x, y) != (600, 450):\n",
        "            print(f\"Image {entry['isic_id']} has size {x}×{y}, expected 600×450\")\n",
        "            mismatch_count += 1\n",
        "    except KeyError:\n",
        "        print(f\"Image {entry.get('isic_id', 'UNKNOWN')} is missing pixel metadata.\")\n",
        "        mismatch_count += 1\n",
        "\n",
        "if mismatch_count == 0:\n",
        "    print(\"All images are confirmed to be 600×450 pixels.\")\n",
        "else:\n",
        "    print(f\"Found {mismatch_count} image(s) with unexpected dimensions or missing data.\")\n"
      ]
    },
    {
      "cell_type": "markdown",
      "metadata": {
        "id": "3DvlqB73jt6Q"
      },
      "source": [
        "Download the photos into ISIC_IMAGES_TASK_3 folder. By default the path searches for the files in drive."
      ]
    },
    {
      "cell_type": "code",
      "execution_count": 7,
      "metadata": {
        "id": "tQm3xJjit0Zp"
      },
      "outputs": [],
      "source": [
        "PATH = \"/content/drive/MyDrive/ISIC_IMAGES_TASK_3\""
      ]
    },
    {
      "cell_type": "code",
      "execution_count": 8,
      "metadata": {
        "colab": {
          "base_uri": "https://localhost:8080/",
          "height": 127
        },
        "id": "Ni-u593Wh5Dm",
        "outputId": "a94a1557-f3bf-495e-cf6c-bb0e6dcadea3"
      },
      "outputs": [
        {
          "output_type": "execute_result",
          "data": {
            "text/plain": [
              "'\\n#Download and extract ZIP files into ISIC_IMAGES_TASK_3 folder with timing\\n\\nimport os\\nimport zipfile\\nimport urllib.request\\nimport time\\n\\n# Start timing\\ntotal_start = time.time()\\n\\n# Target folder\\nPATH = \"ISIC_IMAGES_TASK_3\"\\nos.makedirs(PATH, exist_ok=True)\\n\\n# Base URL for raw GitHub content\\nbase_url = \"https://github.com/PedroDiz/AP-2025/raw/main/\"\\n\\n# List of ZIP file names\\nzip_files = [\\n    \"ISIC_IMAGES_TASK_3_PART_1.zip\",\\n    \"ISIC_IMAGES_TASK_3_PART_2.zip\",\\n    \"ISIC_IMAGES_TASK_3_PART_3.zip\"\\n]\\n\\n# Download and extract each ZIP file\\nfor zip_file in zip_files:\\n    start = time.time()\\n\\n    zip_path = os.path.join(os.getcwd(), zip_file)\\n    url = base_url + zip_file\\n\\n    # Download if not already present\\n    if not os.path.exists(zip_path):\\n        print(f\"Downloading {zip_file}...\")\\n        urllib.request.urlretrieve(url, zip_path)\\n        print(f\"Downloaded {zip_file} in {time.time() - start:.1f} seconds\")\\n    else:\\n        print(f\"{zip_file} already exists, skipping download\")\\n\\n    # Extract into PATH\\n    print(f\"Extracting {zip_file}...\")\\n    with zipfile.ZipFile(zip_path, \\'r\\') as zip_ref:\\n        zip_ref.extractall(PATH)\\n    print(f\"Extracted {zip_file} in {time.time() - start:.1f} seconds\")\\n\\n# Total elapsed time\\ntotal_elapsed = time.time() - total_start\\nprint(f\"\\nTotal time: {total_elapsed:.1f} seconds\")'"
            ],
            "application/vnd.google.colaboratory.intrinsic+json": {
              "type": "string"
            }
          },
          "metadata": {},
          "execution_count": 8
        }
      ],
      "source": [
        "\"\"\"\n",
        "#Download and extract ZIP files into ISIC_IMAGES_TASK_3 folder with timing\n",
        "\n",
        "import os\n",
        "import zipfile\n",
        "import urllib.request\n",
        "import time\n",
        "\n",
        "# Start timing\n",
        "total_start = time.time()\n",
        "\n",
        "# Target folder\n",
        "PATH = \"ISIC_IMAGES_TASK_3\"\n",
        "os.makedirs(PATH, exist_ok=True)\n",
        "\n",
        "# Base URL for raw GitHub content\n",
        "base_url = \"https://github.com/PedroDiz/AP-2025/raw/main/\"\n",
        "\n",
        "# List of ZIP file names\n",
        "zip_files = [\n",
        "    \"ISIC_IMAGES_TASK_3_PART_1.zip\",\n",
        "    \"ISIC_IMAGES_TASK_3_PART_2.zip\",\n",
        "    \"ISIC_IMAGES_TASK_3_PART_3.zip\"\n",
        "]\n",
        "\n",
        "# Download and extract each ZIP file\n",
        "for zip_file in zip_files:\n",
        "    start = time.time()\n",
        "\n",
        "    zip_path = os.path.join(os.getcwd(), zip_file)\n",
        "    url = base_url + zip_file\n",
        "\n",
        "    # Download if not already present\n",
        "    if not os.path.exists(zip_path):\n",
        "        print(f\"Downloading {zip_file}...\")\n",
        "        urllib.request.urlretrieve(url, zip_path)\n",
        "        print(f\"Downloaded {zip_file} in {time.time() - start:.1f} seconds\")\n",
        "    else:\n",
        "        print(f\"{zip_file} already exists, skipping download\")\n",
        "\n",
        "    # Extract into PATH\n",
        "    print(f\"Extracting {zip_file}...\")\n",
        "    with zipfile.ZipFile(zip_path, 'r') as zip_ref:\n",
        "        zip_ref.extractall(PATH)\n",
        "    print(f\"Extracted {zip_file} in {time.time() - start:.1f} seconds\")\n",
        "\n",
        "# Total elapsed time\n",
        "total_elapsed = time.time() - total_start\n",
        "print(f\"\\nTotal time: {total_elapsed:.1f} seconds\")\"\"\""
      ]
    },
    {
      "cell_type": "code",
      "execution_count": 9,
      "metadata": {
        "colab": {
          "base_uri": "https://localhost:8080/",
          "height": 127
        },
        "id": "YPvsRds1jtbq",
        "outputId": "b783a167-9358-4ad7-ab2b-536f5c2c76be"
      },
      "outputs": [
        {
          "output_type": "execute_result",
          "data": {
            "text/plain": [
              "'\\nimport os\\nimport requests\\nimport time\\nfrom tqdm import tqdm\\n\\n# Make sure the folder exists\\nPATH = \"ISIC_IMAGES_TASK_3\"\\nos.makedirs(PATH, exist_ok=True)\\n\\n# Start the timer\\ndownload_start = time.time()\\n\\n# Optionally, to capture per‐image times:\\nper_image_times = []\\n\\nfor result in tqdm(results, desc=\"Downloading ISIC images\"):\\n    img_start = time.time()\\n    try:\\n        isic_id   = result[\"isic_id\"]\\n        image_url = result[\"files\"][\"full\"][\"url\"]\\n        file_path = os.path.join(PATH, f\"{isic_id}.jpg\")\\n\\n        # Download and save the image\\n        r = requests.get(image_url)\\n        if r.status_code == 200:\\n            with open(file_path, \"wb\") as f:\\n                f.write(r.content)\\n        else:\\n            print(f\"Failed to download {isic_id}: HTTP {r.status_code}\")\\n    except KeyError as e:\\n        print(f\"Missing key {e} in one of the results.\")\\n    finally:\\n        # Record how long this single download took\\n        per_image_times.append(time.time() - img_start)\\n\\n# Total download time\\ntotal_download_time = time.time() - download_start\\nprint(f\"Total download time: {total_download_time:.1f}s\")\\n\\n# Per‐image times:\\nprint(f\"Avg per‐image download time: {np.mean(per_image_times):.2f}s\")\\nprint(f\"Slowest image took: {np.max(per_image_times):.2f}s\")\\nprint(f\"Fastest image took: {np.min(per_image_times):.2f}s\")\\n\\n'"
            ],
            "application/vnd.google.colaboratory.intrinsic+json": {
              "type": "string"
            }
          },
          "metadata": {},
          "execution_count": 9
        }
      ],
      "source": [
        "\"\"\"\n",
        "import os\n",
        "import requests\n",
        "import time\n",
        "from tqdm import tqdm\n",
        "\n",
        "# Make sure the folder exists\n",
        "PATH = \"ISIC_IMAGES_TASK_3\"\n",
        "os.makedirs(PATH, exist_ok=True)\n",
        "\n",
        "# Start the timer\n",
        "download_start = time.time()\n",
        "\n",
        "# Optionally, to capture per‐image times:\n",
        "per_image_times = []\n",
        "\n",
        "for result in tqdm(results, desc=\"Downloading ISIC images\"):\n",
        "    img_start = time.time()\n",
        "    try:\n",
        "        isic_id   = result[\"isic_id\"]\n",
        "        image_url = result[\"files\"][\"full\"][\"url\"]\n",
        "        file_path = os.path.join(PATH, f\"{isic_id}.jpg\")\n",
        "\n",
        "        # Download and save the image\n",
        "        r = requests.get(image_url)\n",
        "        if r.status_code == 200:\n",
        "            with open(file_path, \"wb\") as f:\n",
        "                f.write(r.content)\n",
        "        else:\n",
        "            print(f\"Failed to download {isic_id}: HTTP {r.status_code}\")\n",
        "    except KeyError as e:\n",
        "        print(f\"Missing key {e} in one of the results.\")\n",
        "    finally:\n",
        "        # Record how long this single download took\n",
        "        per_image_times.append(time.time() - img_start)\n",
        "\n",
        "# Total download time\n",
        "total_download_time = time.time() - download_start\n",
        "print(f\"Total download time: {total_download_time:.1f}s\")\n",
        "\n",
        "# Per‐image times:\n",
        "print(f\"Avg per‐image download time: {np.mean(per_image_times):.2f}s\")\n",
        "print(f\"Slowest image took: {np.max(per_image_times):.2f}s\")\n",
        "print(f\"Fastest image took: {np.min(per_image_times):.2f}s\")\n",
        "\n",
        "\"\"\""
      ]
    },
    {
      "cell_type": "markdown",
      "metadata": {
        "id": "Z4PXkG-NvkYR"
      },
      "source": [
        "**Determine how each image is labeled as benign or malignant.**\n",
        "\n",
        "We’ll use the `benign_malignant` field for this purpose and first verify that every dataset entry includes this label.\n"
      ]
    },
    {
      "cell_type": "code",
      "execution_count": 10,
      "metadata": {
        "colab": {
          "base_uri": "https://localhost:8080/"
        },
        "collapsed": true,
        "id": "AiFcHX8lsoly",
        "outputId": "82379f37-a1d5-4567-bf1c-38d487f3987f"
      },
      "outputs": [
        {
          "output_type": "stream",
          "name": "stdout",
          "text": [
            "Unique 'benign_malignant' values: benign, malignant\n",
            "2678 entries do not possess the 'benign_malignant' parameter.\n"
          ]
        }
      ],
      "source": [
        "# List unique values for 'benign_malignant' and count missing entries\n",
        "unique_vals = set()\n",
        "missing_count = 0\n",
        "\n",
        "for entry in results:\n",
        "    clinical = entry.get(\"metadata\", {}).get(\"clinical\", {})\n",
        "    val = clinical.get(\"benign_malignant\", None)\n",
        "    if val is None:\n",
        "        missing_count += 1\n",
        "    else:\n",
        "        unique_vals.add(val)\n",
        "\n",
        "# Print the unique labels found\n",
        "if unique_vals:\n",
        "    print(f\"Unique 'benign_malignant' values: {', '.join(sorted(unique_vals))}\")\n",
        "else:\n",
        "    print(\"No entries possess the 'benign_malignant' parameter.\")\n",
        "\n",
        "# Report how many are missing\n",
        "if missing_count > 0:\n",
        "    print(f\"{missing_count} entries do not possess the 'benign_malignant' parameter.\")\n"
      ]
    },
    {
      "cell_type": "markdown",
      "metadata": {
        "id": "2YnSlS9RwDaT"
      },
      "source": [
        "**Summary:** A number of records are missing the `benign_malignant` attribute, so we must select an alternative field. The `diagnosis_1` attribute appears suitable for this task; next, we will examine its possible values.\n"
      ]
    },
    {
      "cell_type": "code",
      "execution_count": 11,
      "metadata": {
        "colab": {
          "base_uri": "https://localhost:8080/"
        },
        "id": "WXrnvrftvDJt",
        "outputId": "5b243b30-4927-405d-de1d-1aa1ae29e250"
      },
      "outputs": [
        {
          "output_type": "stream",
          "name": "stdout",
          "text": [
            " Unique 'diagnosis_1' values for entries missing 'benign_malignant':\n",
            "- Benign\n",
            "- Indeterminate\n",
            "- Malignant\n"
          ]
        }
      ],
      "source": [
        "missing_diagnosis_1_values = set()\n",
        "\n",
        "for entry in results:\n",
        "    clinical = entry.get(\"metadata\", {}).get(\"clinical\", {})\n",
        "\n",
        "    if \"benign_malignant\" not in clinical:\n",
        "        diag1 = clinical.get(\"diagnosis_1\")\n",
        "        if diag1:\n",
        "            missing_diagnosis_1_values.add(diag1)\n",
        "\n",
        "print(\" Unique 'diagnosis_1' values for entries missing 'benign_malignant':\")\n",
        "for value in sorted(missing_diagnosis_1_values):\n",
        "    print(\"-\", value)\n"
      ]
    },
    {
      "cell_type": "markdown",
      "metadata": {
        "id": "3f0ky8Skw2Pa"
      },
      "source": [
        "**Conclusion:** For records lacking the `benign_malignant` attribute, we will use `diagnosis_1`, which also indicates lesion pathology. Entries where `diagnosis_1` equals “Indeterminate” will be excluded, as they do not provide definitive diagnostic information.\n"
      ]
    },
    {
      "cell_type": "markdown",
      "metadata": {
        "id": "HXUniBxjnGhV"
      },
      "source": [
        "We will construct `lesions.csv` with the following columns:\n",
        "\n",
        "- **file**: `<isic_id>.jpg`  \n",
        "- **patient**: `lesion_id`  \n",
        "- **label**:  \n",
        "  - `0` for records where `benign_malignant == \"benign\"`  \n",
        "  - `1` for records where `benign_malignant == \"malignant\"`  \n",
        "\n",
        "\n",
        "\n",
        "\n",
        "\n"
      ]
    },
    {
      "cell_type": "code",
      "execution_count": 12,
      "metadata": {
        "colab": {
          "base_uri": "https://localhost:8080/"
        },
        "id": "zG48j6tMnE8S",
        "outputId": "01fa4d6c-10e9-49b3-f4b2-a43cb5e7f370"
      },
      "outputs": [
        {
          "output_type": "stream",
          "name": "stdout",
          "text": [
            "Took 0.1 seconds\n",
            "Saved lesions.csv with 11571 entries.\n"
          ]
        }
      ],
      "source": [
        "rows = []\n",
        "start = time.time()\n",
        "for result in results:\n",
        "    try:\n",
        "        isic_id = result[\"isic_id\"]\n",
        "        filename = f\"{isic_id}.jpg\"\n",
        "        clinical = result[\"metadata\"][\"clinical\"]\n",
        "        patient = clinical.get(\"lesion_id\", \"unknown\")\n",
        "\n",
        "        benign_malignant = clinical.get(\"benign_malignant\")\n",
        "        diagnosis_1 = clinical.get(\"diagnosis_1\", \"\")\n",
        "\n",
        "        if benign_malignant:\n",
        "            label = 1 if benign_malignant.lower() == \"malignant\" else 0\n",
        "        elif diagnosis_1 == \"Benign\":\n",
        "            label = 0\n",
        "        elif diagnosis_1 == \"Malignant\":\n",
        "            label = 1\n",
        "        else:  # Indeterminate or unknown\n",
        "            continue\n",
        "\n",
        "        rows.append({\n",
        "            \"file\": filename,\n",
        "            \"patient\": patient,\n",
        "            \"label\": label\n",
        "        })\n",
        "\n",
        "    except Exception as e:\n",
        "        print(f\"Skipped entry {result.get('isic_id', 'UNKNOWN')} due to error: {e}\")\n",
        "\n",
        "df = pd.DataFrame(rows)\n",
        "df.to_csv(\"lesions.csv\", index=False)\n",
        "\n",
        "elapsed = time.time() - start\n",
        "print(f\"Took {elapsed:.1f} seconds\")\n",
        "\n",
        "print(\"Saved lesions.csv with\", len(df), \"entries.\")\n"
      ]
    },
    {
      "cell_type": "markdown",
      "metadata": {
        "id": "ORwNNfl86qiq"
      },
      "source": [
        "# Data Split & Preprocessing\n",
        "\n",
        "\n"
      ]
    },
    {
      "cell_type": "markdown",
      "metadata": {
        "id": "riuDCukrYsBK"
      },
      "source": [
        "**Patient‐wise 70/15/15 split:**  \n",
        "We randomly assign 70 % of patients to training and split the remaining 30 % equally into validation and test sets, filter the DataFrame accordingly, save each subset to CSV, and confirm sample counts and an overall 81 %/19 % benign/malignant distribution.  "
      ]
    },
    {
      "cell_type": "code",
      "execution_count": 13,
      "metadata": {
        "colab": {
          "base_uri": "https://localhost:8080/"
        },
        "id": "qzYS9myR7Xk6",
        "outputId": "6770a9da-fa3d-47ef-9b66-43ba9cf90e63"
      },
      "outputs": [
        {
          "output_type": "stream",
          "name": "stdout",
          "text": [
            "Train: 8134 samples\n",
            "Val:   1694 samples\n",
            "Test:  1743 samples\n",
            "Overall dataset class distribution:\n",
            "  Benign  (0): 81.37%\n",
            "  Malignant (1): 18.63%\n"
          ]
        }
      ],
      "source": [
        "df = pd.read_csv(\"lesions.csv\")\n",
        "\n",
        "unique_patients = df[\"patient\"].unique()\n",
        "\n",
        "train_patients, temp_patients = train_test_split(\n",
        "    unique_patients, test_size=0.30, random_state=42\n",
        ")\n",
        "\n",
        "# Split temp → 50/50 into val and test (15% each)\n",
        "val_patients, test_patients = train_test_split(\n",
        "    temp_patients, test_size=0.50, random_state=42\n",
        ")\n",
        "\n",
        "# Create splits by filtering on patient ID\n",
        "train_df = df[df[\"patient\"].isin(train_patients)].reset_index(drop=True)\n",
        "val_df = df[df[\"patient\"].isin(val_patients)].reset_index(drop=True)\n",
        "test_df = df[df[\"patient\"].isin(test_patients)].reset_index(drop=True)\n",
        "\n",
        "train_df.to_csv(\"lesions_train.csv\", index=False)\n",
        "val_df.to_csv(\"lesions_val.csv\", index=False)\n",
        "test_df.to_csv(\"lesions_test.csv\", index=False)\n",
        "\n",
        "print(f\"Train: {len(train_df)} samples\")\n",
        "print(f\"Val:   {len(val_df)} samples\")\n",
        "print(f\"Test:  {len(test_df)} samples\")\n",
        "\n",
        "label_counts = df[\"label\"].value_counts(normalize=True) * 100\n",
        "print(f\"Overall dataset class distribution:\")\n",
        "print(f\"  Benign  (0): {label_counts.get(0, 0):.2f}%\")\n",
        "print(f\"  Malignant (1): {label_counts.get(1, 0):.2f}%\")\n"
      ]
    },
    {
      "cell_type": "markdown",
      "metadata": {
        "id": "L9FobtGl9C46"
      },
      "source": [
        "Augmentation and pre-processing"
      ]
    },
    {
      "cell_type": "code",
      "execution_count": 14,
      "metadata": {
        "id": "QM0H8fNa7smy"
      },
      "outputs": [],
      "source": [
        "train_transform = transforms.Compose([\n",
        "    transforms.RandomResizedCrop(224, scale=(0.9, 1.0)),\n",
        "    transforms.RandomHorizontalFlip(),\n",
        "    transforms.RandomVerticalFlip(),\n",
        "    transforms.RandomRotation(15),\n",
        "    transforms.ColorJitter(0.1, 0.1, 0.1),\n",
        "    transforms.ToTensor(),\n",
        "    transforms.Normalize([0.5,0.5,0.5], [0.5,0.5,0.5])\n",
        "\n",
        "])\n",
        "\n",
        "val_transform = transforms.Compose([\n",
        "    transforms.CenterCrop(224),\n",
        "    transforms.Resize(224),\n",
        "    transforms.ToTensor(),\n",
        "    transforms.Normalize([0.5,0.5,0.5],\n",
        "                         [0.5,0.5,0.5])\n",
        "])\n"
      ]
    },
    {
      "cell_type": "markdown",
      "source": [
        "# Dataset & Dataloaders"
      ],
      "metadata": {
        "id": "p3pAAg87FQDg"
      }
    },
    {
      "cell_type": "markdown",
      "metadata": {
        "id": "AhsbkyiC-JAY"
      },
      "source": [
        "This custom `SkinCancerDataset` class wraps our image DataFrame for PyTorch:\n",
        "\n",
        "- **`dataframe`**: Pandas DataFrame containing `file`, `patient`, and `label` columns.  \n",
        "- **`image_dir`**: Directory where the images (`<isic_id>.jpg`) are stored.  \n",
        "- **`transform`**: A `torchvision.transforms.Compose` object for preprocessing and (optionally) augmentations.  \n",
        "- **`return_filename`**: If `True`, `__getitem__` returns `(image, label, filename)`, useful for logging ."
      ]
    },
    {
      "cell_type": "code",
      "execution_count": 15,
      "metadata": {
        "id": "LvPWGcm_jIaH"
      },
      "outputs": [],
      "source": [
        "class SkinCancerDataset(Dataset):\n",
        "    def __init__(self, dataframe, image_dir, transform=None, return_filename=False):\n",
        "        self.df = dataframe\n",
        "        self.image_dir = image_dir\n",
        "        self.transform = transform\n",
        "        self.return_filename = return_filename\n",
        "\n",
        "    def __len__(self):\n",
        "        return len(self.df)\n",
        "\n",
        "    def __getitem__(self, idx):\n",
        "        row = self.df.iloc[idx]\n",
        "        img_path = os.path.join(self.image_dir, row[\"file\"])\n",
        "        label = torch.tensor(row[\"label\"], dtype=torch.float32)\n",
        "        image = Image.open(img_path).convert(\"RGB\")\n",
        "        if self.transform:\n",
        "            image = self.transform(image)\n",
        "\n",
        "        if self.return_filename:\n",
        "            return image, label, row[\"file\"]\n",
        "        else:\n",
        "            return image, label"
      ]
    },
    {
      "cell_type": "markdown",
      "metadata": {
        "id": "IF273kgGqWii"
      },
      "source": [
        "Wrap `SkinCancerDataset` in a PyTorch `DataLoader`"
      ]
    },
    {
      "cell_type": "code",
      "execution_count": 16,
      "metadata": {
        "id": "hCM35q_KjQnn"
      },
      "outputs": [],
      "source": [
        "\"\"\"# 2) Instantiate the training dataset & loader\n",
        "train_dataset = SkinCancerDataset(\n",
        "    train_df,\n",
        "    PATH,\n",
        "    transform=train_transform,\n",
        "    return_filename=False\n",
        ")\n",
        "train_loader = DataLoader(\n",
        "    train_dataset,\n",
        "    batch_size=32,\n",
        "    shuffle=True,      # Uniform sampling each epoch\n",
        "    num_workers=2\n",
        ")\n",
        "\n",
        "# 3) Instantiate the validation dataset & loader\n",
        "val_dataset = SkinCancerDataset(\n",
        "    val_df,\n",
        "    PATH,\n",
        "    transform=val_transform,\n",
        "    return_filename=True\n",
        ")\n",
        "val_loader = DataLoader(\n",
        "    val_dataset,\n",
        "    batch_size=32,\n",
        "    shuffle=False,\n",
        "    num_workers=2\n",
        ")\n",
        "\"\"\"\n",
        "\n",
        "# Cell: Training & Validation DataLoaders with 70% Benign / 30% Malignant Sampling\n",
        "\n",
        "train_dataset = SkinCancerDataset(\n",
        "    train_df,\n",
        "    PATH,\n",
        "    transform=train_transform,\n",
        "    return_filename=False\n",
        ")\n",
        "\n",
        "#Sample weights for a 70/30 benign/malignant mix\n",
        "p_m = train_df[\"label\"].mean()   # e.g. ~0.12\n",
        "w_benign    = 0.7 / (1.0 - p_m)\n",
        "w_malignant = 0.3 / p_m\n",
        "\n",
        "sample_weights = train_df[\"label\"].map({\n",
        "    0: w_benign,      # benign weight\n",
        "    1: w_malignant    # malignant weight\n",
        "}).values\n",
        "\n",
        "# Create the WeightedRandomSampler\n",
        "sampler = WeightedRandomSampler(\n",
        "    weights=sample_weights,\n",
        "    num_samples=len(sample_weights),\n",
        "    replacement=True\n",
        ")\n",
        "\n",
        "# Train DataLoader using the sampler\n",
        "train_loader = DataLoader(\n",
        "    train_dataset,\n",
        "    batch_size=32,\n",
        "    sampler=sampler,\n",
        "    num_workers=2,\n",
        "    pin_memory=True\n",
        ")\n",
        "\n",
        "# Validation DataLoader (unchanged)\n",
        "val_dataset = SkinCancerDataset(\n",
        "    val_df,\n",
        "    PATH,\n",
        "    transform=val_transform,\n",
        "    return_filename=True\n",
        ")\n",
        "val_loader = DataLoader(\n",
        "    val_dataset,\n",
        "    batch_size=32,\n",
        "    shuffle=False,\n",
        "    num_workers=2\n",
        ")\n",
        "\n"
      ]
    },
    {
      "cell_type": "markdown",
      "metadata": {
        "id": "mVfnTjfJ7u-E"
      },
      "source": [
        "# Model, Loss, Optimizer & Scheduler"
      ]
    },
    {
      "cell_type": "markdown",
      "metadata": {
        "id": "HfKUP8mD9fQ8"
      },
      "source": [
        "Instantiate a pretrained EfficientNet-B0 model with a single output neuron for binary (benign vs. malignant) classification.  "
      ]
    },
    {
      "cell_type": "code",
      "execution_count": 50,
      "metadata": {
        "id": "9mBpf8qX-Ff_",
        "colab": {
          "base_uri": "https://localhost:8080/",
          "height": 36
        },
        "outputId": "4aab7ec5-6b07-4007-e349-73c616b0f969"
      },
      "outputs": [
        {
          "output_type": "execute_result",
          "data": {
            "text/plain": [
              "'\\nmodel = timm.create_model(\\n    \"convnext_tiny\",      \\n    pretrained=True,\\n    nu<m_classes=1\\n)'"
            ],
            "application/vnd.google.colaboratory.intrinsic+json": {
              "type": "string"
            }
          },
          "metadata": {},
          "execution_count": 50
        }
      ],
      "source": [
        "\n",
        "model = timm.create_model(\n",
        "    \"efficientnet_b0\",\n",
        "    pretrained=True,\n",
        "    num_classes=1  # output neuron\n",
        ")\n",
        "\"\"\"\n",
        "model = timm.create_model(\n",
        "    \"convnext_tiny\",\n",
        "    pretrained=True,\n",
        "    nu<m_classes=1\n",
        ")\"\"\""
      ]
    },
    {
      "cell_type": "markdown",
      "metadata": {
        "id": "r9G7fDq9_OIv"
      },
      "source": [
        "Focal Binary Cross‐Entropy (Focal BCE) loss down‐weights easy examples and focuses training on hard, misclassified samples.\n",
        "\n",
        "\n",
        "\n",
        "\n",
        "\n"
      ]
    },
    {
      "cell_type": "code",
      "execution_count": 51,
      "metadata": {
        "id": "IW5o73pveE3S"
      },
      "outputs": [],
      "source": [
        "class FocalBCELoss(nn.Module):\n",
        "    def __init__(self, alpha=0.75, gamma=0.5, reduction=\"mean\", use_focal=True):\n",
        "        \"\"\"\n",
        "        alpha: weight for the positive (malignant) class (0 < alpha < 1)\n",
        "               smaller alpha → less emphasis on positives\n",
        "        gamma: focusing parameter (≥0), smaller → less focus on hard examples\n",
        "        reduction: 'mean' or 'sum'\n",
        "        use_focal: if False, falls back to plain BCEWithLogitsLoss\n",
        "        \"\"\"\n",
        "        super().__init__()\n",
        "        self.alpha = alpha\n",
        "        self.gamma = gamma\n",
        "        self.reduction = reduction\n",
        "        self.use_focal = use_focal\n",
        "\n",
        "        if self.use_focal:\n",
        "            # keep one BCE-with-logits loss per example for focal computation\n",
        "            self.bce = nn.BCEWithLogitsLoss(reduction='none')\n",
        "        else:\n",
        "            # if not using focal, just use standard BCEWithLogitsLoss with reduction\n",
        "            self.bce = nn.BCEWithLogitsLoss(reduction=self.reduction)\n",
        "\n",
        "    def forward(self, logits, targets):\n",
        "        # logits: raw model outputs (no sigmoid), shape [batch_size]\n",
        "        # targets: ground-truth labels (0.0 or 1.0), shape [batch_size]\n",
        "\n",
        "        if not self.use_focal:\n",
        "            # simple binary cross-entropy on logits\n",
        "            return self.bce(logits, targets)\n",
        "\n",
        "        # 1. Compute per-example BCE loss (no reduction)\n",
        "        bce_loss = self.bce(logits, targets)  # shape [batch_size]\n",
        "\n",
        "        # 2. Convert logits to probabilities in [0,1]\n",
        "        prob = torch.sigmoid(logits)          # shape [batch_size]\n",
        "\n",
        "        # 3. p_t: model's probability of the true class\n",
        "        #    for positive: prob; for negative: 1 - prob\n",
        "        p_t = prob * targets + (1 - prob) * (1 - targets)\n",
        "\n",
        "        # 4. alpha factor: alpha for positives, (1 - alpha) for negatives\n",
        "        alpha_factor = self.alpha * targets + (1 - self.alpha) * (1 - targets)\n",
        "\n",
        "        # 5. focal factor: (1 - p_t)^gamma — focuses on hard (uncertain) examples\n",
        "        focal_factor = (1 - p_t) ** self.gamma\n",
        "\n",
        "        # 6. Combine: alpha * focal * bce\n",
        "        loss = alpha_factor * focal_factor * bce_loss  # shape [batch_size]\n",
        "\n",
        "        # 7. Reduce to scalar\n",
        "        if self.reduction == \"mean\":\n",
        "            return loss.mean()\n",
        "        elif self.reduction == \"sum\":\n",
        "            return loss.sum()\n",
        "        else:\n",
        "            return loss  # return per-example losses if reduction is None\n"
      ]
    },
    {
      "cell_type": "markdown",
      "metadata": {
        "id": "y_qN0uzl_lXQ"
      },
      "source": [
        "**Training configuration:**  \n",
        "- **Loss:** Focal Binary Cross‐Entropy.  \n",
        "- **Optimizer:** AdamW (learning rate = 3e-4, weight decay = 1e-4).  \n",
        "- **LR Scheduler:** Cosine annealing over 30 epochs (`T_max=30`).  \n"
      ]
    },
    {
      "cell_type": "code",
      "execution_count": 52,
      "metadata": {
        "id": "g8kyLdPs-RSX"
      },
      "outputs": [],
      "source": [
        "\n",
        "criterion = FocalBCELoss(gamma=1.5,alpha=0.7)\n",
        "optimizer = AdamW(model.parameters(), lr=3e-4, weight_decay=1e-4)\n",
        "scheduler = CosineAnnealingLR(optimizer, T_max=30)\n",
        "\n",
        "device = torch.device(\"cuda\" if torch.cuda.is_available() else \"cpu\")\n",
        "model.to(device)\n",
        "\n",
        "if device.type == \"cuda\":\n",
        "    torch.cuda.reset_peak_memory_stats(device)\n"
      ]
    },
    {
      "cell_type": "markdown",
      "metadata": {
        "id": "_CPAWITFSNx3"
      },
      "source": [
        "# Training & Validation Helper Functions"
      ]
    },
    {
      "cell_type": "code",
      "source": [
        "def rand_bbox(size, lam):\n",
        "    W = size[2]\n",
        "    H = size[3]\n",
        "    cut_rat = np.sqrt(1. - lam)\n",
        "    cut_w = int(W * cut_rat)\n",
        "    cut_h = int(H * cut_rat)\n",
        "\n",
        "    cx = np.random.randint(W)\n",
        "    cy = np.random.randint(H)\n",
        "\n",
        "    bbx1 = np.clip(cx - cut_w // 2, 0, W)\n",
        "    bby1 = np.clip(cy - cut_h // 2, 0, H)\n",
        "    bbx2 = np.clip(cx + cut_w // 2, 0, W)\n",
        "    bby2 = np.clip(cy + cut_h // 2, 0, H)\n",
        "\n",
        "    return bbx1, bby1, bbx2, bby2\n",
        "\n",
        "\n",
        "\n",
        "def apply_mixup_or_cutmix(x, y, alpha=0.2, mode=None):\n",
        "    \"\"\"\n",
        "    Applies MixUp or CutMix to a batch of images and labels.\n",
        "\n",
        "    Args:\n",
        "        x (Tensor): batch of images (B, C, H, W)\n",
        "        y (Tensor): batch of labels (B,)\n",
        "        alpha (float): beta distribution parameter\n",
        "        mode (str or None): 'mixup', 'cutmix', or None\n",
        "\n",
        "    Returns:\n",
        "        x_aug (Tensor): augmented images\n",
        "        y_a (Tensor): original labels\n",
        "        y_b (Tensor): shuffled labels\n",
        "        lam (float): mix ratio\n",
        "    \"\"\"\n",
        "    if mode is None:\n",
        "        return x, y, y, 1.0  # no mixup/cutmix\n",
        "\n",
        "    lam = np.random.beta(alpha, alpha)\n",
        "    rand_index = torch.randperm(x.size(0)).to(x.device)\n",
        "    y_a = y\n",
        "    y_b = y[rand_index]\n",
        "    x2 = x[rand_index]\n",
        "\n",
        "    if mode == 'mixup':\n",
        "        x = lam * x + (1 - lam) * x2\n",
        "    elif mode == 'cutmix':\n",
        "        bbx1, bby1, bbx2, bby2 = rand_bbox(x.size(), lam)\n",
        "        x[:, :, bbx1:bbx2, bby1:bby2] = x2[:, :, bbx1:bbx2, bby1:bby2]\n",
        "        lam = 1 - ((bbx2 - bbx1) * (bby1 - bby2) / (x.size(-1) * x.size(-2)))\n",
        "    else:\n",
        "        raise ValueError(f\"Invalid mode: {mode}\")\n",
        "\n",
        "    return x, y_a, y_b, lam\n",
        "\n",
        "def apply_random_mix(x, y, alpha=0.4, prob_mixup=0.5, prob_cutmix=0.3):\n",
        "    \"\"\"\n",
        "    Randomly applies MixUp, CutMix, or nothing to the batch.\n",
        "    \"\"\"\n",
        "    p = np.random.rand()\n",
        "    if p < prob_mixup:\n",
        "        return apply_mixup_or_cutmix(x, y, alpha, mode=\"mixup\")\n",
        "    elif p < prob_mixup + prob_cutmix:\n",
        "        return apply_mixup_or_cutmix(x, y, alpha, mode=\"cutmix\")\n",
        "    else:\n",
        "        return x, y, y, 1.0  # no mixing\n"
      ],
      "metadata": {
        "id": "N4aLrmlUvyxz"
      },
      "execution_count": 53,
      "outputs": []
    },
    {
      "cell_type": "code",
      "source": [
        "def train_one_epoch(loader):\n",
        "    model.train()\n",
        "    running_loss = 0.0\n",
        "    logits_all, probs_all, labels_all = [], [], []\n",
        "\n",
        "    pbar = tqdm(loader, desc=\"  [Train]   \", leave=False)\n",
        "    for X, y in pbar:\n",
        "        X, y = X.to(device), y.to(device)\n",
        "\n",
        "        optimizer.zero_grad()\n",
        "\n",
        "        # === Always Apply MixUp ===\n",
        "        X, y_a, y_b, lam = apply_mixup_or_cutmix(X, y, mode=\"mixup\")\n",
        "        logits = model(X).squeeze()\n",
        "        loss = lam * criterion(logits, y_a.float()) + (1 - lam) * criterion(logits, y_b.float())\n",
        "\n",
        "        loss.backward()\n",
        "        optimizer.step()\n",
        "\n",
        "        running_loss += loss.item() * X.size(0)\n",
        "        logits_all.extend(logits.detach().cpu().numpy())\n",
        "        probs_all.extend(torch.sigmoid(logits).detach().cpu().numpy())\n",
        "        labels_all.extend(y.cpu().numpy())\n",
        "\n",
        "        pbar.set_postfix({\n",
        "            \"loss\": f\"{loss.item():.3f}\",\n",
        "            \"lr\": optimizer.param_groups[0]['lr']\n",
        "        })\n",
        "\n",
        "    avg_loss = running_loss / len(loader.dataset)\n",
        "    return avg_loss, logits_all, probs_all, labels_all\n",
        "\n",
        "\n",
        "def validate_one_epoch(loader):\n",
        "    model.eval()\n",
        "    logits_all, labels_all, files_all = [], [], []\n",
        "\n",
        "    with torch.no_grad():\n",
        "        for X, y, fn in tqdm(loader, desc=\"  [Validate]\", leave=False):\n",
        "            X = X.to(device)\n",
        "            logits = model(X).squeeze()\n",
        "            logits_all.extend(logits.cpu().numpy())\n",
        "            labels_all.extend(y.numpy())\n",
        "            files_all.extend(fn)\n",
        "\n",
        "    y_true = np.array(labels_all)\n",
        "    y_prob = torch.sigmoid(torch.tensor(logits_all)).cpu().numpy()\n",
        "    val_loss = criterion(\n",
        "        torch.tensor(logits_all),\n",
        "        torch.tensor(labels_all)\n",
        "    ).item()\n",
        "    auroc    = roc_auc_score(y_true, y_prob)\n",
        "\n",
        "    return val_loss, auroc, y_true, y_prob, files_all\n"
      ],
      "metadata": {
        "id": "DPyf0Em5jKrg"
      },
      "execution_count": 54,
      "outputs": []
    },
    {
      "cell_type": "markdown",
      "source": [
        "#Main Training Loop"
      ],
      "metadata": {
        "id": "sME-HYM5GGyC"
      }
    },
    {
      "cell_type": "code",
      "source": [
        "import torch, os\n",
        "\n",
        "def checkpoint_epoch(model, optimizer, scheduler,\n",
        "                     val_metric, best_metric, epoch,\n",
        "                     ckpt_dir=\"checkpoints\"):\n",
        "    \"\"\"\n",
        "    Saves `latest.pt` every call and `best.pt`\n",
        "    when `val_metric` improves over `best_metric`.\n",
        "\n",
        "    Returns the updated best_metric.\n",
        "    \"\"\"\n",
        "    os.makedirs(ckpt_dir, exist_ok=True)\n",
        "\n",
        "    state = {\n",
        "        'epoch'    : epoch,\n",
        "        'model'    : model.state_dict(),\n",
        "        'optim'    : optimizer.state_dict(),\n",
        "        'scheduler': scheduler.state_dict(),\n",
        "        'val_metric': val_metric,\n",
        "    }\n",
        "\n",
        "    # always keep a resume point\n",
        "    torch.save(state, f\"{ckpt_dir}/latest.pt\")\n",
        "\n",
        "    # save best-on-metric\n",
        "    if val_metric > best_metric:\n",
        "        best_metric = val_metric\n",
        "        torch.save(state, f\"{ckpt_dir}/best.pt\")\n",
        "        print(f\"✓ new BEST {val_metric:.4f}  — saved to best.pt\")\n",
        "\n",
        "    return best_metric\n"
      ],
      "metadata": {
        "id": "7VCz7VLoplkZ"
      },
      "execution_count": null,
      "outputs": []
    },
    {
      "cell_type": "code",
      "execution_count": 62,
      "metadata": {
        "colab": {
          "base_uri": "https://localhost:8080/"
        },
        "id": "cZT0nyL5efuh",
        "outputId": "2c08157d-5f64-4b07-cc29-a2576291514c"
      },
      "outputs": [
        {
          "output_type": "stream",
          "name": "stdout",
          "text": [
            "Starting training...\n",
            "\n",
            "--- Epoch 1/50 ---\n"
          ]
        },
        {
          "output_type": "stream",
          "name": "stderr",
          "text": []
        },
        {
          "output_type": "stream",
          "name": "stdout",
          "text": [
            "Train Loss: 0.0598 | Train AUROC: 0.7559\n",
            "Val   Loss: 0.0752 | Val   AUROC: 0.8854\n",
            "\n",
            "Epoch Time: 44.9 sec\n",
            "\n",
            "--- Epoch 2/50 ---\n"
          ]
        },
        {
          "output_type": "stream",
          "name": "stderr",
          "text": []
        },
        {
          "output_type": "stream",
          "name": "stdout",
          "text": [
            "Train Loss: 0.0577 | Train AUROC: 0.7584\n",
            "Val   Loss: 0.0790 | Val   AUROC: 0.8689\n",
            "\n",
            "Epoch Time: 44.5 sec\n",
            "\n",
            "--- Epoch 3/50 ---\n"
          ]
        },
        {
          "output_type": "stream",
          "name": "stderr",
          "text": []
        },
        {
          "output_type": "stream",
          "name": "stdout",
          "text": [
            "Train Loss: 0.0544 | Train AUROC: 0.7512\n",
            "Val   Loss: 0.0776 | Val   AUROC: 0.8793\n",
            "\n",
            "Epoch Time: 45.4 sec\n",
            "\n",
            "--- Epoch 4/50 ---\n"
          ]
        },
        {
          "output_type": "stream",
          "name": "stderr",
          "text": []
        },
        {
          "output_type": "stream",
          "name": "stdout",
          "text": [
            "Train Loss: 0.0557 | Train AUROC: 0.7543\n",
            "Val   Loss: 0.0982 | Val   AUROC: 0.8454\n",
            "\n",
            "Epoch Time: 45.7 sec\n",
            "\n",
            "--- Epoch 5/50 ---\n"
          ]
        },
        {
          "output_type": "stream",
          "name": "stderr",
          "text": []
        },
        {
          "output_type": "stream",
          "name": "stdout",
          "text": [
            "Train Loss: 0.0470 | Train AUROC: 0.7481\n",
            "Val   Loss: 0.0927 | Val   AUROC: 0.8451\n",
            "\n",
            "Epoch Time: 45.3 sec\n",
            "\n",
            "--- Epoch 6/50 ---\n"
          ]
        },
        {
          "output_type": "stream",
          "name": "stderr",
          "text": []
        },
        {
          "output_type": "stream",
          "name": "stdout",
          "text": [
            "Train Loss: 0.0462 | Train AUROC: 0.7633\n",
            "Val   Loss: 0.0906 | Val   AUROC: 0.8456\n",
            "\n",
            "Epoch Time: 44.9 sec\n",
            "\n",
            "--- Epoch 7/50 ---\n"
          ]
        },
        {
          "output_type": "stream",
          "name": "stderr",
          "text": []
        },
        {
          "output_type": "stream",
          "name": "stdout",
          "text": [
            "Train Loss: 0.0451 | Train AUROC: 0.7482\n",
            "Val   Loss: 0.0937 | Val   AUROC: 0.8740\n",
            "\n",
            "Epoch Time: 48.4 sec\n",
            "\n",
            "--- Epoch 8/50 ---\n"
          ]
        },
        {
          "output_type": "stream",
          "name": "stderr",
          "text": []
        },
        {
          "output_type": "stream",
          "name": "stdout",
          "text": [
            "Train Loss: 0.0491 | Train AUROC: 0.7469\n",
            "Val   Loss: 0.0888 | Val   AUROC: 0.8668\n",
            "\n",
            "Epoch Time: 48.8 sec\n",
            "\n",
            "--- Epoch 9/50 ---\n"
          ]
        },
        {
          "output_type": "stream",
          "name": "stderr",
          "text": []
        },
        {
          "output_type": "stream",
          "name": "stdout",
          "text": [
            "Train Loss: 0.0421 | Train AUROC: 0.7537\n",
            "Val   Loss: 0.0907 | Val   AUROC: 0.8677\n",
            "\n",
            "Epoch Time: 47.9 sec\n",
            "\n",
            "--- Epoch 10/50 ---\n"
          ]
        },
        {
          "output_type": "stream",
          "name": "stderr",
          "text": []
        },
        {
          "output_type": "stream",
          "name": "stdout",
          "text": [
            "Train Loss: 0.0403 | Train AUROC: 0.7599\n",
            "Val   Loss: 0.1010 | Val   AUROC: 0.8690\n",
            "\n",
            "Epoch Time: 50.4 sec\n",
            "\n",
            "--- Epoch 11/50 ---\n"
          ]
        },
        {
          "output_type": "stream",
          "name": "stderr",
          "text": []
        },
        {
          "output_type": "stream",
          "name": "stdout",
          "text": [
            "Train Loss: 0.0400 | Train AUROC: 0.7369\n",
            "Val   Loss: 0.0850 | Val   AUROC: 0.8639\n",
            "\n",
            "Epoch Time: 48.6 sec\n",
            "\n",
            "--- Epoch 12/50 ---\n"
          ]
        },
        {
          "output_type": "stream",
          "name": "stderr",
          "text": []
        },
        {
          "output_type": "stream",
          "name": "stdout",
          "text": [
            "Train Loss: 0.0425 | Train AUROC: 0.7830\n",
            "Val   Loss: 0.0827 | Val   AUROC: 0.8698\n",
            "\n",
            "Epoch Time: 49.9 sec\n",
            "\n",
            "--- Epoch 13/50 ---\n"
          ]
        },
        {
          "output_type": "stream",
          "name": "stderr",
          "text": []
        },
        {
          "output_type": "stream",
          "name": "stdout",
          "text": [
            "Train Loss: 0.0417 | Train AUROC: 0.7536\n",
            "Val   Loss: 0.0872 | Val   AUROC: 0.8708\n",
            "\n",
            "Epoch Time: 49.2 sec\n",
            "\n",
            "--- Epoch 14/50 ---\n"
          ]
        },
        {
          "output_type": "stream",
          "name": "stderr",
          "text": []
        },
        {
          "output_type": "stream",
          "name": "stdout",
          "text": [
            "Train Loss: 0.0398 | Train AUROC: 0.7499\n",
            "Val   Loss: 0.0809 | Val   AUROC: 0.8708\n",
            "\n",
            "Epoch Time: 47.5 sec\n",
            "\n",
            "--- Epoch 15/50 ---\n"
          ]
        },
        {
          "output_type": "stream",
          "name": "stderr",
          "text": []
        },
        {
          "output_type": "stream",
          "name": "stdout",
          "text": [
            "Train Loss: 0.0375 | Train AUROC: 0.7146\n",
            "Val   Loss: 0.0804 | Val   AUROC: 0.8768\n",
            "\n",
            "Epoch Time: 46.9 sec\n",
            "\n",
            "--- Epoch 16/50 ---\n"
          ]
        },
        {
          "output_type": "stream",
          "name": "stderr",
          "text": []
        },
        {
          "output_type": "stream",
          "name": "stdout",
          "text": [
            "Train Loss: 0.0348 | Train AUROC: 0.7482\n",
            "Val   Loss: 0.0891 | Val   AUROC: 0.8646\n",
            "\n",
            "Epoch Time: 45.8 sec\n",
            "\n",
            "--- Epoch 17/50 ---\n"
          ]
        },
        {
          "output_type": "stream",
          "name": "stderr",
          "text": []
        },
        {
          "output_type": "stream",
          "name": "stdout",
          "text": [
            "Train Loss: 0.0390 | Train AUROC: 0.7994\n",
            "Val   Loss: 0.0915 | Val   AUROC: 0.8593\n",
            "\n",
            "Epoch Time: 45.5 sec\n",
            "\n",
            "--- Epoch 18/50 ---\n"
          ]
        },
        {
          "output_type": "stream",
          "name": "stderr",
          "text": []
        },
        {
          "output_type": "stream",
          "name": "stdout",
          "text": [
            "Train Loss: 0.0341 | Train AUROC: 0.7905\n",
            "Val   Loss: 0.0892 | Val   AUROC: 0.8561\n",
            "\n",
            "Epoch Time: 46.0 sec\n",
            "\n",
            "--- Epoch 19/50 ---\n"
          ]
        },
        {
          "output_type": "stream",
          "name": "stderr",
          "text": []
        },
        {
          "output_type": "stream",
          "name": "stdout",
          "text": [
            "Train Loss: 0.0350 | Train AUROC: 0.7862\n",
            "Val   Loss: 0.0816 | Val   AUROC: 0.8653\n",
            "\n",
            "Epoch Time: 45.9 sec\n",
            "\n",
            "--- Epoch 20/50 ---\n"
          ]
        },
        {
          "output_type": "stream",
          "name": "stderr",
          "text": []
        },
        {
          "output_type": "stream",
          "name": "stdout",
          "text": [
            "Train Loss: 0.0364 | Train AUROC: 0.7737\n",
            "Val   Loss: 0.0877 | Val   AUROC: 0.8568\n",
            "\n",
            "Epoch Time: 46.4 sec\n",
            "\n",
            "--- Epoch 21/50 ---\n"
          ]
        },
        {
          "output_type": "stream",
          "name": "stderr",
          "text": []
        },
        {
          "output_type": "stream",
          "name": "stdout",
          "text": [
            "Train Loss: 0.0337 | Train AUROC: 0.7791\n",
            "Val   Loss: 0.0851 | Val   AUROC: 0.8593\n",
            "\n",
            "Epoch Time: 45.8 sec\n",
            "\n",
            "--- Epoch 22/50 ---\n"
          ]
        },
        {
          "output_type": "stream",
          "name": "stderr",
          "text": []
        },
        {
          "output_type": "stream",
          "name": "stdout",
          "text": [
            "Train Loss: 0.0359 | Train AUROC: 0.7787\n",
            "Val   Loss: 0.0793 | Val   AUROC: 0.8697\n",
            "\n",
            "Epoch Time: 45.4 sec\n",
            "\n",
            "--- Epoch 23/50 ---\n"
          ]
        },
        {
          "output_type": "stream",
          "name": "stderr",
          "text": []
        },
        {
          "output_type": "stream",
          "name": "stdout",
          "text": [
            "Train Loss: 0.0371 | Train AUROC: 0.7574\n",
            "Val   Loss: 0.0795 | Val   AUROC: 0.8693\n",
            "\n",
            "Epoch Time: 45.9 sec\n",
            "\n",
            "--- Epoch 24/50 ---\n"
          ]
        },
        {
          "output_type": "stream",
          "name": "stderr",
          "text": []
        },
        {
          "output_type": "stream",
          "name": "stdout",
          "text": [
            "Train Loss: 0.0326 | Train AUROC: 0.7690\n",
            "Val   Loss: 0.0901 | Val   AUROC: 0.8634\n",
            "\n",
            "Epoch Time: 46.3 sec\n",
            "\n",
            "--- Epoch 25/50 ---\n"
          ]
        },
        {
          "output_type": "stream",
          "name": "stderr",
          "text": []
        },
        {
          "output_type": "stream",
          "name": "stdout",
          "text": [
            "Train Loss: 0.0339 | Train AUROC: 0.7516\n",
            "Val   Loss: 0.0837 | Val   AUROC: 0.8694\n",
            "\n",
            "Epoch Time: 45.7 sec\n",
            "\n",
            "--- Epoch 26/50 ---\n"
          ]
        },
        {
          "output_type": "stream",
          "name": "stderr",
          "text": []
        },
        {
          "output_type": "stream",
          "name": "stdout",
          "text": [
            "Train Loss: 0.0344 | Train AUROC: 0.7788\n",
            "Val   Loss: 0.0833 | Val   AUROC: 0.8686\n",
            "\n",
            "Epoch Time: 46.4 sec\n",
            "\n",
            "--- Epoch 27/50 ---\n"
          ]
        },
        {
          "output_type": "stream",
          "name": "stderr",
          "text": []
        },
        {
          "output_type": "stream",
          "name": "stdout",
          "text": [
            "Train Loss: 0.0369 | Train AUROC: 0.7480\n",
            "Val   Loss: 0.0975 | Val   AUROC: 0.8504\n",
            "\n",
            "Epoch Time: 45.3 sec\n",
            "\n",
            "--- Epoch 28/50 ---\n"
          ]
        },
        {
          "output_type": "stream",
          "name": "stderr",
          "text": []
        },
        {
          "output_type": "stream",
          "name": "stdout",
          "text": [
            "Train Loss: 0.0406 | Train AUROC: 0.7400\n",
            "Val   Loss: 0.0836 | Val   AUROC: 0.8791\n",
            "\n",
            "Epoch Time: 45.1 sec\n",
            "\n",
            "--- Epoch 29/50 ---\n"
          ]
        },
        {
          "output_type": "stream",
          "name": "stderr",
          "text": []
        },
        {
          "output_type": "stream",
          "name": "stdout",
          "text": [
            "Train Loss: 0.0387 | Train AUROC: 0.7615\n",
            "Val   Loss: 0.0801 | Val   AUROC: 0.8705\n",
            "\n",
            "Epoch Time: 45.4 sec\n",
            "\n",
            "--- Epoch 30/50 ---\n"
          ]
        },
        {
          "output_type": "stream",
          "name": "stderr",
          "text": []
        },
        {
          "output_type": "stream",
          "name": "stdout",
          "text": [
            "Train Loss: 0.0353 | Train AUROC: 0.7897\n",
            "Val   Loss: 0.0963 | Val   AUROC: 0.8393\n",
            "\n",
            "Epoch Time: 45.6 sec\n",
            "\n",
            "--- Epoch 31/50 ---\n"
          ]
        },
        {
          "output_type": "stream",
          "name": "stderr",
          "text": []
        },
        {
          "output_type": "stream",
          "name": "stdout",
          "text": [
            "Train Loss: 0.0355 | Train AUROC: 0.7465\n",
            "Val   Loss: 0.0928 | Val   AUROC: 0.8710\n",
            "\n",
            "Epoch Time: 47.0 sec\n",
            "\n",
            "--- Epoch 32/50 ---\n"
          ]
        },
        {
          "output_type": "stream",
          "name": "stderr",
          "text": []
        },
        {
          "output_type": "stream",
          "name": "stdout",
          "text": [
            "Train Loss: 0.0426 | Train AUROC: 0.7431\n",
            "Val   Loss: 0.0923 | Val   AUROC: 0.8566\n",
            "\n",
            "Epoch Time: 46.2 sec\n",
            "\n",
            "--- Epoch 33/50 ---\n"
          ]
        },
        {
          "output_type": "stream",
          "name": "stderr",
          "text": []
        },
        {
          "output_type": "stream",
          "name": "stdout",
          "text": [
            "Train Loss: 0.0373 | Train AUROC: 0.7663\n",
            "Val   Loss: 0.1023 | Val   AUROC: 0.8446\n",
            "\n",
            "Epoch Time: 46.9 sec\n",
            "\n",
            "--- Epoch 34/50 ---\n"
          ]
        },
        {
          "output_type": "stream",
          "name": "stderr",
          "text": []
        },
        {
          "output_type": "stream",
          "name": "stdout",
          "text": [
            "Train Loss: 0.0420 | Train AUROC: 0.7697\n",
            "Val   Loss: 0.0960 | Val   AUROC: 0.8597\n",
            "\n",
            "Epoch Time: 45.2 sec\n",
            "\n",
            "--- Epoch 35/50 ---\n"
          ]
        },
        {
          "output_type": "stream",
          "name": "stderr",
          "text": []
        },
        {
          "output_type": "stream",
          "name": "stdout",
          "text": [
            "Train Loss: 0.0427 | Train AUROC: 0.7237\n",
            "Val   Loss: 0.1104 | Val   AUROC: 0.8420\n",
            "\n",
            "Epoch Time: 44.8 sec\n",
            "\n",
            "--- Epoch 36/50 ---\n"
          ]
        },
        {
          "output_type": "stream",
          "name": "stderr",
          "text": []
        },
        {
          "output_type": "stream",
          "name": "stdout",
          "text": [
            "Train Loss: 0.0424 | Train AUROC: 0.7529\n",
            "Val   Loss: 0.1101 | Val   AUROC: 0.8412\n",
            "\n",
            "Epoch Time: 45.4 sec\n",
            "\n",
            "--- Epoch 37/50 ---\n"
          ]
        },
        {
          "output_type": "stream",
          "name": "stderr",
          "text": []
        },
        {
          "output_type": "stream",
          "name": "stdout",
          "text": [
            "Train Loss: 0.0435 | Train AUROC: 0.7680\n",
            "Val   Loss: 0.0910 | Val   AUROC: 0.8507\n",
            "\n",
            "Epoch Time: 45.1 sec\n",
            "\n",
            "--- Epoch 38/50 ---\n"
          ]
        },
        {
          "output_type": "stream",
          "name": "stderr",
          "text": []
        },
        {
          "output_type": "stream",
          "name": "stdout",
          "text": [
            "Train Loss: 0.0441 | Train AUROC: 0.7687\n",
            "Val   Loss: 0.0836 | Val   AUROC: 0.8717\n",
            "\n",
            "Epoch Time: 45.3 sec\n",
            "\n",
            "--- Epoch 39/50 ---\n"
          ]
        },
        {
          "output_type": "stream",
          "name": "stderr",
          "text": []
        },
        {
          "output_type": "stream",
          "name": "stdout",
          "text": [
            "Train Loss: 0.0411 | Train AUROC: 0.7553\n",
            "Val   Loss: 0.1088 | Val   AUROC: 0.8065\n",
            "\n",
            "Epoch Time: 45.2 sec\n",
            "\n",
            "--- Epoch 40/50 ---\n"
          ]
        },
        {
          "output_type": "stream",
          "name": "stderr",
          "text": []
        },
        {
          "output_type": "stream",
          "name": "stdout",
          "text": [
            "Train Loss: 0.0424 | Train AUROC: 0.7482\n",
            "Val   Loss: 0.0845 | Val   AUROC: 0.8781\n",
            "\n",
            "Epoch Time: 45.7 sec\n",
            "\n",
            "--- Epoch 41/50 ---\n"
          ]
        },
        {
          "output_type": "stream",
          "name": "stderr",
          "text": []
        },
        {
          "output_type": "stream",
          "name": "stdout",
          "text": [
            "Train Loss: 0.0447 | Train AUROC: 0.7538\n",
            "Val   Loss: 0.0963 | Val   AUROC: 0.8608\n",
            "\n",
            "Epoch Time: 45.0 sec\n",
            "\n",
            "--- Epoch 42/50 ---\n"
          ]
        },
        {
          "output_type": "stream",
          "name": "stderr",
          "text": []
        },
        {
          "output_type": "stream",
          "name": "stdout",
          "text": [
            "Train Loss: 0.0434 | Train AUROC: 0.7431\n",
            "Val   Loss: 0.0945 | Val   AUROC: 0.8485\n",
            "\n",
            "Epoch Time: 45.5 sec\n",
            "\n",
            "--- Epoch 43/50 ---\n"
          ]
        },
        {
          "output_type": "stream",
          "name": "stderr",
          "text": []
        },
        {
          "output_type": "stream",
          "name": "stdout",
          "text": [
            "Train Loss: 0.0428 | Train AUROC: 0.7508\n",
            "Val   Loss: 0.1036 | Val   AUROC: 0.8289\n",
            "\n",
            "Epoch Time: 44.7 sec\n",
            "\n",
            "--- Epoch 44/50 ---\n"
          ]
        },
        {
          "output_type": "stream",
          "name": "stderr",
          "text": []
        },
        {
          "output_type": "stream",
          "name": "stdout",
          "text": [
            "Train Loss: 0.0460 | Train AUROC: 0.7648\n",
            "Val   Loss: 0.0960 | Val   AUROC: 0.8545\n",
            "\n",
            "Epoch Time: 44.4 sec\n",
            "\n",
            "--- Epoch 45/50 ---\n"
          ]
        },
        {
          "output_type": "stream",
          "name": "stderr",
          "text": []
        },
        {
          "output_type": "stream",
          "name": "stdout",
          "text": [
            "Train Loss: 0.0443 | Train AUROC: 0.7327\n",
            "Val   Loss: 0.0905 | Val   AUROC: 0.8546\n",
            "\n",
            "Epoch Time: 45.0 sec\n",
            "\n",
            "--- Epoch 46/50 ---\n"
          ]
        },
        {
          "output_type": "stream",
          "name": "stderr",
          "text": []
        },
        {
          "output_type": "stream",
          "name": "stdout",
          "text": [
            "Train Loss: 0.0459 | Train AUROC: 0.7490\n",
            "Val   Loss: 0.1013 | Val   AUROC: 0.8214\n",
            "\n",
            "Epoch Time: 45.0 sec\n",
            "\n",
            "--- Epoch 47/50 ---\n"
          ]
        },
        {
          "output_type": "stream",
          "name": "stderr",
          "text": []
        },
        {
          "output_type": "stream",
          "name": "stdout",
          "text": [
            "Train Loss: 0.0461 | Train AUROC: 0.7691\n",
            "Val   Loss: 0.0917 | Val   AUROC: 0.8755\n",
            "\n",
            "Epoch Time: 45.2 sec\n",
            "\n",
            "--- Epoch 48/50 ---\n"
          ]
        },
        {
          "output_type": "stream",
          "name": "stderr",
          "text": []
        },
        {
          "output_type": "stream",
          "name": "stdout",
          "text": [
            "Train Loss: 0.0443 | Train AUROC: 0.7475\n",
            "Val   Loss: 0.0932 | Val   AUROC: 0.8622\n",
            "\n",
            "Epoch Time: 44.5 sec\n",
            "\n",
            "--- Epoch 49/50 ---\n"
          ]
        },
        {
          "output_type": "stream",
          "name": "stderr",
          "text": []
        },
        {
          "output_type": "stream",
          "name": "stdout",
          "text": [
            "Train Loss: 0.0425 | Train AUROC: 0.7758\n",
            "Val   Loss: 0.0894 | Val   AUROC: 0.8614\n",
            "\n",
            "Epoch Time: 44.6 sec\n",
            "\n",
            "--- Epoch 50/50 ---\n"
          ]
        },
        {
          "output_type": "stream",
          "name": "stderr",
          "text": [
            "                                                             "
          ]
        },
        {
          "output_type": "stream",
          "name": "stdout",
          "text": [
            "Train Loss: 0.0473 | Train AUROC: 0.7490\n",
            "Val   Loss: 0.0905 | Val   AUROC: 0.8581\n",
            "\n",
            "Epoch Time: 44.8 sec\n",
            "\n"
          ]
        },
        {
          "output_type": "stream",
          "name": "stderr",
          "text": [
            "\r"
          ]
        }
      ],
      "source": [
        "n_epochs = 50\n",
        "epoch_times = []\n",
        "\n",
        "# Metric trackers\n",
        "train_losses, train_aurocs = [], []\n",
        "val_losses, val_aurocs     = [], []\n",
        "\n",
        "# Store raw predictions each epoch\n",
        "all_epoch_true = []\n",
        "all_epoch_prob = []\n",
        "all_epoch_files = []\n",
        "\n",
        "print(\"Starting training...\\n\")\n",
        "\n",
        "for epoch in range(1, n_epochs + 1):\n",
        "    start = time.time()\n",
        "    print(f\"--- Epoch {epoch}/{n_epochs} ---\")\n",
        "\n",
        "    # === Train ===\n",
        "    train_loss, train_logits, train_probs, train_labels = train_one_epoch(train_loader)\n",
        "    train_losses.append(train_loss)\n",
        "    # AUROC in trainning\n",
        "    train_auroc = roc_auc_score(train_labels, train_probs)\n",
        "    train_aurocs.append(train_auroc)\n",
        "\n",
        "    # === Validate ===\n",
        "    val_loss, val_auroc, y_true, y_prob, val_files = validate_one_epoch(val_loader)\n",
        "    val_losses.append(val_loss)\n",
        "    val_aurocs.append(val_auroc)\n",
        "\n",
        "    # === Save raw predictions for later thresholded analysis ===\n",
        "    all_epoch_true.append(y_true)\n",
        "    all_epoch_prob.append(y_prob)\n",
        "    all_epoch_files.append(val_files)\n",
        "\n",
        "    # === Print epoch summary (threshold‐independent only) ===\n",
        "    print(f\"Train Loss: {train_loss:.4f} | Train AUROC: {train_auroc:.4f}\")\n",
        "    print(f\"Val   Loss: {val_loss:.4f} | Val   AUROC: {val_auroc:.4f}\\n\")\n",
        "\n",
        "    # === Scheduler Step ===\n",
        "    scheduler.step()\n",
        "\n",
        "    # === Timing ===\n",
        "    elapsed = time.time() - start\n",
        "    epoch_times.append(elapsed)\n",
        "    print(f\"Epoch Time: {elapsed:.1f} sec\\n\")\n",
        "\"\"\"\n",
        "    # === Save weights ===\n",
        "    best_val_auroc = checkpoint_epoch(\n",
        "    model, optimizer, scheduler,\n",
        "    val_metric = val_auroc,\n",
        "    best_metric= best_val_auroc,\n",
        "    epoch      = epoch,\n",
        "    ckpt_dir   = \"checkpoints\"\n",
        "    )\"\"\"\n"
      ]
    },
    {
      "cell_type": "markdown",
      "source": [
        "#Learning Curves & Helper functions and Metric analysis"
      ],
      "metadata": {
        "id": "-a0GHblqGSJo"
      }
    },
    {
      "cell_type": "code",
      "source": [
        "history = pd.DataFrame({\n",
        "    \"epoch\":       list(range(1, n_epochs+1)),\n",
        "    \"train_loss\":  train_losses,\n",
        "    \"train_auroc\": train_aurocs,\n",
        "    \"val_loss\":    val_losses,\n",
        "    \"val_auroc\":   val_aurocs,\n",
        "})\n",
        "\n"
      ],
      "metadata": {
        "id": "l6pBx2CDn3sA"
      },
      "execution_count": 63,
      "outputs": []
    },
    {
      "cell_type": "code",
      "source": [
        "best_auroc_epoch   = history[\"val_auroc\"].idxmax() + 1\n",
        "print(f\"Best AUROC:   {history.val_auroc.max():.4f} at epoch {best_auroc_epoch}\")\n",
        "best_epoch = best_auroc_epoch\n"
      ],
      "metadata": {
        "colab": {
          "base_uri": "https://localhost:8080/"
        },
        "id": "RbHUTaiC1kWb",
        "outputId": "2bdef0a4-7455-46cd-d80b-7d19c8193306"
      },
      "execution_count": 64,
      "outputs": [
        {
          "output_type": "stream",
          "name": "stdout",
          "text": [
            "Best AUROC:   0.8854 at epoch 1\n"
          ]
        }
      ]
    },
    {
      "cell_type": "markdown",
      "source": [
        "**Loss vs. Epoch**"
      ],
      "metadata": {
        "id": "6PA9zoj1oSGt"
      }
    },
    {
      "cell_type": "code",
      "execution_count": 65,
      "metadata": {
        "colab": {
          "base_uri": "https://localhost:8080/",
          "height": 490
        },
        "id": "0P7XIx3O_g9m",
        "outputId": "20876642-853a-4506-d52e-50acb3f37755"
      },
      "outputs": [
        {
          "output_type": "display_data",
          "data": {
            "text/plain": [
              "<Figure size 640x480 with 0 Axes>"
            ]
          },
          "metadata": {}
        },
        {
          "output_type": "display_data",
          "data": {
            "text/plain": [
              "<Figure size 640x480 with 1 Axes>"
            ],
            "image/png": "[encoded data removed]"
          },
          "metadata": {}
        }
      ],
      "source": [
        "plt.figure()\n",
        "plt.figure()\n",
        "plt.plot(history.epoch, history.train_loss, label=\"Train Loss\")\n",
        "plt.plot(history.epoch, history.val_loss,   label=\"Val   Loss\")\n",
        "plt.xlabel(\"Epoch\"); plt.ylabel(\"Loss\")\n",
        "plt.legend(); plt.title(\"Loss Curves\")\n",
        "plt.show()\n"
      ]
    },
    {
      "cell_type": "markdown",
      "source": [
        "**AUROC vs. Epoch**"
      ],
      "metadata": {
        "id": "WrQJj-9hq59T"
      }
    },
    {
      "cell_type": "code",
      "source": [
        "plt.figure()\n",
        "plt.plot(history.epoch, history.val_auroc,    label=\"Val   AUROC\")\n",
        "plt.plot(history.epoch, history.train_auroc,    label=\"Train   AUROC\")\n",
        "plt.xlabel(\"Epoch\"); plt.ylabel(\"Metric\")\n",
        "plt.legend(); plt.title(\"Val Metrics Over Epochs\")\n",
        "plt.show()\n"
      ],
      "metadata": {
        "colab": {
          "base_uri": "https://localhost:8080/",
          "height": 472
        },
        "id": "JL5zx0IIq5F9",
        "outputId": "69e0a184-0a97-40d5-a9a2-7eae29d6919b"
      },
      "execution_count": 66,
      "outputs": [
        {
          "output_type": "display_data",
          "data": {
            "text/plain": [
              "<Figure size 640x480 with 1 Axes>"
            ],
            "image/png": "[encoded data removed]"
          },
          "metadata": {}
        }
      ]
    },
    {
      "cell_type": "markdown",
      "source": [
        "##Threshold Analysis on Final Epoch"
      ],
      "metadata": {
        "id": "YTePFEQcrSk-"
      }
    },
    {
      "cell_type": "code",
      "source": [
        "def get_epoch_preds(epoch_idx, threshold=0.5):\n",
        "    \"\"\"\n",
        "    Returns (filenames, y_true, y_prob, y_pred) for epoch `epoch_idx` (0-based),\n",
        "    where y_pred is computed by thresholding y_prob.\n",
        "    \"\"\"\n",
        "    files  = all_epoch_files[epoch_idx]\n",
        "    y_true = np.array(all_epoch_true[epoch_idx])\n",
        "    y_prob = np.array(all_epoch_prob[epoch_idx])\n",
        "    y_pred = (y_prob >= threshold).astype(int)\n",
        "    return files, y_true, y_prob, y_pred"
      ],
      "metadata": {
        "id": "BeMCCMo_JmYm"
      },
      "execution_count": 67,
      "outputs": []
    },
    {
      "cell_type": "code",
      "source": [
        "best_epoch = 50\n",
        "# - files:      list of validation filenames\n",
        "# - y_true:     ground-truth labels (0 or 1)\n",
        "# - y_prob:     predicted probabilities from the model (after sigmoid)\n",
        "# - y_pred:     binary predictions using the threshold (by default,0.5)\n",
        "files, y_true, y_prob, y_pred = get_epoch_preds(best_epoch - 1)\n"
      ],
      "metadata": {
        "id": "5PuMJeXZrxWr"
      },
      "execution_count": 68,
      "outputs": []
    },
    {
      "cell_type": "markdown",
      "source": [
        "**ROC Curve with Youden Poin**"
      ],
      "metadata": {
        "id": "gpHsPagYr7Xj"
      }
    },
    {
      "cell_type": "code",
      "source": [
        "fpr, tpr, thresholds = roc_curve(y_true, y_prob)\n",
        "J = tpr - fpr\n",
        "idx = J.argmax()\n",
        "youden_thresh = thresholds[idx]\n",
        "\n",
        "plt.figure()\n",
        "plt.plot(fpr, tpr, label=f\"ROC (AUROC={history.val_auroc.max():.3f})\")\n",
        "plt.scatter(fpr[idx], tpr[idx], color=\"red\", label=f\"Youden={youden_thresh:.2f}\")\n",
        "plt.xlabel(\"False Positive Rate\"); plt.ylabel(\"True Positive Rate\")\n",
        "plt.legend(); plt.title(\"ROC Curve with Youden Point\")\n",
        "plt.show()\n"
      ],
      "metadata": {
        "colab": {
          "base_uri": "https://localhost:8080/",
          "height": 472
        },
        "id": "hX73-1W6rxZR",
        "outputId": "07d3b0cb-36ac-425c-a31f-7b8c0f94113d"
      },
      "execution_count": 69,
      "outputs": [
        {
          "output_type": "display_data",
          "data": {
            "text/plain": [
              "<Figure size 640x480 with 1 Axes>"
            ],
            "image/png": "[encoded data removed]"
          },
          "metadata": {}
        }
      ]
    },
    {
      "cell_type": "markdown",
      "source": [
        "**Precision-Recall Curve**"
      ],
      "metadata": {
        "id": "27ip4PgKsFz1"
      }
    },
    {
      "cell_type": "code",
      "source": [
        "precision, recall, _ = precision_recall_curve(y_true, y_prob)\n",
        "plt.figure()\n",
        "plt.plot(recall, precision)\n",
        "plt.xlabel(\"Recall\"); plt.ylabel(\"Precision\")\n",
        "plt.title(\"Precision-Recall Curve\")\n",
        "plt.show()"
      ],
      "metadata": {
        "colab": {
          "base_uri": "https://localhost:8080/",
          "height": 472
        },
        "id": "_xnwnQQdrxbt",
        "outputId": "a82195d6-babe-46f2-8b05-342c2a64fbdd"
      },
      "execution_count": 70,
      "outputs": [
        {
          "output_type": "display_data",
          "data": {
            "text/plain": [
              "<Figure size 640x480 with 1 Axes>"
            ],
            "image/png": "[encoded data removed]"
          },
          "metadata": {}
        }
      ]
    },
    {
      "cell_type": "markdown",
      "source": [
        "**Confusion Matrices at Both Thresholds**"
      ],
      "metadata": {
        "id": "O8oPU5dGsMti"
      }
    },
    {
      "cell_type": "code",
      "source": [
        "fig, axes = plt.subplots(1, 2, figsize=(10,4))\n",
        "for ax, (thr, title) in zip(axes, [(0.5, \"Thresh=0.5\"), (youden_thresh, f\"Youden={youden_thresh:.2f}\")]):\n",
        "    cm = confusion_matrix(y_true, (y_prob >= thr).astype(\n",
        "      int))\n",
        "    sns.heatmap(cm, annot=True, fmt=\"d\", ax=ax,\n",
        "                xticklabels=[\"Benign\",\"Malignant\"], yticklabels=[\"Benign\",\"Malignant\"])\n",
        "    ax.set_title(title)\n",
        "    ax.set_xlabel(\"Predicted\"); ax.set_ylabel(\"True\")\n",
        "plt.suptitle(\"Confusion Matrices\")\n",
        "plt.show()\n"
      ],
      "metadata": {
        "colab": {
          "base_uri": "https://localhost:8080/",
          "height": 428
        },
        "id": "VutXWLjnrxd_",
        "outputId": "8c5df686-4be6-483f-b063-668650ee2438"
      },
      "execution_count": 71,
      "outputs": [
        {
          "output_type": "display_data",
          "data": {
            "text/plain": [
              "<Figure size 1000x400 with 4 Axes>"
            ],
            "image/png": "[encoded data removed]"
          },
          "metadata": {}
        }
      ]
    },
    {
      "cell_type": "markdown",
      "source": [
        "##Final Classification Reports"
      ],
      "metadata": {
        "id": "qCJTBRaSsX77"
      }
    },
    {
      "cell_type": "code",
      "source": [
        "from sklearn.metrics import f1_score\n",
        "\n",
        "auroc_at_x = history.val_auroc.iloc[best_epoch - 1]\n",
        "print(f\"AUROC at epoch {best_epoch} = {auroc_at_x:.4f}\")\n",
        "\n",
        "for thr in [0.5, youden_thresh]:\n",
        "    print(f\"--- Classification Report @ threshold = {thr:.2f} ---\")\n",
        "    y_pred_thr = (y_prob >= thr).astype(int)\n",
        "    print(classification_report(y_true, y_pred_thr, target_names=[\"Benign\",\"Malignant\"]))\n",
        "\n",
        "    balacc = balanced_accuracy_score(y_true, y_pred_thr)\n",
        "    macro_f1 = f1_score(y_true, y_pred_thr, average=\"macro\")\n",
        "\n",
        "    print(f\"Balanced Accuracy: {balacc:.3f}\")\n",
        "    print(f\"Macro F1 Score:    {macro_f1:.3f}\")\n"
      ],
      "metadata": {
        "colab": {
          "base_uri": "https://localhost:8080/"
        },
        "id": "R1Jn1Bh6sZHn",
        "outputId": "49eee4a4-e13b-4dc0-a861-3c180e660d1b"
      },
      "execution_count": 72,
      "outputs": [
        {
          "output_type": "stream",
          "name": "stdout",
          "text": [
            "AUROC at epoch 50 = 0.8581\n",
            "--- Classification Report @ threshold = 0.50 ---\n",
            "              precision    recall  f1-score   support\n",
            "\n",
            "      Benign       0.91      0.90      0.90      1396\n",
            "   Malignant       0.55      0.57      0.56       298\n",
            "\n",
            "    accuracy                           0.84      1694\n",
            "   macro avg       0.73      0.74      0.73      1694\n",
            "weighted avg       0.84      0.84      0.84      1694\n",
            "\n",
            "Balanced Accuracy: 0.736\n",
            "Macro F1 Score:    0.731\n",
            "--- Classification Report @ threshold = 0.31 ---\n",
            "              precision    recall  f1-score   support\n",
            "\n",
            "      Benign       0.95      0.79      0.86      1396\n",
            "   Malignant       0.45      0.79      0.57       298\n",
            "\n",
            "    accuracy                           0.79      1694\n",
            "   macro avg       0.70      0.79      0.72      1694\n",
            "weighted avg       0.86      0.79      0.81      1694\n",
            "\n",
            "Balanced Accuracy: 0.791\n",
            "Macro F1 Score:    0.716\n"
          ]
        }
      ]
    },
    {
      "cell_type": "code",
      "source": [
        "########################################################END"
      ],
      "metadata": {
        "id": "eGHciMIvrxgs"
      },
      "execution_count": 73,
      "outputs": []
    },
    {
      "cell_type": "code",
      "execution_count": 74,
      "metadata": {
        "colab": {
          "base_uri": "https://localhost:8080/",
          "height": 472
        },
        "id": "EVqyuFyc0RTf",
        "outputId": "03e33fd0-66fa-4d7a-d94b-1914d4cebff2"
      },
      "outputs": [
        {
          "output_type": "display_data",
          "data": {
            "text/plain": [
              "<Figure size 640x480 with 1 Axes>"
            ],
            "image/png": "[encoded data removed]"
          },
          "metadata": {}
        }
      ],
      "source": [
        "plt.plot(epoch_times, marker='o')\n",
        "plt.xlabel(\"Epoch\")\n",
        "plt.ylabel(\"Time (s)\")\n",
        "plt.title(\"Epoch Duration\")\n",
        "plt.grid(True)\n",
        "plt.show()"
      ]
    },
    {
      "cell_type": "code",
      "execution_count": 76,
      "metadata": {
        "colab": {
          "base_uri": "https://localhost:8080/"
        },
        "id": "8u69UUmRVXdq",
        "outputId": "67bd3976-9e65-45aa-958a-f1670fd7ea7c"
      },
      "outputs": [
        {
          "output_type": "stream",
          "name": "stdout",
          "text": [
            "\n",
            "--- Threshold = 0.50 ---\n",
            "Correct cancer diagnoses:     171/298 = 57.38%\n",
            "Correct non-cancer diagnoses: 1254/1396 = 89.83%\n",
            "\n",
            "--- Threshold = 0.31 ---\n",
            "Correct cancer diagnoses:     234/298 = 78.52%\n",
            "Correct non-cancer diagnoses: 1108/1396 = 79.37%\n"
          ]
        }
      ],
      "source": [
        "def print_correct_diagnoses(epoch_idx, thresholds=[0.50, 0.37]):\n",
        "    for thresh in thresholds:\n",
        "        print(f\"\\n--- Threshold = {thresh:.2f} ---\")\n",
        "        _, y_true, _, y_pred = get_epoch_preds(epoch_idx, threshold=thresh)\n",
        "\n",
        "        total_malignant = (y_true == 1).sum()\n",
        "        total_benign    = (y_true == 0).sum()\n",
        "\n",
        "        correct_malignant = ((y_true == 1) & (y_pred == 1)).sum()\n",
        "        correct_benign    = ((y_true == 0) & (y_pred == 0)).sum()\n",
        "\n",
        "        pct_malignant = 100 * correct_malignant / total_malignant\n",
        "        pct_benign    = 100 * correct_benign    / total_benign\n",
        "\n",
        "        print(f\"Correct cancer diagnoses:     {correct_malignant}/{total_malignant} = {pct_malignant:.2f}%\")\n",
        "        print(f\"Correct non-cancer diagnoses: {correct_benign}/{total_benign} = {pct_benign:.2f}%\")\n",
        "\n",
        "print_correct_diagnoses(epoch_idx=best_epoch-1, thresholds=[0.50, 0.31])\n"
      ]
    },
    {
      "cell_type": "markdown",
      "source": [
        "coisas que ta:\n",
        "\n",
        "```\n",
        "melhores resultados:\n",
        "\n",
        "y=1.5 apha = 0.7\n",
        "split de 30/70 para o treino de malignos\n",
        "com mixup em todos menos ultimos 3 epochs\n",
        "\n",
        "\n",
        "testando:\n",
        "0.5 alpha em vez de 0.5 e 2 po Y\n",
        "mixup e cutmix na fucncao train one epoch\n",
        "```\n",
        "\n",
        "TODO:\n",
        "marcar tempos e memoria\n",
        "guardar os pesos"
      ],
      "metadata": {
        "id": "ufuQq89OmdAd"
      }
    },
    {
      "cell_type": "code",
      "source": [],
      "metadata": {
        "id": "TdXuYQ1DxI-J"
      },
      "execution_count": null,
      "outputs": []
    }
  ],
  "metadata": {
    "accelerator": "GPU",
    "colab": {
      "gpuType": "T4",
      "machine_shape": "hm",
      "provenance": [],
      "collapsed_sections": [
        "VVFYbmS5PjXk",
        "shSr8dCOmPHz",
        "ORwNNfl86qiq",
        "p3pAAg87FQDg"
      ]
    },
    "kernelspec": {
      "display_name": "Python 3",
      "name": "python3"
    },
    "language_info": {
      "name": "python"
    }
  },
  "nbformat": 4,
  "nbformat_minor": 0
}